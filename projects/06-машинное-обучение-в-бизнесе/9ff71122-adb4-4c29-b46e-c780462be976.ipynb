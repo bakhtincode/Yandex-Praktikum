{
 "cells": [
  {
   "cell_type": "markdown",
   "metadata": {},
   "source": [
    "# Выбор локации для скважины"
   ]
  },
  {
   "cell_type": "markdown",
   "metadata": {},
   "source": [
    "Допустим, вы работаете в добывающей компании «ГлавРосГосНефть». Нужно решить, где бурить новую скважину.\n",
    "\n",
    "Вам предоставлены пробы нефти в трёх регионах: в каждом 10 000 месторождений, где измерили качество нефти и объём её запасов. Постройте модель машинного обучения, которая поможет определить регион, где добыча принесёт наибольшую прибыль. Проанализируйте возможную прибыль и риски техникой *Bootstrap.*\n",
    "\n",
    "Шаги для выбора локации:\n",
    "\n",
    "- В избранном регионе ищут месторождения, для каждого определяют значения признаков;\n",
    "- Строят модель и оценивают объём запасов;\n",
    "- Выбирают месторождения с самым высокими оценками значений. Количество месторождений зависит от бюджета компании и стоимости разработки одной скважины;\n",
    "- Прибыль равна суммарной прибыли отобранных месторождений."
   ]
  },
  {
   "cell_type": "markdown",
   "metadata": {},
   "source": [
    "## Загрузка и подготовка данных"
   ]
  },
  {
   "cell_type": "code",
   "execution_count": 1,
   "metadata": {},
   "outputs": [],
   "source": [
    "import pandas as pd\n",
    "from sklearn.model_selection import train_test_split\n",
    "from sklearn.linear_model import LinearRegression\n",
    "from sklearn.metrics import mean_squared_error\n",
    "from sklearn.preprocessing import StandardScaler\n",
    "from sklearn.utils import shuffle\n",
    "import warnings\n",
    "import matplotlib.pyplot as plt\n",
    "import numpy as np\n",
    "import seaborn as sns\n",
    "\n",
    "\n",
    "warnings.filterwarnings('ignore')"
   ]
  },
  {
   "cell_type": "markdown",
   "metadata": {},
   "source": [
    "Загрузим данные геологоразведки трёх регионов:"
   ]
  },
  {
   "cell_type": "code",
   "execution_count": 2,
   "metadata": {},
   "outputs": [
    {
     "name": "stdout",
     "output_type": "stream",
     "text": [
      "<class 'pandas.core.frame.DataFrame'>\n",
      "RangeIndex: 100000 entries, 0 to 99999\n",
      "Data columns (total 5 columns):\n",
      "id         100000 non-null object\n",
      "f0         100000 non-null float64\n",
      "f1         100000 non-null float64\n",
      "f2         100000 non-null float64\n",
      "product    100000 non-null float64\n",
      "dtypes: float64(4), object(1)\n",
      "memory usage: 3.8+ MB\n"
     ]
    }
   ],
   "source": [
    "df_0 = pd.read_csv('/datasets/geo_data_0.csv')\n",
    "df_0.info()"
   ]
  },
  {
   "cell_type": "code",
   "execution_count": 3,
   "metadata": {},
   "outputs": [
    {
     "data": {
      "text/html": [
       "<div>\n",
       "<style scoped>\n",
       "    .dataframe tbody tr th:only-of-type {\n",
       "        vertical-align: middle;\n",
       "    }\n",
       "\n",
       "    .dataframe tbody tr th {\n",
       "        vertical-align: top;\n",
       "    }\n",
       "\n",
       "    .dataframe thead th {\n",
       "        text-align: right;\n",
       "    }\n",
       "</style>\n",
       "<table border=\"1\" class=\"dataframe\">\n",
       "  <thead>\n",
       "    <tr style=\"text-align: right;\">\n",
       "      <th></th>\n",
       "      <th>id</th>\n",
       "      <th>f0</th>\n",
       "      <th>f1</th>\n",
       "      <th>f2</th>\n",
       "      <th>product</th>\n",
       "    </tr>\n",
       "  </thead>\n",
       "  <tbody>\n",
       "    <tr>\n",
       "      <td>0</td>\n",
       "      <td>txEyH</td>\n",
       "      <td>0.705745</td>\n",
       "      <td>-0.497823</td>\n",
       "      <td>1.221170</td>\n",
       "      <td>105.280062</td>\n",
       "    </tr>\n",
       "    <tr>\n",
       "      <td>1</td>\n",
       "      <td>2acmU</td>\n",
       "      <td>1.334711</td>\n",
       "      <td>-0.340164</td>\n",
       "      <td>4.365080</td>\n",
       "      <td>73.037750</td>\n",
       "    </tr>\n",
       "    <tr>\n",
       "      <td>2</td>\n",
       "      <td>409Wp</td>\n",
       "      <td>1.022732</td>\n",
       "      <td>0.151990</td>\n",
       "      <td>1.419926</td>\n",
       "      <td>85.265647</td>\n",
       "    </tr>\n",
       "    <tr>\n",
       "      <td>3</td>\n",
       "      <td>iJLyR</td>\n",
       "      <td>-0.032172</td>\n",
       "      <td>0.139033</td>\n",
       "      <td>2.978566</td>\n",
       "      <td>168.620776</td>\n",
       "    </tr>\n",
       "    <tr>\n",
       "      <td>4</td>\n",
       "      <td>Xdl7t</td>\n",
       "      <td>1.988431</td>\n",
       "      <td>0.155413</td>\n",
       "      <td>4.751769</td>\n",
       "      <td>154.036647</td>\n",
       "    </tr>\n",
       "  </tbody>\n",
       "</table>\n",
       "</div>"
      ],
      "text/plain": [
       "      id        f0        f1        f2     product\n",
       "0  txEyH  0.705745 -0.497823  1.221170  105.280062\n",
       "1  2acmU  1.334711 -0.340164  4.365080   73.037750\n",
       "2  409Wp  1.022732  0.151990  1.419926   85.265647\n",
       "3  iJLyR -0.032172  0.139033  2.978566  168.620776\n",
       "4  Xdl7t  1.988431  0.155413  4.751769  154.036647"
      ]
     },
     "execution_count": 3,
     "metadata": {},
     "output_type": "execute_result"
    }
   ],
   "source": [
    "df_0.head()"
   ]
  },
  {
   "cell_type": "code",
   "execution_count": 4,
   "metadata": {},
   "outputs": [
    {
     "name": "stdout",
     "output_type": "stream",
     "text": [
      "<class 'pandas.core.frame.DataFrame'>\n",
      "RangeIndex: 100000 entries, 0 to 99999\n",
      "Data columns (total 5 columns):\n",
      "id         100000 non-null object\n",
      "f0         100000 non-null float64\n",
      "f1         100000 non-null float64\n",
      "f2         100000 non-null float64\n",
      "product    100000 non-null float64\n",
      "dtypes: float64(4), object(1)\n",
      "memory usage: 3.8+ MB\n"
     ]
    }
   ],
   "source": [
    "df_1 = pd.read_csv('/datasets/geo_data_1.csv')\n",
    "df_1.info()"
   ]
  },
  {
   "cell_type": "code",
   "execution_count": 5,
   "metadata": {},
   "outputs": [
    {
     "data": {
      "text/html": [
       "<div>\n",
       "<style scoped>\n",
       "    .dataframe tbody tr th:only-of-type {\n",
       "        vertical-align: middle;\n",
       "    }\n",
       "\n",
       "    .dataframe tbody tr th {\n",
       "        vertical-align: top;\n",
       "    }\n",
       "\n",
       "    .dataframe thead th {\n",
       "        text-align: right;\n",
       "    }\n",
       "</style>\n",
       "<table border=\"1\" class=\"dataframe\">\n",
       "  <thead>\n",
       "    <tr style=\"text-align: right;\">\n",
       "      <th></th>\n",
       "      <th>id</th>\n",
       "      <th>f0</th>\n",
       "      <th>f1</th>\n",
       "      <th>f2</th>\n",
       "      <th>product</th>\n",
       "    </tr>\n",
       "  </thead>\n",
       "  <tbody>\n",
       "    <tr>\n",
       "      <td>0</td>\n",
       "      <td>kBEdx</td>\n",
       "      <td>-15.001348</td>\n",
       "      <td>-8.276000</td>\n",
       "      <td>-0.005876</td>\n",
       "      <td>3.179103</td>\n",
       "    </tr>\n",
       "    <tr>\n",
       "      <td>1</td>\n",
       "      <td>62mP7</td>\n",
       "      <td>14.272088</td>\n",
       "      <td>-3.475083</td>\n",
       "      <td>0.999183</td>\n",
       "      <td>26.953261</td>\n",
       "    </tr>\n",
       "    <tr>\n",
       "      <td>2</td>\n",
       "      <td>vyE1P</td>\n",
       "      <td>6.263187</td>\n",
       "      <td>-5.948386</td>\n",
       "      <td>5.001160</td>\n",
       "      <td>134.766305</td>\n",
       "    </tr>\n",
       "    <tr>\n",
       "      <td>3</td>\n",
       "      <td>KcrkZ</td>\n",
       "      <td>-13.081196</td>\n",
       "      <td>-11.506057</td>\n",
       "      <td>4.999415</td>\n",
       "      <td>137.945408</td>\n",
       "    </tr>\n",
       "    <tr>\n",
       "      <td>4</td>\n",
       "      <td>AHL4O</td>\n",
       "      <td>12.702195</td>\n",
       "      <td>-8.147433</td>\n",
       "      <td>5.004363</td>\n",
       "      <td>134.766305</td>\n",
       "    </tr>\n",
       "  </tbody>\n",
       "</table>\n",
       "</div>"
      ],
      "text/plain": [
       "      id         f0         f1        f2     product\n",
       "0  kBEdx -15.001348  -8.276000 -0.005876    3.179103\n",
       "1  62mP7  14.272088  -3.475083  0.999183   26.953261\n",
       "2  vyE1P   6.263187  -5.948386  5.001160  134.766305\n",
       "3  KcrkZ -13.081196 -11.506057  4.999415  137.945408\n",
       "4  AHL4O  12.702195  -8.147433  5.004363  134.766305"
      ]
     },
     "execution_count": 5,
     "metadata": {},
     "output_type": "execute_result"
    }
   ],
   "source": [
    "df_1.head()"
   ]
  },
  {
   "cell_type": "code",
   "execution_count": 6,
   "metadata": {
    "scrolled": true
   },
   "outputs": [
    {
     "name": "stdout",
     "output_type": "stream",
     "text": [
      "<class 'pandas.core.frame.DataFrame'>\n",
      "RangeIndex: 100000 entries, 0 to 99999\n",
      "Data columns (total 5 columns):\n",
      "id         100000 non-null object\n",
      "f0         100000 non-null float64\n",
      "f1         100000 non-null float64\n",
      "f2         100000 non-null float64\n",
      "product    100000 non-null float64\n",
      "dtypes: float64(4), object(1)\n",
      "memory usage: 3.8+ MB\n"
     ]
    }
   ],
   "source": [
    "df_2 = pd.read_csv('/datasets/geo_data_2.csv')\n",
    "df_2.info()"
   ]
  },
  {
   "cell_type": "code",
   "execution_count": 7,
   "metadata": {},
   "outputs": [
    {
     "data": {
      "text/html": [
       "<div>\n",
       "<style scoped>\n",
       "    .dataframe tbody tr th:only-of-type {\n",
       "        vertical-align: middle;\n",
       "    }\n",
       "\n",
       "    .dataframe tbody tr th {\n",
       "        vertical-align: top;\n",
       "    }\n",
       "\n",
       "    .dataframe thead th {\n",
       "        text-align: right;\n",
       "    }\n",
       "</style>\n",
       "<table border=\"1\" class=\"dataframe\">\n",
       "  <thead>\n",
       "    <tr style=\"text-align: right;\">\n",
       "      <th></th>\n",
       "      <th>id</th>\n",
       "      <th>f0</th>\n",
       "      <th>f1</th>\n",
       "      <th>f2</th>\n",
       "      <th>product</th>\n",
       "    </tr>\n",
       "  </thead>\n",
       "  <tbody>\n",
       "    <tr>\n",
       "      <td>0</td>\n",
       "      <td>fwXo0</td>\n",
       "      <td>-1.146987</td>\n",
       "      <td>0.963328</td>\n",
       "      <td>-0.828965</td>\n",
       "      <td>27.758673</td>\n",
       "    </tr>\n",
       "    <tr>\n",
       "      <td>1</td>\n",
       "      <td>WJtFt</td>\n",
       "      <td>0.262778</td>\n",
       "      <td>0.269839</td>\n",
       "      <td>-2.530187</td>\n",
       "      <td>56.069697</td>\n",
       "    </tr>\n",
       "    <tr>\n",
       "      <td>2</td>\n",
       "      <td>ovLUW</td>\n",
       "      <td>0.194587</td>\n",
       "      <td>0.289035</td>\n",
       "      <td>-5.586433</td>\n",
       "      <td>62.871910</td>\n",
       "    </tr>\n",
       "    <tr>\n",
       "      <td>3</td>\n",
       "      <td>q6cA6</td>\n",
       "      <td>2.236060</td>\n",
       "      <td>-0.553760</td>\n",
       "      <td>0.930038</td>\n",
       "      <td>114.572842</td>\n",
       "    </tr>\n",
       "    <tr>\n",
       "      <td>4</td>\n",
       "      <td>WPMUX</td>\n",
       "      <td>-0.515993</td>\n",
       "      <td>1.716266</td>\n",
       "      <td>5.899011</td>\n",
       "      <td>149.600746</td>\n",
       "    </tr>\n",
       "  </tbody>\n",
       "</table>\n",
       "</div>"
      ],
      "text/plain": [
       "      id        f0        f1        f2     product\n",
       "0  fwXo0 -1.146987  0.963328 -0.828965   27.758673\n",
       "1  WJtFt  0.262778  0.269839 -2.530187   56.069697\n",
       "2  ovLUW  0.194587  0.289035 -5.586433   62.871910\n",
       "3  q6cA6  2.236060 -0.553760  0.930038  114.572842\n",
       "4  WPMUX -0.515993  1.716266  5.899011  149.600746"
      ]
     },
     "execution_count": 7,
     "metadata": {},
     "output_type": "execute_result"
    }
   ],
   "source": [
    "df_2.head()"
   ]
  },
  {
   "cell_type": "markdown",
   "metadata": {},
   "source": [
    "+ id — уникальный идентификатор скважины;\n",
    "+ f0, f1, f2 — три признака точек (неважно, что они означают, но сами признаки значимы);\n",
    "+ product — объём запасов в скважине (тыс. баррелей)."
   ]
  },
  {
   "cell_type": "markdown",
   "metadata": {},
   "source": [
    "Во всех таблицах отсутствуют пропуски. Данные готовы для разделения на выборки и последующего обучения. "
   ]
  },
  {
   "cell_type": "markdown",
   "metadata": {},
   "source": [
    "Удалим идентификатор из каждой таблицы, т.к они только нагружают модель и никакого значеия не несут. "
   ]
  },
  {
   "cell_type": "code",
   "execution_count": 8,
   "metadata": {},
   "outputs": [],
   "source": [
    "df_0 = df_0.drop(['id'], axis=1)\n",
    "df_1 = df_1.drop(['id'], axis=1)\n",
    "df_2 = df_2.drop(['id'], axis=1)"
   ]
  },
  {
   "cell_type": "markdown",
   "metadata": {},
   "source": [
    "## Обучение и проверка модели"
   ]
  },
  {
   "cell_type": "markdown",
   "metadata": {},
   "source": [
    "### Разбивка данных на обучающую и валидационную выборки. "
   ]
  },
  {
   "cell_type": "markdown",
   "metadata": {},
   "source": [
    "Подготовим функцию для разбивки данных на обучающие и валидационные выборки(75:25)."
   ]
  },
  {
   "cell_type": "code",
   "execution_count": 9,
   "metadata": {},
   "outputs": [],
   "source": [
    "def split_data(df, target):\n",
    "    features = df.drop([target] , axis=1)\n",
    "    target = df[target]\n",
    "\n",
    "    features_train, features_valid, target_train, target_valid = train_test_split(\n",
    "    features, target, test_size=0.25, random_state=12345)\n",
    "    \n",
    "    return features_train, features_valid, target_train, target_valid"
   ]
  },
  {
   "cell_type": "markdown",
   "metadata": {},
   "source": [
    "Разобьем данные для каждой таблицы на обучающую и валидационную выборки в соотношении 75:25."
   ]
  },
  {
   "cell_type": "code",
   "execution_count": 10,
   "metadata": {},
   "outputs": [],
   "source": [
    "features_train_0, features_valid_0, target_train_0, target_valid_0 = split_data(df_0, 'product')"
   ]
  },
  {
   "cell_type": "code",
   "execution_count": 11,
   "metadata": {},
   "outputs": [],
   "source": [
    "features_train_1, features_valid_1, target_train_1, target_valid_1 = split_data(df_1, 'product')"
   ]
  },
  {
   "cell_type": "code",
   "execution_count": 12,
   "metadata": {},
   "outputs": [],
   "source": [
    "features_train_2, features_valid_2, target_train_2, target_valid_2 = split_data(df_2, 'product')"
   ]
  },
  {
   "cell_type": "markdown",
   "metadata": {},
   "source": [
    "### Обучение модели и предсказания на валидационной выборке."
   ]
  },
  {
   "cell_type": "markdown",
   "metadata": {},
   "source": [
    "**Убедимся в необходимости масштабирования признаков.**"
   ]
  },
  {
   "cell_type": "code",
   "execution_count": 13,
   "metadata": {},
   "outputs": [
    {
     "name": "stdout",
     "output_type": "stream",
     "text": [
      "На немастшабированных данных RMSE - 37.5794217150813\n"
     ]
    }
   ],
   "source": [
    "model = LinearRegression()\n",
    "\n",
    "model.fit(features_train_0, target_train_0)\n",
    "predicted_target_0 = model.predict(features_valid_0)\n",
    "print('На немастшабированных данных RMSE -', mean_squared_error(target_valid_0, predicted_target_0)**0.5)\n"
   ]
  },
  {
   "cell_type": "code",
   "execution_count": 14,
   "metadata": {},
   "outputs": [
    {
     "name": "stdout",
     "output_type": "stream",
     "text": [
      "На мастшабированных данных RMSE - 37.5794217150813\n"
     ]
    }
   ],
   "source": [
    "features_train_0s, features_valid_0s, target_train_0s, target_valid_0s = split_data(df_0, 'product')\n",
    "\n",
    "numeric = ['f0', 'f1', 'f2']\n",
    "scaler = StandardScaler()\n",
    "scaler.fit(features_train_0s[numeric])\n",
    "features_train_0s[numeric] = scaler.transform(features_train_0s[numeric])\n",
    "features_valid_0s[numeric] = scaler.transform(features_valid_0s[numeric])\n",
    "\n",
    "model.fit(features_train_0s, target_train_0s)\n",
    "predicted_target_0s = model.predict(features_valid_0s)\n",
    "print('На мастшабированных данных RMSE -', mean_squared_error(target_valid_0s, predicted_target_0s)**0.5)\n"
   ]
  },
  {
   "cell_type": "markdown",
   "metadata": {},
   "source": [
    "**Вывод**: в масташиборовании признаков модели нет необходимости, т.к обе модели показали одинаоквые метрики RMSE - 37.5794217150813"
   ]
  },
  {
   "cell_type": "markdown",
   "metadata": {},
   "source": [
    "**Подготовим функцию для обучения и предсказания модели.**"
   ]
  },
  {
   "cell_type": "code",
   "execution_count": 15,
   "metadata": {},
   "outputs": [],
   "source": [
    "def model_prediction(df, features_train, features_valid, target_train, target_valid):\n",
    "    \n",
    "    model.fit(features_train, target_train)\n",
    "    predicted_valid = model.predict(features_valid)\n",
    "    mse = mean_squared_error(target_valid, predicted_valid)\n",
    "    rmse = mse**0.5\n",
    "    mean_product = predicted_valid.mean()\n",
    "\n",
    "    return rmse, mean_product, predicted_valid\n"
   ]
  },
  {
   "cell_type": "markdown",
   "metadata": {},
   "source": [
    "### Средний запас предсказанного сырья и RMSE модели."
   ]
  },
  {
   "cell_type": "code",
   "execution_count": 16,
   "metadata": {},
   "outputs": [
    {
     "name": "stdout",
     "output_type": "stream",
     "text": [
      "Регион №1. Средний запас предсказанного сырья: 92.59256778438038, RMSE = 37.5794217150813\n"
     ]
    }
   ],
   "source": [
    "rmse_0, mean_product_0, predicted_valid_0 = model_prediction(df_0, features_train_0, features_valid_0, target_train_0, target_valid_0)\n",
    "print(f'Регион №1. Средний запас предсказанного сырья: {mean_product_0}, RMSE = {rmse_0}')\n"
   ]
  },
  {
   "cell_type": "code",
   "execution_count": 17,
   "metadata": {},
   "outputs": [
    {
     "name": "stdout",
     "output_type": "stream",
     "text": [
      "Регион №2. Средний запас предсказанного сырья: 68.728546895446, RMSE = 0.893099286775616\n"
     ]
    }
   ],
   "source": [
    "rmse_1, mean_product_1, predicted_valid_1 = model_prediction(df_1, features_train_1, features_valid_1, target_train_1, target_valid_1)\n",
    "print(f'Регион №2. Средний запас предсказанного сырья: {mean_product_1}, RMSE = {rmse_1}')\n"
   ]
  },
  {
   "cell_type": "code",
   "execution_count": 18,
   "metadata": {},
   "outputs": [
    {
     "name": "stdout",
     "output_type": "stream",
     "text": [
      "Регион №3. Средний запас предсказанного сырья: 94.96504596800489, RMSE = 40.02970873393434\n"
     ]
    }
   ],
   "source": [
    "rmse_2, mean_product_2, predicted_valid_2 = model_prediction(df_2, features_train_2, features_valid_2, target_train_2, target_valid_2)\n",
    "print(f'Регион №3. Средний запас предсказанного сырья: {mean_product_2}, RMSE = {rmse_2}')"
   ]
  },
  {
   "cell_type": "markdown",
   "metadata": {},
   "source": [
    "**Вывод:** для дальнейшего рассмотрения больше всего подходят 1 и 3 регионы. В данных регионах находится наибольшее количества сырья. "
   ]
  },
  {
   "cell_type": "markdown",
   "metadata": {},
   "source": [
    "## Подготовка к расчёту прибыли"
   ]
  },
  {
   "cell_type": "markdown",
   "metadata": {},
   "source": [
    "**Исходные данные для расчета прибыли.**"
   ]
  },
  {
   "cell_type": "code",
   "execution_count": 19,
   "metadata": {},
   "outputs": [],
   "source": [
    "budget = 10000000000\n",
    "all_wells = 500\n",
    "best_wells = 200\n",
    "price_per_barrel = 450"
   ]
  },
  {
   "cell_type": "markdown",
   "metadata": {},
   "source": [
    "**Объём сырья для безубыточной разработки новой скважины**"
   ]
  },
  {
   "cell_type": "code",
   "execution_count": 20,
   "metadata": {},
   "outputs": [
    {
     "name": "stdout",
     "output_type": "stream",
     "text": [
      "Объём сырья для безубыточной разработки новой скважины - 111111.11111111112 барелей\n"
     ]
    }
   ],
   "source": [
    "raw_material_volume = (budget/price_per_barrel)/best_wells\n",
    "print(f'Объём сырья для безубыточной разработки новой скважины - {raw_material_volume} барелей')"
   ]
  },
  {
   "cell_type": "code",
   "execution_count": 21,
   "metadata": {
    "scrolled": true
   },
   "outputs": [
    {
     "name": "stdout",
     "output_type": "stream",
     "text": [
      "Регион №1. Средний запас предсказанного сырья: 92.59256778438038\n",
      "Разница объёма сырья для безубыточной разработки новой скважины и предсказанного объема сырья составляет:\n",
      "\n",
      "-18518.543326730753 барелей\n"
     ]
    }
   ],
   "source": [
    "print(f'Регион №1. Средний запас предсказанного сырья: {mean_product_0}')\n",
    "print(f'Разница объёма сырья для безубыточной разработки новой скважины и предсказанного объема сырья составляет:') \n",
    "print()      \n",
    "print(f'{mean_product_0 * 1000-raw_material_volume} барелей')"
   ]
  },
  {
   "cell_type": "code",
   "execution_count": 22,
   "metadata": {},
   "outputs": [
    {
     "name": "stdout",
     "output_type": "stream",
     "text": [
      "Регион №2. Средний запас предсказанного сырья: 68.728546895446\n",
      "Разница объёма сырья для безубыточной разработки новой скважины и предсказанного объема сырья составляет:\n",
      "\n",
      "-42382.564215665116 барелей\n"
     ]
    }
   ],
   "source": [
    "print(f'Регион №2. Средний запас предсказанного сырья: {mean_product_1}')\n",
    "print(f'Разница объёма сырья для безубыточной разработки новой скважины и предсказанного объема сырья составляет:') \n",
    "print()      \n",
    "print(f'{mean_product_1 * 1000-raw_material_volume} барелей')"
   ]
  },
  {
   "cell_type": "code",
   "execution_count": 23,
   "metadata": {},
   "outputs": [
    {
     "name": "stdout",
     "output_type": "stream",
     "text": [
      "Регион №3. Средний запас предсказанного сырья: 94.96504596800489\n",
      "Разница объёма сырья для безубыточной разработки новой скважины и предсказанного объема сырья составляет:\n",
      "\n",
      "-16146.065143106243 барелей\n"
     ]
    }
   ],
   "source": [
    "print(f'Регион №3. Средний запас предсказанного сырья: {mean_product_2}')\n",
    "print(f'Разница объёма сырья для безубыточной разработки новой скважины и предсказанного объема сырья составляет:') \n",
    "print()      \n",
    "print(f'{mean_product_2 * 1000-raw_material_volume} барелей')"
   ]
  },
  {
   "cell_type": "markdown",
   "metadata": {},
   "source": [
    "**Наименьшая разница объема сырья между безубыточной разработкой и предсказанным объемом составляет у 3 региона, наибольшая - 2 регион**"
   ]
  },
  {
   "cell_type": "markdown",
   "metadata": {},
   "source": [
    "## Расчёт прибыли и рисков "
   ]
  },
  {
   "cell_type": "markdown",
   "metadata": {},
   "source": [
    "Функция для расчёта прибыли по выбранным скважинам и предсказаниям модели."
   ]
  },
  {
   "cell_type": "code",
   "execution_count": 24,
   "metadata": {},
   "outputs": [],
   "source": [
    "def revenue(target, predictions, count):\n",
    "    target = pd.Series(target).reset_index(drop=True)\n",
    "    predictions = pd.Series(predictions).reset_index(drop=True)\n",
    "    predictions_s = predictions.sort_values(ascending=False)[:count].index\n",
    "    selected = target[predictions_s]\n",
    "    return price_per_barrel*1000 * selected.sum() - budget\n"
   ]
  },
  {
   "cell_type": "code",
   "execution_count": 25,
   "metadata": {},
   "outputs": [],
   "source": [
    "def bootstrap(target, probabilities, iterations, sample_size):\n",
    "    state = np.random.RandomState(12345)\n",
    "    values = []\n",
    "    for i in range(iterations):\n",
    "        target_subsample = target.sample(n=sample_size, random_state=state, replace=True)\n",
    "        probs_subsample = probabilities[target_subsample.index]\n",
    "        values.append(revenue(target_subsample, probs_subsample, best_wells))\n",
    "\n",
    "    values = pd.Series(values)\n",
    "    mean = values.mean()\n",
    "    risk = (values < 0).mean()\n",
    "    \n",
    "    lower = values.quantile(0.025)\n",
    "    upper = values.quantile(0.975)\n",
    "    return round(mean,2), round(risk, 2), lower, upper"
   ]
  },
  {
   "cell_type": "code",
   "execution_count": 26,
   "metadata": {
    "scrolled": false
   },
   "outputs": [
    {
     "name": "stdout",
     "output_type": "stream",
     "text": [
      "Данные по первому региону.\n",
      "Средняя прибыль по региону = 396164984.80 тыс.руб.\n",
      "95% доверительный интервал от -111215545.89 до 909766941.55 тыс.руб.\n",
      "Процент риска 7.00%\n"
     ]
    }
   ],
   "source": [
    "mean_0, risk_0, lower_0, upper_0 = bootstrap(target_valid_0.reset_index(drop=True), predicted_valid_0, 1000, 500)\n",
    "print('Данные по первому региону.')\n",
    "print('Средняя прибыль по региону = {:.2f} тыс.руб.'.format(mean_0))\n",
    "print('95% доверительный интервал от {:.2f} до {:.2f} тыс.руб.'.format(lower_0, upper_0))\n",
    "print('Процент риска {:.2%}'.format(risk_0))"
   ]
  },
  {
   "cell_type": "code",
   "execution_count": 27,
   "metadata": {
    "scrolled": true
   },
   "outputs": [
    {
     "name": "stdout",
     "output_type": "stream",
     "text": [
      "Данные по второму региону.\n",
      "Средняя прибыль по региону = 456045105.79 руб.\n",
      "95% доверительный интервал от 33820509.40 до 852289453.87 руб.\n",
      "Процент риска 2.00%\n"
     ]
    }
   ],
   "source": [
    "mean_1, risk_1, lower_1, upper_1 = bootstrap(target_valid_1.reset_index(drop=True), predicted_valid_1, 1000, 500)\n",
    "print('Данные по второму региону.')\n",
    "print('Средняя прибыль по региону = {:.2f} руб.'.format(mean_1))\n",
    "print('95% доверительный интервал от {:.2f} до {:.2f} руб.'.format(lower_1, upper_1))\n",
    "print('Процент риска {:.2%}'.format(risk_1))"
   ]
  },
  {
   "cell_type": "code",
   "execution_count": 28,
   "metadata": {
    "scrolled": true
   },
   "outputs": [
    {
     "name": "stdout",
     "output_type": "stream",
     "text": [
      "Данные по второму региону.\n",
      "Средняя прибыль по региону = 404403866.57 руб.\n",
      "95% доверительный интервал от -163350413.40 до 950359574.92 руб.\n",
      "Процент риска 8.00%\n"
     ]
    }
   ],
   "source": [
    "mean_2, risk_2, lower_2, upper_2 = bootstrap(target_valid_2.reset_index(drop=True), predicted_valid_2, 1000, 500)\n",
    "print('Данные по второму региону.')\n",
    "print('Средняя прибыль по региону = {:.2f} руб.'.format(mean_2))\n",
    "print('95% доверительный интервал от {:.2f} до {:.2f} руб.'.format(lower_2, upper_2))\n",
    "print('Процент риска {:.2%}'.format(risk_2))"
   ]
  },
  {
   "cell_type": "markdown",
   "metadata": {},
   "source": [
    "***Вывод***\n",
    "\n",
    "Согласно прогнозам сделанным с помощью техники Bootstrap, наиболее прибыльным будет разработка месторождений в регионе №2. В данном регионе самые высокие показатели средней выручки и 95%-ного доверительного интервала. Также в регионе №2 самый низкий риск убытков."
   ]
  }
 ],
 "metadata": {
  "ExecuteTimeLog": [
   {
    "duration": 4,
    "start_time": "2021-06-12T23:12:43.179Z"
   },
   {
    "duration": 1086,
    "start_time": "2021-06-12T23:12:52.331Z"
   },
   {
    "duration": 134,
    "start_time": "2021-06-12T23:12:53.419Z"
   },
   {
    "duration": 11,
    "start_time": "2021-06-12T23:12:53.555Z"
   },
   {
    "duration": 130,
    "start_time": "2021-06-12T23:12:53.568Z"
   },
   {
    "duration": 12,
    "start_time": "2021-06-12T23:12:53.701Z"
   },
   {
    "duration": 141,
    "start_time": "2021-06-12T23:12:53.715Z"
   },
   {
    "duration": 12,
    "start_time": "2021-06-12T23:12:53.858Z"
   },
   {
    "duration": 30,
    "start_time": "2021-06-12T23:12:53.871Z"
   },
   {
    "duration": 5,
    "start_time": "2021-06-12T23:12:53.903Z"
   },
   {
    "duration": 26,
    "start_time": "2021-06-12T23:12:53.910Z"
   },
   {
    "duration": 20,
    "start_time": "2021-06-12T23:12:53.938Z"
   },
   {
    "duration": 40,
    "start_time": "2021-06-12T23:12:53.960Z"
   },
   {
    "duration": 87,
    "start_time": "2021-06-12T23:12:54.002Z"
   },
   {
    "duration": 124,
    "start_time": "2021-06-12T23:12:54.091Z"
   },
   {
    "duration": 69,
    "start_time": "2021-06-12T23:12:54.217Z"
   },
   {
    "duration": 20,
    "start_time": "2021-06-12T23:12:54.289Z"
   },
   {
    "duration": 99,
    "start_time": "2021-06-12T23:12:54.386Z"
   },
   {
    "duration": 99,
    "start_time": "2021-06-12T23:12:54.488Z"
   },
   {
    "duration": 3,
    "start_time": "2021-06-12T23:12:54.589Z"
   },
   {
    "duration": 91,
    "start_time": "2021-06-12T23:12:54.594Z"
   },
   {
    "duration": 4,
    "start_time": "2021-06-12T23:12:54.688Z"
   },
   {
    "duration": 7,
    "start_time": "2021-06-12T23:12:54.694Z"
   },
   {
    "duration": 5,
    "start_time": "2021-06-12T23:12:54.702Z"
   },
   {
    "duration": 4,
    "start_time": "2021-06-12T23:12:54.709Z"
   },
   {
    "duration": 4,
    "start_time": "2021-06-12T23:13:54.649Z"
   },
   {
    "duration": 3,
    "start_time": "2021-06-12T23:27:53.550Z"
   },
   {
    "duration": 4,
    "start_time": "2021-06-12T23:34:36.230Z"
   },
   {
    "duration": 7,
    "start_time": "2021-06-12T23:35:08.903Z"
   },
   {
    "duration": 282,
    "start_time": "2021-06-12T23:50:52.417Z"
   },
   {
    "duration": 379,
    "start_time": "2021-06-13T00:05:10.788Z"
   },
   {
    "duration": 2367,
    "start_time": "2021-06-13T00:05:59.629Z"
   },
   {
    "duration": 5,
    "start_time": "2021-06-13T00:15:20.170Z"
   },
   {
    "duration": 179,
    "start_time": "2021-06-13T00:26:45.996Z"
   },
   {
    "duration": 191,
    "start_time": "2021-06-13T00:26:56.300Z"
   },
   {
    "duration": 3,
    "start_time": "2021-06-13T00:34:32.993Z"
   },
   {
    "duration": 12,
    "start_time": "2021-06-13T00:35:27.455Z"
   },
   {
    "duration": 13,
    "start_time": "2021-06-13T00:35:28.507Z"
   },
   {
    "duration": 14,
    "start_time": "2021-06-13T00:35:29.177Z"
   },
   {
    "duration": 59,
    "start_time": "2021-06-13T00:35:53.188Z"
   },
   {
    "duration": 185,
    "start_time": "2021-06-13T00:36:16.327Z"
   },
   {
    "duration": 2825,
    "start_time": "2021-06-13T00:37:09.958Z"
   },
   {
    "duration": 361,
    "start_time": "2021-06-13T00:37:40.188Z"
   },
   {
    "duration": 5,
    "start_time": "2021-06-13T00:38:30.120Z"
   },
   {
    "duration": 347,
    "start_time": "2021-06-13T00:38:31.715Z"
   },
   {
    "duration": 7,
    "start_time": "2021-06-13T00:39:47.383Z"
   },
   {
    "duration": 384,
    "start_time": "2021-06-13T00:39:49.572Z"
   },
   {
    "duration": 5,
    "start_time": "2021-06-13T00:40:02.156Z"
   },
   {
    "duration": 413,
    "start_time": "2021-06-13T00:40:04.056Z"
   },
   {
    "duration": 1157,
    "start_time": "2021-06-13T00:40:23.967Z"
   },
   {
    "duration": 136,
    "start_time": "2021-06-13T00:40:25.126Z"
   },
   {
    "duration": 11,
    "start_time": "2021-06-13T00:40:25.264Z"
   },
   {
    "duration": 134,
    "start_time": "2021-06-13T00:40:25.284Z"
   },
   {
    "duration": 8,
    "start_time": "2021-06-13T00:40:25.420Z"
   },
   {
    "duration": 140,
    "start_time": "2021-06-13T00:40:25.429Z"
   },
   {
    "duration": 8,
    "start_time": "2021-06-13T00:40:25.570Z"
   },
   {
    "duration": 15,
    "start_time": "2021-06-13T00:40:25.580Z"
   },
   {
    "duration": 6,
    "start_time": "2021-06-13T00:40:25.598Z"
   },
   {
    "duration": 17,
    "start_time": "2021-06-13T00:40:25.606Z"
   },
   {
    "duration": 15,
    "start_time": "2021-06-13T00:40:25.624Z"
   },
   {
    "duration": 15,
    "start_time": "2021-06-13T00:40:25.640Z"
   },
   {
    "duration": 102,
    "start_time": "2021-06-13T00:40:25.684Z"
   },
   {
    "duration": 202,
    "start_time": "2021-06-13T00:40:25.789Z"
   },
   {
    "duration": 89,
    "start_time": "2021-06-13T00:40:25.996Z"
   },
   {
    "duration": 101,
    "start_time": "2021-06-13T00:40:26.088Z"
   },
   {
    "duration": 100,
    "start_time": "2021-06-13T00:40:26.201Z"
   },
   {
    "duration": 90,
    "start_time": "2021-06-13T00:40:26.308Z"
   },
   {
    "duration": 7,
    "start_time": "2021-06-13T00:40:26.484Z"
   },
   {
    "duration": 91,
    "start_time": "2021-06-13T00:40:26.495Z"
   },
   {
    "duration": 5,
    "start_time": "2021-06-13T00:40:26.588Z"
   },
   {
    "duration": 17,
    "start_time": "2021-06-13T00:40:26.595Z"
   },
   {
    "duration": 8,
    "start_time": "2021-06-13T00:40:26.613Z"
   },
   {
    "duration": 9,
    "start_time": "2021-06-13T00:40:26.623Z"
   },
   {
    "duration": 13,
    "start_time": "2021-06-13T00:40:26.634Z"
   },
   {
    "duration": 314,
    "start_time": "2021-06-13T00:40:26.648Z"
   },
   {
    "duration": 361,
    "start_time": "2021-06-13T00:41:04.705Z"
   },
   {
    "duration": 2330,
    "start_time": "2021-06-13T00:41:45.634Z"
   },
   {
    "duration": 425,
    "start_time": "2021-06-13T00:42:04.907Z"
   },
   {
    "duration": 602,
    "start_time": "2021-06-13T00:44:14.096Z"
   },
   {
    "duration": 368,
    "start_time": "2021-06-13T00:44:37.114Z"
   },
   {
    "duration": 100,
    "start_time": "2021-06-13T00:53:48.996Z"
   },
   {
    "duration": 59,
    "start_time": "2021-06-13T00:54:30.488Z"
   },
   {
    "duration": 202,
    "start_time": "2021-06-13T00:54:41.409Z"
   },
   {
    "duration": 8,
    "start_time": "2021-06-13T00:58:38.888Z"
   },
   {
    "duration": 118,
    "start_time": "2021-06-13T00:58:40.518Z"
   },
   {
    "duration": 545,
    "start_time": "2021-06-13T00:58:42.417Z"
   },
   {
    "duration": 3,
    "start_time": "2021-06-13T00:59:11.625Z"
   },
   {
    "duration": 4,
    "start_time": "2021-06-13T01:00:42.369Z"
   },
   {
    "duration": 2318,
    "start_time": "2021-06-13T01:01:52.326Z"
   },
   {
    "duration": 5,
    "start_time": "2021-06-13T01:02:24.096Z"
   },
   {
    "duration": 2132,
    "start_time": "2021-06-13T01:02:25.732Z"
   },
   {
    "duration": 1149,
    "start_time": "2021-06-13T01:03:24.989Z"
   },
   {
    "duration": 139,
    "start_time": "2021-06-13T01:03:26.140Z"
   },
   {
    "duration": 17,
    "start_time": "2021-06-13T01:03:26.285Z"
   },
   {
    "duration": 130,
    "start_time": "2021-06-13T01:03:26.304Z"
   },
   {
    "duration": 8,
    "start_time": "2021-06-13T01:03:26.435Z"
   },
   {
    "duration": 136,
    "start_time": "2021-06-13T01:03:26.444Z"
   },
   {
    "duration": 10,
    "start_time": "2021-06-13T01:03:26.581Z"
   },
   {
    "duration": 13,
    "start_time": "2021-06-13T01:03:26.592Z"
   },
   {
    "duration": 4,
    "start_time": "2021-06-13T01:03:26.608Z"
   },
   {
    "duration": 20,
    "start_time": "2021-06-13T01:03:26.614Z"
   },
   {
    "duration": 17,
    "start_time": "2021-06-13T01:03:26.635Z"
   },
   {
    "duration": 44,
    "start_time": "2021-06-13T01:03:26.653Z"
   },
   {
    "duration": 19,
    "start_time": "2021-06-13T01:03:26.699Z"
   },
   {
    "duration": 124,
    "start_time": "2021-06-13T01:03:26.806Z"
   },
   {
    "duration": 12,
    "start_time": "2021-06-13T01:03:26.987Z"
   },
   {
    "duration": 100,
    "start_time": "2021-06-13T01:03:27.002Z"
   },
   {
    "duration": 89,
    "start_time": "2021-06-13T01:03:27.105Z"
   },
   {
    "duration": 198,
    "start_time": "2021-06-13T01:03:27.196Z"
   },
   {
    "duration": 91,
    "start_time": "2021-06-13T01:03:27.399Z"
   },
   {
    "duration": 98,
    "start_time": "2021-06-13T01:03:27.496Z"
   },
   {
    "duration": 4,
    "start_time": "2021-06-13T01:03:27.596Z"
   },
   {
    "duration": 6,
    "start_time": "2021-06-13T01:03:27.602Z"
   },
   {
    "duration": 3,
    "start_time": "2021-06-13T01:03:27.610Z"
   },
   {
    "duration": 6,
    "start_time": "2021-06-13T01:03:27.615Z"
   },
   {
    "duration": 5,
    "start_time": "2021-06-13T01:03:27.623Z"
   },
   {
    "duration": 2253,
    "start_time": "2021-06-13T01:03:27.629Z"
   },
   {
    "duration": 2078,
    "start_time": "2021-06-13T01:06:24.910Z"
   },
   {
    "duration": 1185,
    "start_time": "2021-06-13T01:06:57.181Z"
   },
   {
    "duration": 143,
    "start_time": "2021-06-13T01:06:58.368Z"
   },
   {
    "duration": 12,
    "start_time": "2021-06-13T01:06:58.517Z"
   },
   {
    "duration": 135,
    "start_time": "2021-06-13T01:06:58.530Z"
   },
   {
    "duration": 8,
    "start_time": "2021-06-13T01:06:58.667Z"
   },
   {
    "duration": 140,
    "start_time": "2021-06-13T01:06:58.677Z"
   },
   {
    "duration": 8,
    "start_time": "2021-06-13T01:06:58.819Z"
   },
   {
    "duration": 14,
    "start_time": "2021-06-13T01:06:58.830Z"
   },
   {
    "duration": 8,
    "start_time": "2021-06-13T01:06:58.846Z"
   },
   {
    "duration": 18,
    "start_time": "2021-06-13T01:06:58.856Z"
   },
   {
    "duration": 20,
    "start_time": "2021-06-13T01:06:58.884Z"
   },
   {
    "duration": 14,
    "start_time": "2021-06-13T01:06:58.906Z"
   },
   {
    "duration": 15,
    "start_time": "2021-06-13T01:06:58.922Z"
   },
   {
    "duration": 129,
    "start_time": "2021-06-13T01:06:58.987Z"
   },
   {
    "duration": 5,
    "start_time": "2021-06-13T01:06:59.185Z"
   },
   {
    "duration": 104,
    "start_time": "2021-06-13T01:06:59.192Z"
   },
   {
    "duration": 103,
    "start_time": "2021-06-13T01:06:59.301Z"
   },
   {
    "duration": 94,
    "start_time": "2021-06-13T01:06:59.407Z"
   },
   {
    "duration": 82,
    "start_time": "2021-06-13T01:06:59.504Z"
   },
   {
    "duration": 97,
    "start_time": "2021-06-13T01:06:59.590Z"
   },
   {
    "duration": 5,
    "start_time": "2021-06-13T01:06:59.690Z"
   },
   {
    "duration": 6,
    "start_time": "2021-06-13T01:06:59.696Z"
   },
   {
    "duration": 7,
    "start_time": "2021-06-13T01:06:59.704Z"
   },
   {
    "duration": 6,
    "start_time": "2021-06-13T01:06:59.712Z"
   },
   {
    "duration": 8,
    "start_time": "2021-06-13T01:06:59.720Z"
   },
   {
    "duration": 1951,
    "start_time": "2021-06-13T01:06:59.731Z"
   },
   {
    "duration": 5,
    "start_time": "2021-06-13T01:10:38.193Z"
   },
   {
    "duration": 9,
    "start_time": "2021-06-13T01:10:38.890Z"
   },
   {
    "duration": 1935,
    "start_time": "2021-06-13T01:10:41.265Z"
   },
   {
    "duration": 1936,
    "start_time": "2021-06-13T01:11:14.140Z"
   },
   {
    "duration": 1927,
    "start_time": "2021-06-13T01:28:43.078Z"
   },
   {
    "duration": 1935,
    "start_time": "2021-06-13T01:29:20.137Z"
   },
   {
    "duration": 1910,
    "start_time": "2021-06-13T01:30:02.989Z"
   },
   {
    "duration": 1914,
    "start_time": "2021-06-13T01:30:49.343Z"
   },
   {
    "duration": 5,
    "start_time": "2021-06-13T01:32:39.469Z"
   },
   {
    "duration": 1522,
    "start_time": "2021-06-13T01:32:41.563Z"
   },
   {
    "duration": 1541,
    "start_time": "2021-06-13T01:32:46.413Z"
   },
   {
    "duration": 1549,
    "start_time": "2021-06-13T01:32:47.957Z"
   },
   {
    "duration": 4,
    "start_time": "2021-06-13T01:33:49.519Z"
   },
   {
    "duration": 1514,
    "start_time": "2021-06-13T01:33:50.435Z"
   },
   {
    "duration": 1518,
    "start_time": "2021-06-13T01:33:51.950Z"
   },
   {
    "duration": 1547,
    "start_time": "2021-06-13T01:33:53.469Z"
   },
   {
    "duration": 3,
    "start_time": "2021-06-13T01:40:40.221Z"
   },
   {
    "duration": 3,
    "start_time": "2021-06-13T01:40:49.948Z"
   },
   {
    "duration": 5,
    "start_time": "2021-06-13T01:40:51.041Z"
   },
   {
    "duration": 593,
    "start_time": "2021-06-13T01:40:53.174Z"
   },
   {
    "duration": 541,
    "start_time": "2021-06-13T01:42:01.257Z"
   },
   {
    "duration": 355,
    "start_time": "2021-06-13T01:42:26.760Z"
   },
   {
    "duration": 194,
    "start_time": "2021-06-13T01:43:01.102Z"
   },
   {
    "duration": 1060,
    "start_time": "2021-06-13T01:43:36.158Z"
   },
   {
    "duration": 136,
    "start_time": "2021-06-13T01:43:37.220Z"
   },
   {
    "duration": 11,
    "start_time": "2021-06-13T01:43:37.358Z"
   },
   {
    "duration": 142,
    "start_time": "2021-06-13T01:43:37.371Z"
   },
   {
    "duration": 8,
    "start_time": "2021-06-13T01:43:37.515Z"
   },
   {
    "duration": 136,
    "start_time": "2021-06-13T01:43:37.524Z"
   },
   {
    "duration": 8,
    "start_time": "2021-06-13T01:43:37.662Z"
   },
   {
    "duration": 27,
    "start_time": "2021-06-13T01:43:37.672Z"
   },
   {
    "duration": 11,
    "start_time": "2021-06-13T01:43:37.701Z"
   },
   {
    "duration": 18,
    "start_time": "2021-06-13T01:43:37.714Z"
   },
   {
    "duration": 14,
    "start_time": "2021-06-13T01:43:37.734Z"
   },
   {
    "duration": 35,
    "start_time": "2021-06-13T01:43:37.750Z"
   },
   {
    "duration": 18,
    "start_time": "2021-06-13T01:43:37.787Z"
   },
   {
    "duration": 199,
    "start_time": "2021-06-13T01:43:37.807Z"
   },
   {
    "duration": 79,
    "start_time": "2021-06-13T01:43:38.008Z"
   },
   {
    "duration": 106,
    "start_time": "2021-06-13T01:43:38.098Z"
   },
   {
    "duration": 90,
    "start_time": "2021-06-13T01:43:38.206Z"
   },
   {
    "duration": 96,
    "start_time": "2021-06-13T01:43:38.298Z"
   },
   {
    "duration": 3,
    "start_time": "2021-06-13T01:43:38.400Z"
   },
   {
    "duration": 83,
    "start_time": "2021-06-13T01:43:38.406Z"
   },
   {
    "duration": 12,
    "start_time": "2021-06-13T01:43:38.492Z"
   },
   {
    "duration": 85,
    "start_time": "2021-06-13T01:43:38.507Z"
   },
   {
    "duration": 4,
    "start_time": "2021-06-13T01:43:38.598Z"
   },
   {
    "duration": 7,
    "start_time": "2021-06-13T01:43:38.604Z"
   },
   {
    "duration": 6,
    "start_time": "2021-06-13T01:43:38.612Z"
   },
   {
    "duration": 259,
    "start_time": "2021-06-13T01:43:38.619Z"
   },
   {
    "duration": -22,
    "start_time": "2021-06-13T01:43:38.902Z"
   },
   {
    "duration": -23,
    "start_time": "2021-06-13T01:43:38.904Z"
   },
   {
    "duration": -24,
    "start_time": "2021-06-13T01:43:38.906Z"
   },
   {
    "duration": 6,
    "start_time": "2021-06-13T01:43:56.481Z"
   },
   {
    "duration": 356,
    "start_time": "2021-06-13T01:43:57.461Z"
   },
   {
    "duration": 5,
    "start_time": "2021-06-13T01:44:21.208Z"
   },
   {
    "duration": 355,
    "start_time": "2021-06-13T01:44:22.221Z"
   },
   {
    "duration": 2221,
    "start_time": "2021-06-13T01:46:03.831Z"
   },
   {
    "duration": 172,
    "start_time": "2021-06-13T01:47:41.168Z"
   },
   {
    "duration": 351,
    "start_time": "2021-06-13T01:47:53.557Z"
   },
   {
    "duration": 5,
    "start_time": "2021-06-13T01:59:40.569Z"
   },
   {
    "duration": 365,
    "start_time": "2021-06-13T01:59:41.627Z"
   },
   {
    "duration": 6,
    "start_time": "2021-06-13T02:01:47.089Z"
   },
   {
    "duration": 5,
    "start_time": "2021-06-13T02:01:48.121Z"
   },
   {
    "duration": 178,
    "start_time": "2021-06-13T02:01:57.457Z"
   },
   {
    "duration": 358,
    "start_time": "2021-06-13T02:02:23.784Z"
   },
   {
    "duration": 181,
    "start_time": "2021-06-13T02:03:11.511Z"
   },
   {
    "duration": 3,
    "start_time": "2021-06-13T02:03:35.365Z"
   },
   {
    "duration": 4,
    "start_time": "2021-06-13T02:03:35.913Z"
   },
   {
    "duration": 179,
    "start_time": "2021-06-13T02:03:36.818Z"
   },
   {
    "duration": 1746,
    "start_time": "2021-06-13T02:04:53.886Z"
   },
   {
    "duration": 1551,
    "start_time": "2021-06-13T02:05:29.016Z"
   },
   {
    "duration": 1530,
    "start_time": "2021-06-13T02:05:50.291Z"
   },
   {
    "duration": 1513,
    "start_time": "2021-06-13T02:05:51.823Z"
   },
   {
    "duration": 1512,
    "start_time": "2021-06-13T09:56:38.106Z"
   },
   {
    "duration": 234,
    "start_time": "2021-06-13T09:56:39.620Z"
   },
   {
    "duration": 19,
    "start_time": "2021-06-13T09:56:39.857Z"
   },
   {
    "duration": 578,
    "start_time": "2021-06-13T09:56:39.879Z"
   },
   {
    "duration": 12,
    "start_time": "2021-06-13T09:56:40.460Z"
   },
   {
    "duration": 524,
    "start_time": "2021-06-13T09:56:40.475Z"
   },
   {
    "duration": 12,
    "start_time": "2021-06-13T09:56:41.001Z"
   },
   {
    "duration": 15,
    "start_time": "2021-06-13T09:56:42.963Z"
   },
   {
    "duration": 4,
    "start_time": "2021-06-13T09:57:47.805Z"
   },
   {
    "duration": 20,
    "start_time": "2021-06-13T09:57:48.178Z"
   },
   {
    "duration": 18,
    "start_time": "2021-06-13T09:57:48.395Z"
   },
   {
    "duration": 20,
    "start_time": "2021-06-13T09:57:49.498Z"
   },
   {
    "duration": 19,
    "start_time": "2021-06-13T09:58:01.515Z"
   },
   {
    "duration": 53,
    "start_time": "2021-06-13T09:58:02.035Z"
   },
   {
    "duration": 5,
    "start_time": "2021-06-13T09:58:12.787Z"
   },
   {
    "duration": 15,
    "start_time": "2021-06-13T09:58:13.203Z"
   },
   {
    "duration": 16,
    "start_time": "2021-06-13T09:58:13.435Z"
   },
   {
    "duration": 15,
    "start_time": "2021-06-13T09:58:13.715Z"
   },
   {
    "duration": 4,
    "start_time": "2021-06-13T09:59:38.138Z"
   },
   {
    "duration": 5,
    "start_time": "2021-06-13T09:59:39.275Z"
   },
   {
    "duration": 5,
    "start_time": "2021-06-13T09:59:39.529Z"
   },
   {
    "duration": 5,
    "start_time": "2021-06-13T09:59:39.808Z"
   },
   {
    "duration": 5,
    "start_time": "2021-06-13T09:59:40.044Z"
   },
   {
    "duration": 5,
    "start_time": "2021-06-13T10:00:48.588Z"
   },
   {
    "duration": 7,
    "start_time": "2021-06-13T10:00:49.095Z"
   },
   {
    "duration": 2707,
    "start_time": "2021-06-13T10:00:50.868Z"
   },
   {
    "duration": 2721,
    "start_time": "2021-06-13T10:00:55.750Z"
   },
   {
    "duration": 2748,
    "start_time": "2021-06-13T10:00:59.811Z"
   }
  ],
  "kernelspec": {
   "display_name": "Python 3 (ipykernel)",
   "language": "python",
   "name": "python3"
  },
  "language_info": {
   "codemirror_mode": {
    "name": "ipython",
    "version": 3
   },
   "file_extension": ".py",
   "mimetype": "text/x-python",
   "name": "python",
   "nbconvert_exporter": "python",
   "pygments_lexer": "ipython3",
   "version": "3.9.6"
  },
  "toc": {
   "base_numbering": 1,
   "nav_menu": {},
   "number_sections": true,
   "sideBar": true,
   "skip_h1_title": true,
   "title_cell": "Table of Contents",
   "title_sidebar": "Contents",
   "toc_cell": false,
   "toc_position": {},
   "toc_section_display": true,
   "toc_window_display": true
  }
 },
 "nbformat": 4,
 "nbformat_minor": 2
}
