{
 "cells": [
  {
   "cell_type": "markdown",
   "metadata": {
    "id": "_xZafoMbBGHq"
   },
   "source": [
    "# Загрузка данных"
   ]
  },
  {
   "cell_type": "code",
   "execution_count": 2,
   "metadata": {
    "colab": {
     "base_uri": "https://localhost:8080/"
    },
    "id": "U2sAXrN03fmm",
    "outputId": "550f9e3b-4102-48f5-b25e-cfbd45ecbe79"
   },
   "outputs": [
    {
     "name": "stdout",
     "output_type": "stream",
     "text": [
      "Mounted at /content/gdrive\n"
     ]
    }
   ],
   "source": [
    "from google.colab import drive\n",
    "drive.mount('/content/gdrive')"
   ]
  },
  {
   "cell_type": "code",
   "execution_count": 3,
   "metadata": {
    "colab": {
     "base_uri": "https://localhost:8080/"
    },
    "id": "JkTmkONG72IB",
    "outputId": "4e4783b0-83eb-4421-8799-be55ce4c9298"
   },
   "outputs": [
    {
     "name": "stdout",
     "output_type": "stream",
     "text": [
      "Collecting pyspark\n",
      "  Downloading pyspark-3.2.0.tar.gz (281.3 MB)\n",
      "\u001b[K     |████████████████████████████████| 281.3 MB 40 kB/s \n",
      "\u001b[?25hCollecting py4j==0.10.9.2\n",
      "  Downloading py4j-0.10.9.2-py2.py3-none-any.whl (198 kB)\n",
      "\u001b[K     |████████████████████████████████| 198 kB 62.4 MB/s \n",
      "\u001b[?25hBuilding wheels for collected packages: pyspark\n",
      "  Building wheel for pyspark (setup.py) ... \u001b[?25l\u001b[?25hdone\n",
      "  Created wheel for pyspark: filename=pyspark-3.2.0-py2.py3-none-any.whl size=281805912 sha256=3cbbd93d40dc73c4fc26a5ccbd584f6e146ddfcc9b21496f40b0da7093a891ae\n",
      "  Stored in directory: /root/.cache/pip/wheels/0b/de/d2/9be5d59d7331c6c2a7c1b6d1a4f463ce107332b1ecd4e80718\n",
      "Successfully built pyspark\n",
      "Installing collected packages: py4j, pyspark\n",
      "Successfully installed py4j-0.10.9.2 pyspark-3.2.0\n"
     ]
    }
   ],
   "source": [
    "!pip install pyspark\n"
   ]
  },
  {
   "cell_type": "code",
   "execution_count": 13,
   "metadata": {
    "id": "ZxtQ2-gD8_Sc"
   },
   "outputs": [],
   "source": [
    "from pyspark.sql import SparkSession\n",
    "import matplotlib.pyplot as plt\n",
    "import seaborn as sns"
   ]
  },
  {
   "cell_type": "code",
   "execution_count": 5,
   "metadata": {
    "id": "AMm7kTiX-kBN"
   },
   "outputs": [],
   "source": [
    "path_1 = \"/content/gdrive/MyDrive/praktikum/query_1.csv\"\n",
    "path_3 = \"/content/gdrive/MyDrive/praktikum/query_3.csv\""
   ]
  },
  {
   "cell_type": "code",
   "execution_count": 6,
   "metadata": {
    "id": "vbQ3J_fp-wI5"
   },
   "outputs": [],
   "source": [
    "APP_NAME = \"DataFrames\"\n",
    "SPARK_URL = \"local[*]\"\n",
    "\n",
    "spark = SparkSession.builder.appName(APP_NAME) \\\n",
    "        .config('spark.ui.showConsoleProgress', 'false') \\\n",
    "        .getOrCreate()"
   ]
  },
  {
   "cell_type": "code",
   "execution_count": 7,
   "metadata": {
    "id": "vwqmKZTp_-GM"
   },
   "outputs": [],
   "source": [
    "query_1 = spark.read.load(path_1, format='csv', header='true', inferSchema='true')"
   ]
  },
  {
   "cell_type": "code",
   "execution_count": 8,
   "metadata": {
    "id": "Eyr8vhk4AG9n"
   },
   "outputs": [],
   "source": [
    "query_3 = spark.read.load(path_3, format='csv', header='true', inferSchema='true')"
   ]
  },
  {
   "cell_type": "code",
   "execution_count": 9,
   "metadata": {
    "colab": {
     "base_uri": "https://localhost:8080/"
    },
    "id": "haRnzB9tAVKO",
    "outputId": "74369c69-65ea-4fcc-dc20-20c8bddd3c2c"
   },
   "outputs": [
    {
     "name": "stderr",
     "output_type": "stream",
     "text": [
      "/usr/local/lib/python3.7/dist-packages/pyspark/sql/dataframe.py:140: FutureWarning: Deprecated in 2.0, use createOrReplaceTempView instead.\n",
      "  FutureWarning\n"
     ]
    }
   ],
   "source": [
    "query_1.registerTempTable('query_1')"
   ]
  },
  {
   "cell_type": "code",
   "execution_count": 10,
   "metadata": {
    "colab": {
     "base_uri": "https://localhost:8080/"
    },
    "id": "dNlhyP61BKxU",
    "outputId": "56893248-a9b0-430a-94ba-c0700fe5d59b"
   },
   "outputs": [
    {
     "name": "stdout",
     "output_type": "stream",
     "text": [
      "+---------------+--------------+\n",
      "|          model|flights_amount|\n",
      "+---------------+--------------+\n",
      "|Airbus A319-100|           607|\n",
      "|Airbus A321-200|           960|\n",
      "| Boeing 737-300|           630|\n",
      "| Boeing 767-300|           600|\n",
      "| Boeing 777-300|           300|\n",
      "+---------------+--------------+\n",
      "only showing top 5 rows\n",
      "\n"
     ]
    }
   ],
   "source": [
    "query_1.show(5)"
   ]
  },
  {
   "cell_type": "code",
   "execution_count": 11,
   "metadata": {
    "colab": {
     "base_uri": "https://localhost:8080/"
    },
    "id": "6jhsaDYcCUpN",
    "outputId": "efc09a74-68cb-459d-a633-22af6d6008e2"
   },
   "outputs": [
    {
     "name": "stderr",
     "output_type": "stream",
     "text": [
      "/usr/local/lib/python3.7/dist-packages/pyspark/sql/dataframe.py:140: FutureWarning: Deprecated in 2.0, use createOrReplaceTempView instead.\n",
      "  FutureWarning\n"
     ]
    }
   ],
   "source": [
    "query_3.registerTempTable('query_3')"
   ]
  },
  {
   "cell_type": "code",
   "execution_count": 12,
   "metadata": {
    "colab": {
     "base_uri": "https://localhost:8080/"
    },
    "id": "xBRb20pYCbb6",
    "outputId": "33ae6fcf-b40e-4fc3-d968-a9f37175cb66"
   },
   "outputs": [
    {
     "name": "stdout",
     "output_type": "stream",
     "text": [
      "+-----------+------------------+\n",
      "|       city|   average_flights|\n",
      "+-----------+------------------+\n",
      "|     Абакан| 3.870967741935484|\n",
      "|    Анадырь|               1.0|\n",
      "|      Анапа| 2.161290322580645|\n",
      "|Архангельск| 5.354838709677419|\n",
      "|  Астрахань|2.4516129032258065|\n",
      "+-----------+------------------+\n",
      "only showing top 5 rows\n",
      "\n"
     ]
    }
   ],
   "source": [
    "query_3.show(5)"
   ]
  },
  {
   "cell_type": "markdown",
   "metadata": {
    "id": "ji7Q15qJDS0Y"
   },
   "source": [
    "# Анализ данных"
   ]
  },
  {
   "cell_type": "markdown",
   "metadata": {
    "id": "KSj41I02FrAl"
   },
   "source": [
    "**Топ-10 самых востребованных авианаправлений России**"
   ]
  },
  {
   "cell_type": "code",
   "execution_count": 16,
   "metadata": {
    "id": "D6m0mATNFpdt"
   },
   "outputs": [],
   "source": [
    "top_10 = spark.sql('SELECT * FROM query_3 ORDER BY average_flights DESC LIMIT 10;')"
   ]
  },
  {
   "cell_type": "code",
   "execution_count": 17,
   "metadata": {
    "id": "vX9Y99w-F8ZH"
   },
   "outputs": [],
   "source": [
    "df_top_10 = top_10.toPandas()"
   ]
  },
  {
   "cell_type": "code",
   "execution_count": 18,
   "metadata": {
    "colab": {
     "base_uri": "https://localhost:8080/",
     "height": 359
    },
    "id": "wdg43q14GH0k",
    "outputId": "3bb21878-7a7b-4542-8347-358cc1541400"
   },
   "outputs": [
    {
     "data": {
      "text/html": [
       "<div>\n",
       "<style scoped>\n",
       "    .dataframe tbody tr th:only-of-type {\n",
       "        vertical-align: middle;\n",
       "    }\n",
       "\n",
       "    .dataframe tbody tr th {\n",
       "        vertical-align: top;\n",
       "    }\n",
       "\n",
       "    .dataframe thead th {\n",
       "        text-align: right;\n",
       "    }\n",
       "</style>\n",
       "<table border=\"1\" class=\"dataframe\">\n",
       "  <thead>\n",
       "    <tr style=\"text-align: right;\">\n",
       "      <th></th>\n",
       "      <th>city</th>\n",
       "      <th>average_flights</th>\n",
       "    </tr>\n",
       "  </thead>\n",
       "  <tbody>\n",
       "    <tr>\n",
       "      <th>0</th>\n",
       "      <td>Москва</td>\n",
       "      <td>129.774194</td>\n",
       "    </tr>\n",
       "    <tr>\n",
       "      <th>1</th>\n",
       "      <td>Санкт-Петербург</td>\n",
       "      <td>31.161290</td>\n",
       "    </tr>\n",
       "    <tr>\n",
       "      <th>2</th>\n",
       "      <td>Новосибирск</td>\n",
       "      <td>17.322581</td>\n",
       "    </tr>\n",
       "    <tr>\n",
       "      <th>3</th>\n",
       "      <td>Красноярск</td>\n",
       "      <td>11.580645</td>\n",
       "    </tr>\n",
       "    <tr>\n",
       "      <th>4</th>\n",
       "      <td>Екатеринбург</td>\n",
       "      <td>11.322581</td>\n",
       "    </tr>\n",
       "    <tr>\n",
       "      <th>5</th>\n",
       "      <td>Ростов-на-Дону</td>\n",
       "      <td>10.193548</td>\n",
       "    </tr>\n",
       "    <tr>\n",
       "      <th>6</th>\n",
       "      <td>Пермь</td>\n",
       "      <td>10.129032</td>\n",
       "    </tr>\n",
       "    <tr>\n",
       "      <th>7</th>\n",
       "      <td>Брянск</td>\n",
       "      <td>10.000000</td>\n",
       "    </tr>\n",
       "    <tr>\n",
       "      <th>8</th>\n",
       "      <td>Сочи</td>\n",
       "      <td>9.612903</td>\n",
       "    </tr>\n",
       "    <tr>\n",
       "      <th>9</th>\n",
       "      <td>Ульяновск</td>\n",
       "      <td>9.580645</td>\n",
       "    </tr>\n",
       "  </tbody>\n",
       "</table>\n",
       "</div>"
      ],
      "text/plain": [
       "              city  average_flights\n",
       "0           Москва       129.774194\n",
       "1  Санкт-Петербург        31.161290\n",
       "2      Новосибирск        17.322581\n",
       "3       Красноярск        11.580645\n",
       "4     Екатеринбург        11.322581\n",
       "5   Ростов-на-Дону        10.193548\n",
       "6            Пермь        10.129032\n",
       "7           Брянск        10.000000\n",
       "8             Сочи         9.612903\n",
       "9        Ульяновск         9.580645"
      ]
     },
     "execution_count": 18,
     "metadata": {},
     "output_type": "execute_result"
    }
   ],
   "source": [
    "df_top_10"
   ]
  },
  {
   "cell_type": "code",
   "execution_count": 20,
   "metadata": {
    "colab": {
     "base_uri": "https://localhost:8080/",
     "height": 513
    },
    "id": "PChk5FkfGKbU",
    "outputId": "cc2e0846-3b9f-44a9-b7cc-b59fd605f23b"
   },
   "outputs": [
    {
     "data": {
      "image/png": "[encoded data removed]",
      "text/plain": [
       "<Figure size 1080x576 with 1 Axes>"
      ]
     },
     "metadata": {
      "needs_background": "light"
     },
     "output_type": "display_data"
    }
   ],
   "source": [
    "plt.figure(figsize=(15,8))\n",
    "sns.barplot(x='city',y='average_flights', data = df_top_10).set_title('Топ-10 самых востребованных авианаправлений России');"
   ]
  },
  {
   "cell_type": "markdown",
   "metadata": {
    "id": "ZeInak2THQwA"
   },
   "source": [
    "Наибольшее количество авиаперевозок в Москве. Москва - самый населеный город России. Один из крупнейших европейских городов. В Москве совершаются пересадки из городов, где нет прямых рейсов за границу.\n",
    "На втором месте - Санкт-Петербург. Санкт-Петербург - второй по населению город России. Так же город является \"культурной столицей\" страны. Здесь тоже есть международные аэропорты, где так же можно совершить пересадку для перелета за границу. Город популярен среди туристов.\n",
    "Третий город - Новосибирск."
   ]
  },
  {
   "cell_type": "markdown",
   "metadata": {
    "id": "wF-ycNSGMULw"
   },
   "source": [
    "**Самые популярные модели самолетов авиаперевозчиков России**"
   ]
  },
  {
   "cell_type": "code",
   "execution_count": 28,
   "metadata": {
    "id": "JS2hiZRXLC2H"
   },
   "outputs": [],
   "source": [
    "top_models = query_1.toPandas()"
   ]
  },
  {
   "cell_type": "code",
   "execution_count": 29,
   "metadata": {
    "id": "eQ4298iVMAhT"
   },
   "outputs": [],
   "source": [
    "top_models.sort_values(by = 'flights_amount', inplace=True)"
   ]
  },
  {
   "cell_type": "code",
   "execution_count": 30,
   "metadata": {
    "colab": {
     "base_uri": "https://localhost:8080/",
     "height": 513
    },
    "id": "dPwCOGXmNkMY",
    "outputId": "b99e58ac-aa0c-41df-bf9b-9c5124290528"
   },
   "outputs": [
    {
     "data": {
      "image/png": "[encoded data removed]",
      "text/plain": [
       "<Figure size 1080x576 with 1 Axes>"
      ]
     },
     "metadata": {
      "needs_background": "light"
     },
     "output_type": "display_data"
    }
   ],
   "source": [
    "plt.figure(figsize=(15,8))\n",
    "sns.barplot(x='model',y='flights_amount', data = top_models).set_title('Рейтинг популярности моделей самолетов');"
   ]
  },
  {
   "cell_type": "markdown",
   "metadata": {
    "id": "Q_XEoSDYRhoe"
   },
   "source": [
    "> Самой популярной моделью является Cessna 208 Caravan.\n",
    "На сайте jets.ru пишут:\n",
    "\n",
    "Представители производителя на выставки Aero в немецком Фридрихсхафене отмечают, что среди российских компаний увеличивается количество эксплуатантов этих региональных турбовинтовых машин. Российские операторы предпочитают модель Cessna 208B Grand Caravan, рассчитанную на перевозку девяти пассажиров и приспособленную для работы в сложных условиях, в том числе на грунтовых аэродромах с короткими ВПП.\n",
    "Самолеты вместимостью до 10 пасс. очень востребованы для обслуживания местных линий, поскольку стоимость перевозок на Ан-2, традиционно эксплуатировавшихся на этих маршрутах, возросла из-за высокой стоимости авиационного бензина. Турбовинтовой самолет Cessna заправляется обычным авиационным керосином.\n",
    "\n",
    "> На втрром месте Bombardier CRJ 200 \n",
    "\n",
    "Этот небольшой 50-местный самолет полностью соответствует потребностям региональных перевозчиков и пассажиров, а финансовая возможность для покупки самолетов CRJ 200 у российских компаний появилась благодаря вторичному рынку.\n",
    "\n",
    "> На третьем месте Sukhoi Superjet 100\n",
    "\n",
    "Российский ближнемагистральный узкофюзеляжный пассажирский самолёт, предназначенный для перевозки от 87 до 108 пассажиров на дальность 3050 или 4600 км. Разработан компанией «Гражданские самолёты Сухого» при участии ряда иностранных компаний. Первый пассажирский самолёт, разработанный в России после распада СССР."
   ]
  }
 ],
 "metadata": {
  "colab": {
   "collapsed_sections": [],
   "name": "Untitled0.ipynb",
   "provenance": []
  },
  "kernelspec": {
   "display_name": "Python 3 (ipykernel)",
   "language": "python",
   "name": "python3"
  },
  "language_info": {
   "codemirror_mode": {
    "name": "ipython",
    "version": 3
   },
   "file_extension": ".py",
   "mimetype": "text/x-python",
   "name": "python",
   "nbconvert_exporter": "python",
   "pygments_lexer": "ipython3",
   "version": "3.9.6"
  },
  "toc": {
   "base_numbering": 1,
   "nav_menu": {},
   "number_sections": true,
   "sideBar": true,
   "skip_h1_title": true,
   "title_cell": "Table of Contents",
   "title_sidebar": "Contents",
   "toc_cell": false,
   "toc_position": {},
   "toc_section_display": true,
   "toc_window_display": false
  }
 },
 "nbformat": 4,
 "nbformat_minor": 1
}
