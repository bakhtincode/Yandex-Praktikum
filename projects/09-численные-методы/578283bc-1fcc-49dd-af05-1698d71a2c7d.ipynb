{
 "cells": [
  {
   "cell_type": "markdown",
   "metadata": {},
   "source": [
    "# Определение стоимости автомобилей"
   ]
  },
  {
   "cell_type": "markdown",
   "metadata": {},
   "source": [
    "Сервис по продаже автомобилей с пробегом «Не бит, не крашен» разрабатывает приложение для привлечения новых клиентов. В нём можно быстро узнать рыночную стоимость своего автомобиля. В вашем распоряжении исторические данные: технические характеристики, комплектации и цены автомобилей. Вам нужно построить модель для определения стоимости. \n",
    "\n",
    "Заказчику важны:\n",
    "\n",
    "- качество предсказания;\n",
    "- скорость предсказания;\n",
    "- время обучения."
   ]
  },
  {
   "cell_type": "markdown",
   "metadata": {},
   "source": [
    "## Подготовка данных"
   ]
  },
  {
   "cell_type": "code",
   "execution_count": 1,
   "metadata": {},
   "outputs": [],
   "source": [
    "import pandas as pd\n",
    "import numpy as np\n",
    "\n",
    "import seaborn as sns\n",
    "import matplotlib.pyplot as plt\n",
    "\n",
    "from catboost import CatBoostRegressor, Pool\n",
    "from sklearn.model_selection import train_test_split\n",
    "from sklearn.metrics import mean_squared_error\n",
    "from sklearn.ensemble import RandomForestRegressor\n",
    "from sklearn.model_selection import GridSearchCV\n",
    "from sklearn.preprocessing import OrdinalEncoder\n",
    "import lightgbm as lgb\n",
    "from lightgbm import LGBMRegressor"
   ]
  },
  {
   "cell_type": "markdown",
   "metadata": {},
   "source": [
    "### Загрузка данных"
   ]
  },
  {
   "cell_type": "code",
   "execution_count": 2,
   "metadata": {},
   "outputs": [],
   "source": [
    "df = pd.read_csv(\"/datasets/autos.csv\")"
   ]
  },
  {
   "cell_type": "code",
   "execution_count": 3,
   "metadata": {
    "scrolled": true
   },
   "outputs": [
    {
     "data": {
      "text/html": [
       "<div>\n",
       "<style scoped>\n",
       "    .dataframe tbody tr th:only-of-type {\n",
       "        vertical-align: middle;\n",
       "    }\n",
       "\n",
       "    .dataframe tbody tr th {\n",
       "        vertical-align: top;\n",
       "    }\n",
       "\n",
       "    .dataframe thead th {\n",
       "        text-align: right;\n",
       "    }\n",
       "</style>\n",
       "<table border=\"1\" class=\"dataframe\">\n",
       "  <thead>\n",
       "    <tr style=\"text-align: right;\">\n",
       "      <th></th>\n",
       "      <th>DateCrawled</th>\n",
       "      <th>Price</th>\n",
       "      <th>VehicleType</th>\n",
       "      <th>RegistrationYear</th>\n",
       "      <th>Gearbox</th>\n",
       "      <th>Power</th>\n",
       "      <th>Model</th>\n",
       "      <th>Kilometer</th>\n",
       "      <th>RegistrationMonth</th>\n",
       "      <th>FuelType</th>\n",
       "      <th>Brand</th>\n",
       "      <th>NotRepaired</th>\n",
       "      <th>DateCreated</th>\n",
       "      <th>NumberOfPictures</th>\n",
       "      <th>PostalCode</th>\n",
       "      <th>LastSeen</th>\n",
       "    </tr>\n",
       "  </thead>\n",
       "  <tbody>\n",
       "    <tr>\n",
       "      <td>354364</td>\n",
       "      <td>2016-03-21 09:50:58</td>\n",
       "      <td>0</td>\n",
       "      <td>NaN</td>\n",
       "      <td>2005</td>\n",
       "      <td>manual</td>\n",
       "      <td>0</td>\n",
       "      <td>colt</td>\n",
       "      <td>150000</td>\n",
       "      <td>7</td>\n",
       "      <td>petrol</td>\n",
       "      <td>mitsubishi</td>\n",
       "      <td>yes</td>\n",
       "      <td>2016-03-21 00:00:00</td>\n",
       "      <td>0</td>\n",
       "      <td>2694</td>\n",
       "      <td>2016-03-21 10:42:49</td>\n",
       "    </tr>\n",
       "    <tr>\n",
       "      <td>354365</td>\n",
       "      <td>2016-03-14 17:48:27</td>\n",
       "      <td>2200</td>\n",
       "      <td>NaN</td>\n",
       "      <td>2005</td>\n",
       "      <td>NaN</td>\n",
       "      <td>0</td>\n",
       "      <td>NaN</td>\n",
       "      <td>20000</td>\n",
       "      <td>1</td>\n",
       "      <td>NaN</td>\n",
       "      <td>sonstige_autos</td>\n",
       "      <td>NaN</td>\n",
       "      <td>2016-03-14 00:00:00</td>\n",
       "      <td>0</td>\n",
       "      <td>39576</td>\n",
       "      <td>2016-04-06 00:46:52</td>\n",
       "    </tr>\n",
       "    <tr>\n",
       "      <td>354366</td>\n",
       "      <td>2016-03-05 19:56:21</td>\n",
       "      <td>1199</td>\n",
       "      <td>convertible</td>\n",
       "      <td>2000</td>\n",
       "      <td>auto</td>\n",
       "      <td>101</td>\n",
       "      <td>fortwo</td>\n",
       "      <td>125000</td>\n",
       "      <td>3</td>\n",
       "      <td>petrol</td>\n",
       "      <td>smart</td>\n",
       "      <td>no</td>\n",
       "      <td>2016-03-05 00:00:00</td>\n",
       "      <td>0</td>\n",
       "      <td>26135</td>\n",
       "      <td>2016-03-11 18:17:12</td>\n",
       "    </tr>\n",
       "    <tr>\n",
       "      <td>354367</td>\n",
       "      <td>2016-03-19 18:57:12</td>\n",
       "      <td>9200</td>\n",
       "      <td>bus</td>\n",
       "      <td>1996</td>\n",
       "      <td>manual</td>\n",
       "      <td>102</td>\n",
       "      <td>transporter</td>\n",
       "      <td>150000</td>\n",
       "      <td>3</td>\n",
       "      <td>gasoline</td>\n",
       "      <td>volkswagen</td>\n",
       "      <td>no</td>\n",
       "      <td>2016-03-19 00:00:00</td>\n",
       "      <td>0</td>\n",
       "      <td>87439</td>\n",
       "      <td>2016-04-07 07:15:26</td>\n",
       "    </tr>\n",
       "    <tr>\n",
       "      <td>354368</td>\n",
       "      <td>2016-03-20 19:41:08</td>\n",
       "      <td>3400</td>\n",
       "      <td>wagon</td>\n",
       "      <td>2002</td>\n",
       "      <td>manual</td>\n",
       "      <td>100</td>\n",
       "      <td>golf</td>\n",
       "      <td>150000</td>\n",
       "      <td>6</td>\n",
       "      <td>gasoline</td>\n",
       "      <td>volkswagen</td>\n",
       "      <td>NaN</td>\n",
       "      <td>2016-03-20 00:00:00</td>\n",
       "      <td>0</td>\n",
       "      <td>40764</td>\n",
       "      <td>2016-03-24 12:45:21</td>\n",
       "    </tr>\n",
       "  </tbody>\n",
       "</table>\n",
       "</div>"
      ],
      "text/plain": [
       "                DateCrawled  Price  VehicleType  RegistrationYear Gearbox  \\\n",
       "354364  2016-03-21 09:50:58      0          NaN              2005  manual   \n",
       "354365  2016-03-14 17:48:27   2200          NaN              2005     NaN   \n",
       "354366  2016-03-05 19:56:21   1199  convertible              2000    auto   \n",
       "354367  2016-03-19 18:57:12   9200          bus              1996  manual   \n",
       "354368  2016-03-20 19:41:08   3400        wagon              2002  manual   \n",
       "\n",
       "        Power        Model  Kilometer  RegistrationMonth  FuelType  \\\n",
       "354364      0         colt     150000                  7    petrol   \n",
       "354365      0          NaN      20000                  1       NaN   \n",
       "354366    101       fortwo     125000                  3    petrol   \n",
       "354367    102  transporter     150000                  3  gasoline   \n",
       "354368    100         golf     150000                  6  gasoline   \n",
       "\n",
       "                 Brand NotRepaired          DateCreated  NumberOfPictures  \\\n",
       "354364      mitsubishi         yes  2016-03-21 00:00:00                 0   \n",
       "354365  sonstige_autos         NaN  2016-03-14 00:00:00                 0   \n",
       "354366           smart          no  2016-03-05 00:00:00                 0   \n",
       "354367      volkswagen          no  2016-03-19 00:00:00                 0   \n",
       "354368      volkswagen         NaN  2016-03-20 00:00:00                 0   \n",
       "\n",
       "        PostalCode             LastSeen  \n",
       "354364        2694  2016-03-21 10:42:49  \n",
       "354365       39576  2016-04-06 00:46:52  \n",
       "354366       26135  2016-03-11 18:17:12  \n",
       "354367       87439  2016-04-07 07:15:26  \n",
       "354368       40764  2016-03-24 12:45:21  "
      ]
     },
     "execution_count": 3,
     "metadata": {},
     "output_type": "execute_result"
    }
   ],
   "source": [
    "df.tail()"
   ]
  },
  {
   "cell_type": "markdown",
   "metadata": {},
   "source": [
    "Признаки:\n",
    "\n",
    "- DateCrawled — дата скачивания анкеты из базы\n",
    "- VehicleType — тип автомобильного кузова\n",
    "- RegistrationYear — год регистрации автомобиля\n",
    "- Gearbox — тип коробки передач\n",
    "- Power — мощность (л. с.)\n",
    "- Model — модель автомобиля\n",
    "- Kilometer — пробег (км)\n",
    "- RegistrationMonth — месяц регистрации автомобиля\n",
    "- FuelType — тип топлива\n",
    "- Brand — марка автомобиля\n",
    "- NotRepaired — была машина в ремонте или нет\n",
    "- DateCreated — дата создания анкеты\n",
    "- NumberOfPictures — количество фотографий автомобиля\n",
    "- PostalCode — почтовый индекс владельца анкеты (пользователя)\n",
    "- LastSeen — дата последней активности пользователя\n",
    "\n",
    "Целевой признак:\n",
    "\n",
    "- Price — цена (евро)"
   ]
  },
  {
   "cell_type": "code",
   "execution_count": 4,
   "metadata": {},
   "outputs": [
    {
     "name": "stdout",
     "output_type": "stream",
     "text": [
      "<class 'pandas.core.frame.DataFrame'>\n",
      "RangeIndex: 354369 entries, 0 to 354368\n",
      "Data columns (total 16 columns):\n",
      "DateCrawled          354369 non-null object\n",
      "Price                354369 non-null int64\n",
      "VehicleType          316879 non-null object\n",
      "RegistrationYear     354369 non-null int64\n",
      "Gearbox              334536 non-null object\n",
      "Power                354369 non-null int64\n",
      "Model                334664 non-null object\n",
      "Kilometer            354369 non-null int64\n",
      "RegistrationMonth    354369 non-null int64\n",
      "FuelType             321474 non-null object\n",
      "Brand                354369 non-null object\n",
      "NotRepaired          283215 non-null object\n",
      "DateCreated          354369 non-null object\n",
      "NumberOfPictures     354369 non-null int64\n",
      "PostalCode           354369 non-null int64\n",
      "LastSeen             354369 non-null object\n",
      "dtypes: int64(7), object(9)\n",
      "memory usage: 43.3+ MB\n"
     ]
    }
   ],
   "source": [
    "df.info()"
   ]
  },
  {
   "cell_type": "markdown",
   "metadata": {},
   "source": [
    "Найдем пропуски значений в таблице."
   ]
  },
  {
   "cell_type": "code",
   "execution_count": 5,
   "metadata": {},
   "outputs": [
    {
     "data": {
      "text/plain": [
       "DateCrawled              0\n",
       "Price                    0\n",
       "VehicleType          37490\n",
       "RegistrationYear         0\n",
       "Gearbox              19833\n",
       "Power                    0\n",
       "Model                19705\n",
       "Kilometer                0\n",
       "RegistrationMonth        0\n",
       "FuelType             32895\n",
       "Brand                    0\n",
       "NotRepaired          71154\n",
       "DateCreated              0\n",
       "NumberOfPictures         0\n",
       "PostalCode               0\n",
       "LastSeen                 0\n",
       "dtype: int64"
      ]
     },
     "execution_count": 5,
     "metadata": {},
     "output_type": "execute_result"
    }
   ],
   "source": [
    "df.isnull().sum()"
   ]
  },
  {
   "cell_type": "markdown",
   "metadata": {},
   "source": [
    "Видно, что пропусков в таблице много. Простое удаление пустых значений не подойдет, т.к. может сильно сказаться на результатах обучения модели. \n",
    "В таблице есть лишние столбцы, которые не имеют для обучения никакой ценности, а только лишь замедляют обучение модели."
   ]
  },
  {
   "cell_type": "markdown",
   "metadata": {},
   "source": [
    "### Обработка данных"
   ]
  },
  {
   "cell_type": "markdown",
   "metadata": {},
   "source": [
    "**Удалим лишние столбцы.**"
   ]
  },
  {
   "cell_type": "code",
   "execution_count": 6,
   "metadata": {},
   "outputs": [
    {
     "data": {
      "text/html": [
       "<div>\n",
       "<style scoped>\n",
       "    .dataframe tbody tr th:only-of-type {\n",
       "        vertical-align: middle;\n",
       "    }\n",
       "\n",
       "    .dataframe tbody tr th {\n",
       "        vertical-align: top;\n",
       "    }\n",
       "\n",
       "    .dataframe thead th {\n",
       "        text-align: right;\n",
       "    }\n",
       "</style>\n",
       "<table border=\"1\" class=\"dataframe\">\n",
       "  <thead>\n",
       "    <tr style=\"text-align: right;\">\n",
       "      <th></th>\n",
       "      <th>Price</th>\n",
       "      <th>VehicleType</th>\n",
       "      <th>RegistrationYear</th>\n",
       "      <th>Gearbox</th>\n",
       "      <th>Power</th>\n",
       "      <th>Model</th>\n",
       "      <th>Kilometer</th>\n",
       "      <th>FuelType</th>\n",
       "      <th>Brand</th>\n",
       "      <th>NotRepaired</th>\n",
       "    </tr>\n",
       "  </thead>\n",
       "  <tbody>\n",
       "    <tr>\n",
       "      <td>354364</td>\n",
       "      <td>0</td>\n",
       "      <td>NaN</td>\n",
       "      <td>2005</td>\n",
       "      <td>manual</td>\n",
       "      <td>0</td>\n",
       "      <td>colt</td>\n",
       "      <td>150000</td>\n",
       "      <td>petrol</td>\n",
       "      <td>mitsubishi</td>\n",
       "      <td>yes</td>\n",
       "    </tr>\n",
       "    <tr>\n",
       "      <td>354365</td>\n",
       "      <td>2200</td>\n",
       "      <td>NaN</td>\n",
       "      <td>2005</td>\n",
       "      <td>NaN</td>\n",
       "      <td>0</td>\n",
       "      <td>NaN</td>\n",
       "      <td>20000</td>\n",
       "      <td>NaN</td>\n",
       "      <td>sonstige_autos</td>\n",
       "      <td>NaN</td>\n",
       "    </tr>\n",
       "    <tr>\n",
       "      <td>354366</td>\n",
       "      <td>1199</td>\n",
       "      <td>convertible</td>\n",
       "      <td>2000</td>\n",
       "      <td>auto</td>\n",
       "      <td>101</td>\n",
       "      <td>fortwo</td>\n",
       "      <td>125000</td>\n",
       "      <td>petrol</td>\n",
       "      <td>smart</td>\n",
       "      <td>no</td>\n",
       "    </tr>\n",
       "    <tr>\n",
       "      <td>354367</td>\n",
       "      <td>9200</td>\n",
       "      <td>bus</td>\n",
       "      <td>1996</td>\n",
       "      <td>manual</td>\n",
       "      <td>102</td>\n",
       "      <td>transporter</td>\n",
       "      <td>150000</td>\n",
       "      <td>gasoline</td>\n",
       "      <td>volkswagen</td>\n",
       "      <td>no</td>\n",
       "    </tr>\n",
       "    <tr>\n",
       "      <td>354368</td>\n",
       "      <td>3400</td>\n",
       "      <td>wagon</td>\n",
       "      <td>2002</td>\n",
       "      <td>manual</td>\n",
       "      <td>100</td>\n",
       "      <td>golf</td>\n",
       "      <td>150000</td>\n",
       "      <td>gasoline</td>\n",
       "      <td>volkswagen</td>\n",
       "      <td>NaN</td>\n",
       "    </tr>\n",
       "  </tbody>\n",
       "</table>\n",
       "</div>"
      ],
      "text/plain": [
       "        Price  VehicleType  RegistrationYear Gearbox  Power        Model  \\\n",
       "354364      0          NaN              2005  manual      0         colt   \n",
       "354365   2200          NaN              2005     NaN      0          NaN   \n",
       "354366   1199  convertible              2000    auto    101       fortwo   \n",
       "354367   9200          bus              1996  manual    102  transporter   \n",
       "354368   3400        wagon              2002  manual    100         golf   \n",
       "\n",
       "        Kilometer  FuelType           Brand NotRepaired  \n",
       "354364     150000    petrol      mitsubishi         yes  \n",
       "354365      20000       NaN  sonstige_autos         NaN  \n",
       "354366     125000    petrol           smart          no  \n",
       "354367     150000  gasoline      volkswagen          no  \n",
       "354368     150000  gasoline      volkswagen         NaN  "
      ]
     },
     "execution_count": 6,
     "metadata": {},
     "output_type": "execute_result"
    }
   ],
   "source": [
    "new_df = df.drop([\"DateCrawled\",\"DateCreated\",\"LastSeen\", \"RegistrationMonth\",\"PostalCode\", \"NumberOfPictures\"],axis = 1)\n",
    "new_df.tail()"
   ]
  },
  {
   "cell_type": "markdown",
   "metadata": {},
   "source": [
    "Заменим пропуски на наиболее часто встречающиеся с помощью mode()(так как это все категорийные признаки)."
   ]
  },
  {
   "cell_type": "code",
   "execution_count": 7,
   "metadata": {},
   "outputs": [],
   "source": [
    "new_df[\"VehicleType\"] = new_df[\"VehicleType\"].fillna(new_df[\"VehicleType\"].mode().values[0])\n",
    "new_df[\"Gearbox\"] = new_df[\"Gearbox\"].fillna(new_df[\"Gearbox\"].mode().values[0])\n",
    "new_df[\"Model\"] = new_df[\"Model\"].fillna(new_df[\"Model\"].mode().values[0])\n",
    "new_df[\"FuelType\"] = new_df[\"FuelType\"].fillna(new_df[\"FuelType\"].mode().values[0])\n",
    "new_df[\"NotRepaired\"] = new_df[\"NotRepaired\"].fillna(\"no\")"
   ]
  },
  {
   "cell_type": "markdown",
   "metadata": {},
   "source": [
    "**Посмотрим распределение значений регистрации автомобиля по годам.**"
   ]
  },
  {
   "cell_type": "code",
   "execution_count": 8,
   "metadata": {},
   "outputs": [
    {
     "data": {
      "text/html": [
       "<div>\n",
       "<style scoped>\n",
       "    .dataframe tbody tr th:only-of-type {\n",
       "        vertical-align: middle;\n",
       "    }\n",
       "\n",
       "    .dataframe tbody tr th {\n",
       "        vertical-align: top;\n",
       "    }\n",
       "\n",
       "    .dataframe thead th {\n",
       "        text-align: right;\n",
       "    }\n",
       "</style>\n",
       "<table border=\"1\" class=\"dataframe\">\n",
       "  <thead>\n",
       "    <tr style=\"text-align: right;\">\n",
       "      <th></th>\n",
       "      <th>Price</th>\n",
       "      <th>RegistrationYear</th>\n",
       "      <th>Power</th>\n",
       "      <th>Kilometer</th>\n",
       "    </tr>\n",
       "  </thead>\n",
       "  <tbody>\n",
       "    <tr>\n",
       "      <td>count</td>\n",
       "      <td>354369.000000</td>\n",
       "      <td>354369.000000</td>\n",
       "      <td>354369.000000</td>\n",
       "      <td>354369.000000</td>\n",
       "    </tr>\n",
       "    <tr>\n",
       "      <td>mean</td>\n",
       "      <td>4416.656776</td>\n",
       "      <td>2004.234448</td>\n",
       "      <td>110.094337</td>\n",
       "      <td>128211.172535</td>\n",
       "    </tr>\n",
       "    <tr>\n",
       "      <td>std</td>\n",
       "      <td>4514.158514</td>\n",
       "      <td>90.227958</td>\n",
       "      <td>189.850405</td>\n",
       "      <td>37905.341530</td>\n",
       "    </tr>\n",
       "    <tr>\n",
       "      <td>min</td>\n",
       "      <td>0.000000</td>\n",
       "      <td>1000.000000</td>\n",
       "      <td>0.000000</td>\n",
       "      <td>5000.000000</td>\n",
       "    </tr>\n",
       "    <tr>\n",
       "      <td>25%</td>\n",
       "      <td>1050.000000</td>\n",
       "      <td>1999.000000</td>\n",
       "      <td>69.000000</td>\n",
       "      <td>125000.000000</td>\n",
       "    </tr>\n",
       "    <tr>\n",
       "      <td>50%</td>\n",
       "      <td>2700.000000</td>\n",
       "      <td>2003.000000</td>\n",
       "      <td>105.000000</td>\n",
       "      <td>150000.000000</td>\n",
       "    </tr>\n",
       "    <tr>\n",
       "      <td>75%</td>\n",
       "      <td>6400.000000</td>\n",
       "      <td>2008.000000</td>\n",
       "      <td>143.000000</td>\n",
       "      <td>150000.000000</td>\n",
       "    </tr>\n",
       "    <tr>\n",
       "      <td>max</td>\n",
       "      <td>20000.000000</td>\n",
       "      <td>9999.000000</td>\n",
       "      <td>20000.000000</td>\n",
       "      <td>150000.000000</td>\n",
       "    </tr>\n",
       "  </tbody>\n",
       "</table>\n",
       "</div>"
      ],
      "text/plain": [
       "               Price  RegistrationYear          Power      Kilometer\n",
       "count  354369.000000     354369.000000  354369.000000  354369.000000\n",
       "mean     4416.656776       2004.234448     110.094337  128211.172535\n",
       "std      4514.158514         90.227958     189.850405   37905.341530\n",
       "min         0.000000       1000.000000       0.000000    5000.000000\n",
       "25%      1050.000000       1999.000000      69.000000  125000.000000\n",
       "50%      2700.000000       2003.000000     105.000000  150000.000000\n",
       "75%      6400.000000       2008.000000     143.000000  150000.000000\n",
       "max     20000.000000       9999.000000   20000.000000  150000.000000"
      ]
     },
     "execution_count": 8,
     "metadata": {},
     "output_type": "execute_result"
    }
   ],
   "source": [
    "new_df.describe()"
   ]
  },
  {
   "cell_type": "markdown",
   "metadata": {},
   "source": [
    "Удалим аномальные значения года регистрации автомобиля. На данный момент год регистрация не может быть больше 2021, а за наименьший возьмем 1980, т.к до этого года в нашей выборке незначительное количество автомобилей."
   ]
  },
  {
   "cell_type": "code",
   "execution_count": 9,
   "metadata": {},
   "outputs": [
    {
     "data": {
      "text/plain": [
       "<matplotlib.axes._subplots.AxesSubplot at 0x7fae34112f50>"
      ]
     },
     "execution_count": 9,
     "metadata": {},
     "output_type": "execute_result"
    },
    {
     "data": {
      "image/png": "[encoded data removed]",
      "text/plain": [
       "<Figure size 1080x360 with 1 Axes>"
      ]
     },
     "metadata": {
      "needs_background": "light"
     },
     "output_type": "display_data"
    }
   ],
   "source": [
    "new_df=new_df.loc[(new_df['RegistrationYear']>1980)&(new_df['RegistrationYear']<2021)]\n",
    "\n",
    "plt.figure(figsize=(15,5))\n",
    "sns.boxplot(new_df[\"RegistrationYear\"])"
   ]
  },
  {
   "cell_type": "code",
   "execution_count": 10,
   "metadata": {},
   "outputs": [
    {
     "data": {
      "text/plain": [
       "Text(0.5, 1.0, 'Распределения регистрации автомобиля по годам')"
      ]
     },
     "execution_count": 10,
     "metadata": {},
     "output_type": "execute_result"
    },
    {
     "data": {
      "image/png": "[encoded data removed]",
      "text/plain": [
       "<Figure size 1080x576 with 1 Axes>"
      ]
     },
     "metadata": {
      "needs_background": "light"
     },
     "output_type": "display_data"
    }
   ],
   "source": [
    "plt.figure(figsize=(15,8))\n",
    "sns.distplot(new_df[\"RegistrationYear\"])\n",
    "plt.title('Распределения регистрации автомобиля по годам', fontsize=12)"
   ]
  },
  {
   "cell_type": "markdown",
   "metadata": {},
   "source": [
    "**Посмотрим распределение значений мощности автомобиля.**"
   ]
  },
  {
   "cell_type": "markdown",
   "metadata": {},
   "source": [
    "Чтобы исключить аномальные значения мощности автомобилей, возьмем значения в пределах от 50 до 1500."
   ]
  },
  {
   "cell_type": "code",
   "execution_count": 11,
   "metadata": {},
   "outputs": [
    {
     "data": {
      "text/plain": [
       "<matplotlib.axes._subplots.AxesSubplot at 0x7fae340efe90>"
      ]
     },
     "execution_count": 11,
     "metadata": {},
     "output_type": "execute_result"
    },
    {
     "data": {
      "image/png": "[encoded data removed]",
      "text/plain": [
       "<Figure size 1080x360 with 1 Axes>"
      ]
     },
     "metadata": {
      "needs_background": "light"
     },
     "output_type": "display_data"
    }
   ],
   "source": [
    "new_df=new_df.loc[(new_df['Power']>50)&(new_df['Power']<1500)]\n",
    "\n",
    "plt.figure(figsize=(15,5))\n",
    "sns.boxplot(new_df[\"Power\"])"
   ]
  },
  {
   "cell_type": "code",
   "execution_count": 12,
   "metadata": {},
   "outputs": [
    {
     "data": {
      "text/plain": [
       "Text(0.5, 1.0, 'Распределение значений мощности автомобиля')"
      ]
     },
     "execution_count": 12,
     "metadata": {},
     "output_type": "execute_result"
    },
    {
     "data": {
      "image/png": "[encoded data removed]",
      "text/plain": [
       "<Figure size 1080x576 with 1 Axes>"
      ]
     },
     "metadata": {
      "needs_background": "light"
     },
     "output_type": "display_data"
    }
   ],
   "source": [
    "plt.figure(figsize=(15,8))\n",
    "sns.distplot(new_df[\"Power\"])\n",
    "plt.title('Распределение значений мощности автомобиля', fontsize=12)"
   ]
  },
  {
   "cell_type": "markdown",
   "metadata": {},
   "source": [
    "Удалим аномальные значения целевого признака исходя из значений первого квантиля."
   ]
  },
  {
   "cell_type": "code",
   "execution_count": 13,
   "metadata": {},
   "outputs": [
    {
     "data": {
      "text/plain": [
       "Text(0.5, 1.0, 'Распределение значений стоимости автомобиля')"
      ]
     },
     "execution_count": 13,
     "metadata": {},
     "output_type": "execute_result"
    },
    {
     "data": {
      "image/png": "[encoded data removed]",
      "text/plain": [
       "<Figure size 1080x576 with 1 Axes>"
      ]
     },
     "metadata": {
      "needs_background": "light"
     },
     "output_type": "display_data"
    }
   ],
   "source": [
    "df_clear=new_df.loc[(new_df['Price']>1000)]\n",
    "\n",
    "plt.figure(figsize=(15,8))\n",
    "sns.distplot(df_clear[\"Price\"])\n",
    "plt.title('Распределение значений стоимости автомобиля', fontsize=12)"
   ]
  },
  {
   "cell_type": "code",
   "execution_count": 14,
   "metadata": {
    "scrolled": true
   },
   "outputs": [
    {
     "data": {
      "text/html": [
       "<div>\n",
       "<style scoped>\n",
       "    .dataframe tbody tr th:only-of-type {\n",
       "        vertical-align: middle;\n",
       "    }\n",
       "\n",
       "    .dataframe tbody tr th {\n",
       "        vertical-align: top;\n",
       "    }\n",
       "\n",
       "    .dataframe thead th {\n",
       "        text-align: right;\n",
       "    }\n",
       "</style>\n",
       "<table border=\"1\" class=\"dataframe\">\n",
       "  <thead>\n",
       "    <tr style=\"text-align: right;\">\n",
       "      <th></th>\n",
       "      <th>Price</th>\n",
       "      <th>RegistrationYear</th>\n",
       "      <th>Power</th>\n",
       "      <th>Kilometer</th>\n",
       "    </tr>\n",
       "  </thead>\n",
       "  <tbody>\n",
       "    <tr>\n",
       "      <td>Price</td>\n",
       "      <td>1.000000</td>\n",
       "      <td>0.469135</td>\n",
       "      <td>0.429502</td>\n",
       "      <td>-0.384564</td>\n",
       "    </tr>\n",
       "    <tr>\n",
       "      <td>RegistrationYear</td>\n",
       "      <td>0.469135</td>\n",
       "      <td>1.000000</td>\n",
       "      <td>-0.009075</td>\n",
       "      <td>-0.362277</td>\n",
       "    </tr>\n",
       "    <tr>\n",
       "      <td>Power</td>\n",
       "      <td>0.429502</td>\n",
       "      <td>-0.009075</td>\n",
       "      <td>1.000000</td>\n",
       "      <td>0.156679</td>\n",
       "    </tr>\n",
       "    <tr>\n",
       "      <td>Kilometer</td>\n",
       "      <td>-0.384564</td>\n",
       "      <td>-0.362277</td>\n",
       "      <td>0.156679</td>\n",
       "      <td>1.000000</td>\n",
       "    </tr>\n",
       "  </tbody>\n",
       "</table>\n",
       "</div>"
      ],
      "text/plain": [
       "                     Price  RegistrationYear     Power  Kilometer\n",
       "Price             1.000000          0.469135  0.429502  -0.384564\n",
       "RegistrationYear  0.469135          1.000000 -0.009075  -0.362277\n",
       "Power             0.429502         -0.009075  1.000000   0.156679\n",
       "Kilometer        -0.384564         -0.362277  0.156679   1.000000"
      ]
     },
     "execution_count": 14,
     "metadata": {},
     "output_type": "execute_result"
    }
   ],
   "source": [
    "df_clear.corr()"
   ]
  },
  {
   "cell_type": "markdown",
   "metadata": {},
   "source": [
    "## Обучение моделей"
   ]
  },
  {
   "cell_type": "markdown",
   "metadata": {},
   "source": [
    "### Разделим данные на выборки"
   ]
  },
  {
   "cell_type": "code",
   "execution_count": 15,
   "metadata": {},
   "outputs": [
    {
     "data": {
      "text/html": [
       "<div>\n",
       "<style scoped>\n",
       "    .dataframe tbody tr th:only-of-type {\n",
       "        vertical-align: middle;\n",
       "    }\n",
       "\n",
       "    .dataframe tbody tr th {\n",
       "        vertical-align: top;\n",
       "    }\n",
       "\n",
       "    .dataframe thead th {\n",
       "        text-align: right;\n",
       "    }\n",
       "</style>\n",
       "<table border=\"1\" class=\"dataframe\">\n",
       "  <thead>\n",
       "    <tr style=\"text-align: right;\">\n",
       "      <th></th>\n",
       "      <th>Price</th>\n",
       "      <th>VehicleType</th>\n",
       "      <th>RegistrationYear</th>\n",
       "      <th>Gearbox</th>\n",
       "      <th>Power</th>\n",
       "      <th>Model</th>\n",
       "      <th>Kilometer</th>\n",
       "      <th>FuelType</th>\n",
       "      <th>Brand</th>\n",
       "      <th>NotRepaired</th>\n",
       "    </tr>\n",
       "  </thead>\n",
       "  <tbody>\n",
       "    <tr>\n",
       "      <td>1</td>\n",
       "      <td>18300</td>\n",
       "      <td>coupe</td>\n",
       "      <td>2011</td>\n",
       "      <td>manual</td>\n",
       "      <td>190</td>\n",
       "      <td>golf</td>\n",
       "      <td>125000</td>\n",
       "      <td>gasoline</td>\n",
       "      <td>audi</td>\n",
       "      <td>yes</td>\n",
       "    </tr>\n",
       "    <tr>\n",
       "      <td>2</td>\n",
       "      <td>9800</td>\n",
       "      <td>suv</td>\n",
       "      <td>2004</td>\n",
       "      <td>auto</td>\n",
       "      <td>163</td>\n",
       "      <td>grand</td>\n",
       "      <td>125000</td>\n",
       "      <td>gasoline</td>\n",
       "      <td>jeep</td>\n",
       "      <td>no</td>\n",
       "    </tr>\n",
       "    <tr>\n",
       "      <td>3</td>\n",
       "      <td>1500</td>\n",
       "      <td>small</td>\n",
       "      <td>2001</td>\n",
       "      <td>manual</td>\n",
       "      <td>75</td>\n",
       "      <td>golf</td>\n",
       "      <td>150000</td>\n",
       "      <td>petrol</td>\n",
       "      <td>volkswagen</td>\n",
       "      <td>no</td>\n",
       "    </tr>\n",
       "    <tr>\n",
       "      <td>4</td>\n",
       "      <td>3600</td>\n",
       "      <td>small</td>\n",
       "      <td>2008</td>\n",
       "      <td>manual</td>\n",
       "      <td>69</td>\n",
       "      <td>fabia</td>\n",
       "      <td>90000</td>\n",
       "      <td>gasoline</td>\n",
       "      <td>skoda</td>\n",
       "      <td>no</td>\n",
       "    </tr>\n",
       "    <tr>\n",
       "      <td>6</td>\n",
       "      <td>2200</td>\n",
       "      <td>convertible</td>\n",
       "      <td>2004</td>\n",
       "      <td>manual</td>\n",
       "      <td>109</td>\n",
       "      <td>2_reihe</td>\n",
       "      <td>150000</td>\n",
       "      <td>petrol</td>\n",
       "      <td>peugeot</td>\n",
       "      <td>no</td>\n",
       "    </tr>\n",
       "  </tbody>\n",
       "</table>\n",
       "</div>"
      ],
      "text/plain": [
       "   Price  VehicleType  RegistrationYear Gearbox  Power    Model  Kilometer  \\\n",
       "1  18300        coupe              2011  manual    190     golf     125000   \n",
       "2   9800          suv              2004    auto    163    grand     125000   \n",
       "3   1500        small              2001  manual     75     golf     150000   \n",
       "4   3600        small              2008  manual     69    fabia      90000   \n",
       "6   2200  convertible              2004  manual    109  2_reihe     150000   \n",
       "\n",
       "   FuelType       Brand NotRepaired  \n",
       "1  gasoline        audi         yes  \n",
       "2  gasoline        jeep          no  \n",
       "3    petrol  volkswagen          no  \n",
       "4  gasoline       skoda          no  \n",
       "6    petrol     peugeot          no  "
      ]
     },
     "execution_count": 15,
     "metadata": {},
     "output_type": "execute_result"
    }
   ],
   "source": [
    "df_clear.head()"
   ]
  },
  {
   "cell_type": "code",
   "execution_count": 16,
   "metadata": {},
   "outputs": [
    {
     "data": {
      "text/plain": [
       "array(['coupe', 'suv', 'small', 'convertible', 'bus', 'sedan', 'wagon',\n",
       "       'other'], dtype=object)"
      ]
     },
     "execution_count": 16,
     "metadata": {},
     "output_type": "execute_result"
    }
   ],
   "source": [
    "df_clear['VehicleType'].unique()"
   ]
  },
  {
   "cell_type": "code",
   "execution_count": 17,
   "metadata": {},
   "outputs": [],
   "source": [
    "y=new_df['Price']\n",
    "X=new_df.drop(['Price'],axis=1)"
   ]
  },
  {
   "cell_type": "code",
   "execution_count": 18,
   "metadata": {},
   "outputs": [
    {
     "data": {
      "text/plain": [
       "['VehicleType', 'Gearbox', 'Model', 'FuelType', 'Brand', 'NotRepaired']"
      ]
     },
     "execution_count": 18,
     "metadata": {},
     "output_type": "execute_result"
    }
   ],
   "source": [
    "cat_features=[\"VehicleType\",\"Gearbox\",\"Model\",\"FuelType\", \"Brand\",\"NotRepaired\"]\n",
    "cat_features"
   ]
  },
  {
   "cell_type": "code",
   "execution_count": 19,
   "metadata": {},
   "outputs": [],
   "source": [
    "data = train_test_split(X, y, train_size=0.8, random_state=30)\n",
    "X_train, X_validation, y_train, y_validation = data\n",
    "\n",
    "train_pool = Pool(data=X_train, label=y_train, cat_features=[\"VehicleType\",\"Gearbox\",\"Model\",\"FuelType\", \"Brand\",\"NotRepaired\"])\n",
    "validation_pool = Pool(data=X_validation, label=y_validation, cat_features=[\"VehicleType\",\"Gearbox\",\"Model\",\"FuelType\", \"Brand\",\"NotRepaired\"])"
   ]
  },
  {
   "cell_type": "markdown",
   "metadata": {},
   "source": [
    "### Подбор параметров для CatBoost"
   ]
  },
  {
   "cell_type": "markdown",
   "metadata": {},
   "source": [
    "Попробуем подобрать оптимальные параметры для CatBoost, используя GridSearchCV."
   ]
  },
  {
   "cell_type": "code",
   "execution_count": 20,
   "metadata": {},
   "outputs": [],
   "source": [
    "CBC = CatBoostRegressor(iterations=200)"
   ]
  },
  {
   "cell_type": "code",
   "execution_count": 21,
   "metadata": {},
   "outputs": [],
   "source": [
    "grid = {\n",
    "    'depth' : [5,6,7,8,9,10], \n",
    "    'learning_rate' : [0.1,0.3,0.4]\n",
    "}"
   ]
  },
  {
   "cell_type": "code",
   "execution_count": null,
   "metadata": {
    "scrolled": true
   },
   "outputs": [],
   "source": [
    "result = CBC.grid_search(grid, train_pool, verbose=True)"
   ]
  },
  {
   "cell_type": "markdown",
   "metadata": {},
   "source": [
    "### Время обучения разных моделей по заданым параметрам."
   ]
  },
  {
   "cell_type": "markdown",
   "metadata": {},
   "source": [
    "**CatBoost**"
   ]
  },
  {
   "cell_type": "code",
   "execution_count": 37,
   "metadata": {
    "scrolled": true
   },
   "outputs": [
    {
     "name": "stdout",
     "output_type": "stream",
     "text": [
      "0:\tlearn: 3634.8977603\ttest: 3653.1831104\tbest: 3653.1831104 (0)\ttotal: 813ms\tremaining: 2m 41s\n",
      "1:\tlearn: 3002.6059888\ttest: 3022.8029759\tbest: 3022.8029759 (1)\ttotal: 1.71s\tremaining: 2m 49s\n",
      "2:\tlearn: 2610.5712082\ttest: 2631.0674241\tbest: 2631.0674241 (2)\ttotal: 2.61s\tremaining: 2m 51s\n",
      "3:\tlearn: 2347.7117635\ttest: 2370.5587753\tbest: 2370.5587753 (3)\ttotal: 3.5s\tremaining: 2m 51s\n",
      "4:\tlearn: 2194.7625220\ttest: 2219.2075600\tbest: 2219.2075600 (4)\ttotal: 4.22s\tremaining: 2m 44s\n",
      "5:\tlearn: 2093.6963490\ttest: 2114.8140213\tbest: 2114.8140213 (5)\ttotal: 5.1s\tremaining: 2m 45s\n",
      "6:\tlearn: 2028.0588486\ttest: 2049.2635838\tbest: 2049.2635838 (6)\ttotal: 5.81s\tremaining: 2m 40s\n",
      "7:\tlearn: 1976.1245348\ttest: 1995.6432051\tbest: 1995.6432051 (7)\ttotal: 6.61s\tremaining: 2m 38s\n",
      "8:\tlearn: 1938.4007709\ttest: 1956.3042992\tbest: 1956.3042992 (8)\ttotal: 7.41s\tremaining: 2m 37s\n",
      "9:\tlearn: 1916.0554257\ttest: 1934.8688914\tbest: 1934.8688914 (9)\ttotal: 8.3s\tremaining: 2m 37s\n",
      "10:\tlearn: 1898.1498774\ttest: 1916.9127443\tbest: 1916.9127443 (10)\ttotal: 9.01s\tremaining: 2m 34s\n",
      "11:\tlearn: 1882.9161956\ttest: 1901.7767788\tbest: 1901.7767788 (11)\ttotal: 9.8s\tremaining: 2m 33s\n",
      "12:\tlearn: 1869.2675759\ttest: 1890.3176142\tbest: 1890.3176142 (12)\ttotal: 10.6s\tremaining: 2m 32s\n",
      "13:\tlearn: 1853.7645021\ttest: 1873.9198375\tbest: 1873.9198375 (13)\ttotal: 11.3s\tremaining: 2m 30s\n",
      "14:\tlearn: 1844.6076311\ttest: 1865.7884217\tbest: 1865.7884217 (14)\ttotal: 12s\tremaining: 2m 28s\n",
      "15:\tlearn: 1833.5967305\ttest: 1855.2301017\tbest: 1855.2301017 (15)\ttotal: 12.8s\tremaining: 2m 27s\n",
      "16:\tlearn: 1825.4670933\ttest: 1848.0084442\tbest: 1848.0084442 (16)\ttotal: 13.6s\tremaining: 2m 26s\n",
      "17:\tlearn: 1818.3550300\ttest: 1841.6405639\tbest: 1841.6405639 (17)\ttotal: 14.4s\tremaining: 2m 25s\n",
      "18:\tlearn: 1807.8848760\ttest: 1832.1831119\tbest: 1832.1831119 (18)\ttotal: 15.2s\tremaining: 2m 24s\n",
      "19:\tlearn: 1801.9995442\ttest: 1826.7506045\tbest: 1826.7506045 (19)\ttotal: 15.9s\tremaining: 2m 23s\n",
      "20:\tlearn: 1793.6964676\ttest: 1821.8737758\tbest: 1821.8737758 (20)\ttotal: 16.7s\tremaining: 2m 22s\n",
      "21:\tlearn: 1787.3966378\ttest: 1816.2466073\tbest: 1816.2466073 (21)\ttotal: 17.5s\tremaining: 2m 21s\n",
      "22:\tlearn: 1780.4342314\ttest: 1809.7642853\tbest: 1809.7642853 (22)\ttotal: 18.4s\tremaining: 2m 21s\n",
      "23:\tlearn: 1774.8971435\ttest: 1804.4685671\tbest: 1804.4685671 (23)\ttotal: 19.2s\tremaining: 2m 20s\n",
      "24:\tlearn: 1768.9383400\ttest: 1798.9804206\tbest: 1798.9804206 (24)\ttotal: 20.1s\tremaining: 2m 20s\n",
      "25:\tlearn: 1765.8216686\ttest: 1796.3169122\tbest: 1796.3169122 (25)\ttotal: 20.9s\tremaining: 2m 19s\n",
      "26:\tlearn: 1761.9758180\ttest: 1792.7942205\tbest: 1792.7942205 (26)\ttotal: 21.6s\tremaining: 2m 18s\n",
      "27:\tlearn: 1757.3074474\ttest: 1790.0685170\tbest: 1790.0685170 (27)\ttotal: 22.4s\tremaining: 2m 17s\n",
      "28:\tlearn: 1754.4893216\ttest: 1787.8870024\tbest: 1787.8870024 (28)\ttotal: 23.2s\tremaining: 2m 16s\n",
      "29:\tlearn: 1750.8842255\ttest: 1785.5608835\tbest: 1785.5608835 (29)\ttotal: 23.8s\tremaining: 2m 14s\n",
      "30:\tlearn: 1747.8514126\ttest: 1782.6577751\tbest: 1782.6577751 (30)\ttotal: 24.6s\tremaining: 2m 14s\n",
      "31:\tlearn: 1743.2956349\ttest: 1779.0718376\tbest: 1779.0718376 (31)\ttotal: 25.3s\tremaining: 2m 12s\n",
      "32:\tlearn: 1737.2110314\ttest: 1775.1913034\tbest: 1775.1913034 (32)\ttotal: 25.9s\tremaining: 2m 11s\n",
      "33:\tlearn: 1733.5497536\ttest: 1772.9436151\tbest: 1772.9436151 (33)\ttotal: 26.9s\tremaining: 2m 11s\n",
      "34:\tlearn: 1730.6442545\ttest: 1770.9921926\tbest: 1770.9921926 (34)\ttotal: 27.6s\tremaining: 2m 10s\n",
      "35:\tlearn: 1727.5282485\ttest: 1769.5006333\tbest: 1769.5006333 (35)\ttotal: 28.3s\tremaining: 2m 8s\n",
      "36:\tlearn: 1724.4857301\ttest: 1766.7907036\tbest: 1766.7907036 (36)\ttotal: 29.3s\tremaining: 2m 8s\n",
      "37:\tlearn: 1720.6697874\ttest: 1764.2551785\tbest: 1764.2551785 (37)\ttotal: 30.1s\tremaining: 2m 8s\n",
      "38:\tlearn: 1716.5717861\ttest: 1761.8208717\tbest: 1761.8208717 (38)\ttotal: 30.9s\tremaining: 2m 7s\n",
      "39:\tlearn: 1713.8662954\ttest: 1759.5682960\tbest: 1759.5682960 (39)\ttotal: 31.7s\tremaining: 2m 6s\n",
      "40:\tlearn: 1711.7704618\ttest: 1758.7269912\tbest: 1758.7269912 (40)\ttotal: 32.4s\tremaining: 2m 5s\n",
      "41:\tlearn: 1708.2048620\ttest: 1755.9667682\tbest: 1755.9667682 (41)\ttotal: 33.2s\tremaining: 2m 4s\n",
      "42:\tlearn: 1705.2942287\ttest: 1754.2232125\tbest: 1754.2232125 (42)\ttotal: 34s\tremaining: 2m 4s\n",
      "43:\tlearn: 1701.8872562\ttest: 1752.5554009\tbest: 1752.5554009 (43)\ttotal: 34.6s\tremaining: 2m 2s\n",
      "44:\tlearn: 1698.0236462\ttest: 1749.8909653\tbest: 1749.8909653 (44)\ttotal: 35.5s\tremaining: 2m 2s\n",
      "45:\tlearn: 1694.6622439\ttest: 1747.6373624\tbest: 1747.6373624 (45)\ttotal: 36.4s\tremaining: 2m 1s\n",
      "46:\tlearn: 1690.3866623\ttest: 1743.6875971\tbest: 1743.6875971 (46)\ttotal: 37.1s\tremaining: 2m\n",
      "47:\tlearn: 1686.4525132\ttest: 1741.5031427\tbest: 1741.5031427 (47)\ttotal: 37.8s\tremaining: 1m 59s\n",
      "48:\tlearn: 1682.8216925\ttest: 1738.4485207\tbest: 1738.4485207 (48)\ttotal: 38.6s\tremaining: 1m 58s\n",
      "49:\tlearn: 1680.4059971\ttest: 1737.0818867\tbest: 1737.0818867 (49)\ttotal: 39.5s\tremaining: 1m 58s\n",
      "50:\tlearn: 1678.5474379\ttest: 1735.9895653\tbest: 1735.9895653 (50)\ttotal: 40.3s\tremaining: 1m 57s\n",
      "51:\tlearn: 1673.8339975\ttest: 1732.4799280\tbest: 1732.4799280 (51)\ttotal: 41.1s\tremaining: 1m 56s\n",
      "52:\tlearn: 1671.3773202\ttest: 1730.2401763\tbest: 1730.2401763 (52)\ttotal: 42s\tremaining: 1m 56s\n",
      "53:\tlearn: 1668.6146427\ttest: 1729.0152571\tbest: 1729.0152571 (53)\ttotal: 42.8s\tremaining: 1m 55s\n",
      "54:\tlearn: 1666.4116846\ttest: 1727.0549046\tbest: 1727.0549046 (54)\ttotal: 43.8s\tremaining: 1m 55s\n",
      "55:\tlearn: 1664.0703167\ttest: 1725.9821739\tbest: 1725.9821739 (55)\ttotal: 44.6s\tremaining: 1m 54s\n",
      "56:\tlearn: 1662.3587236\ttest: 1725.1008907\tbest: 1725.1008907 (56)\ttotal: 45.4s\tremaining: 1m 53s\n",
      "57:\tlearn: 1658.1712385\ttest: 1723.2162169\tbest: 1723.2162169 (57)\ttotal: 46.3s\tremaining: 1m 53s\n",
      "58:\tlearn: 1655.5346513\ttest: 1721.9221239\tbest: 1721.9221239 (58)\ttotal: 47s\tremaining: 1m 52s\n",
      "59:\tlearn: 1652.6884165\ttest: 1719.8396902\tbest: 1719.8396902 (59)\ttotal: 47.9s\tremaining: 1m 51s\n",
      "60:\tlearn: 1650.5890559\ttest: 1718.0201637\tbest: 1718.0201637 (60)\ttotal: 48.7s\tremaining: 1m 50s\n",
      "61:\tlearn: 1648.8933339\ttest: 1716.8659851\tbest: 1716.8659851 (61)\ttotal: 49.6s\tremaining: 1m 50s\n",
      "62:\tlearn: 1646.9053500\ttest: 1715.5687770\tbest: 1715.5687770 (62)\ttotal: 50.4s\tremaining: 1m 49s\n",
      "63:\tlearn: 1645.7277581\ttest: 1714.5511870\tbest: 1714.5511870 (63)\ttotal: 51.4s\tremaining: 1m 49s\n",
      "64:\tlearn: 1644.1631011\ttest: 1713.6716158\tbest: 1713.6716158 (64)\ttotal: 52.3s\tremaining: 1m 48s\n",
      "65:\tlearn: 1642.4767373\ttest: 1712.9248578\tbest: 1712.9248578 (65)\ttotal: 53.2s\tremaining: 1m 47s\n",
      "66:\tlearn: 1641.1388041\ttest: 1712.3741648\tbest: 1712.3741648 (66)\ttotal: 54s\tremaining: 1m 47s\n",
      "67:\tlearn: 1637.9774009\ttest: 1710.9092375\tbest: 1710.9092375 (67)\ttotal: 54.8s\tremaining: 1m 46s\n",
      "68:\tlearn: 1637.1240285\ttest: 1710.6113848\tbest: 1710.6113848 (68)\ttotal: 55.5s\tremaining: 1m 45s\n",
      "69:\tlearn: 1636.3551332\ttest: 1710.3071757\tbest: 1710.3071757 (69)\ttotal: 56.3s\tremaining: 1m 44s\n",
      "70:\tlearn: 1634.1218790\ttest: 1709.6914003\tbest: 1709.6914003 (70)\ttotal: 57.3s\tremaining: 1m 44s\n",
      "71:\tlearn: 1631.4294180\ttest: 1707.9815457\tbest: 1707.9815457 (71)\ttotal: 58s\tremaining: 1m 43s\n",
      "72:\tlearn: 1630.9801625\ttest: 1707.6149742\tbest: 1707.6149742 (72)\ttotal: 58.8s\tremaining: 1m 42s\n",
      "73:\tlearn: 1629.2030451\ttest: 1706.3034078\tbest: 1706.3034078 (73)\ttotal: 59.6s\tremaining: 1m 41s\n",
      "74:\tlearn: 1627.9603980\ttest: 1705.4902294\tbest: 1705.4902294 (74)\ttotal: 1m\tremaining: 1m 40s\n",
      "75:\tlearn: 1627.5865461\ttest: 1705.2787230\tbest: 1705.2787230 (75)\ttotal: 1m\tremaining: 1m 39s\n",
      "76:\tlearn: 1626.2849399\ttest: 1704.3150701\tbest: 1704.3150701 (76)\ttotal: 1m 1s\tremaining: 1m 38s\n",
      "77:\tlearn: 1625.6279726\ttest: 1704.1478719\tbest: 1704.1478719 (77)\ttotal: 1m 2s\tremaining: 1m 37s\n",
      "78:\tlearn: 1624.4109974\ttest: 1703.7447316\tbest: 1703.7447316 (78)\ttotal: 1m 3s\tremaining: 1m 36s\n",
      "79:\tlearn: 1621.9964078\ttest: 1702.4642673\tbest: 1702.4642673 (79)\ttotal: 1m 3s\tremaining: 1m 35s\n",
      "80:\tlearn: 1621.1522623\ttest: 1701.8968746\tbest: 1701.8968746 (80)\ttotal: 1m 4s\tremaining: 1m 34s\n",
      "81:\tlearn: 1618.5979022\ttest: 1700.9882177\tbest: 1700.9882177 (81)\ttotal: 1m 5s\tremaining: 1m 34s\n",
      "82:\tlearn: 1615.6064909\ttest: 1699.8604290\tbest: 1699.8604290 (82)\ttotal: 1m 6s\tremaining: 1m 33s\n",
      "83:\tlearn: 1614.3104209\ttest: 1699.5306965\tbest: 1699.5306965 (83)\ttotal: 1m 6s\tremaining: 1m 32s\n",
      "84:\tlearn: 1612.8701303\ttest: 1698.9587573\tbest: 1698.9587573 (84)\ttotal: 1m 7s\tremaining: 1m 31s\n",
      "85:\tlearn: 1612.2489526\ttest: 1698.6309394\tbest: 1698.6309394 (85)\ttotal: 1m 8s\tremaining: 1m 30s\n",
      "86:\tlearn: 1610.4630301\ttest: 1698.0224588\tbest: 1698.0224588 (86)\ttotal: 1m 9s\tremaining: 1m 29s\n",
      "87:\tlearn: 1609.0751115\ttest: 1697.5726068\tbest: 1697.5726068 (87)\ttotal: 1m 9s\tremaining: 1m 28s\n",
      "88:\tlearn: 1608.2247843\ttest: 1697.2099787\tbest: 1697.2099787 (88)\ttotal: 1m 10s\tremaining: 1m 27s\n",
      "89:\tlearn: 1607.8867024\ttest: 1697.3013920\tbest: 1697.2099787 (88)\ttotal: 1m 11s\tremaining: 1m 27s\n",
      "90:\tlearn: 1606.6098626\ttest: 1696.8423542\tbest: 1696.8423542 (90)\ttotal: 1m 12s\tremaining: 1m 26s\n",
      "91:\tlearn: 1605.4139266\ttest: 1696.3527413\tbest: 1696.3527413 (91)\ttotal: 1m 13s\tremaining: 1m 25s\n",
      "92:\tlearn: 1604.8070925\ttest: 1696.1412641\tbest: 1696.1412641 (92)\ttotal: 1m 14s\tremaining: 1m 25s\n",
      "93:\tlearn: 1603.8585039\ttest: 1695.6351778\tbest: 1695.6351778 (93)\ttotal: 1m 14s\tremaining: 1m 24s\n",
      "94:\tlearn: 1603.0035014\ttest: 1695.3325758\tbest: 1695.3325758 (94)\ttotal: 1m 15s\tremaining: 1m 23s\n",
      "95:\tlearn: 1601.4889834\ttest: 1694.5921280\tbest: 1694.5921280 (95)\ttotal: 1m 16s\tremaining: 1m 22s\n",
      "96:\tlearn: 1599.5407070\ttest: 1693.3808560\tbest: 1693.3808560 (96)\ttotal: 1m 17s\tremaining: 1m 22s\n",
      "97:\tlearn: 1598.2186592\ttest: 1692.8210042\tbest: 1692.8210042 (97)\ttotal: 1m 18s\tremaining: 1m 21s\n",
      "98:\tlearn: 1596.5028496\ttest: 1692.0650418\tbest: 1692.0650418 (98)\ttotal: 1m 18s\tremaining: 1m 20s\n",
      "99:\tlearn: 1594.9444673\ttest: 1691.6272346\tbest: 1691.6272346 (99)\ttotal: 1m 19s\tremaining: 1m 19s\n",
      "100:\tlearn: 1593.3253629\ttest: 1690.5084191\tbest: 1690.5084191 (100)\ttotal: 1m 20s\tremaining: 1m 18s\n",
      "101:\tlearn: 1591.9783839\ttest: 1690.2690832\tbest: 1690.2690832 (101)\ttotal: 1m 21s\tremaining: 1m 18s\n",
      "102:\tlearn: 1590.4091330\ttest: 1690.0854784\tbest: 1690.0854784 (102)\ttotal: 1m 22s\tremaining: 1m 17s\n",
      "103:\tlearn: 1588.7972325\ttest: 1689.1733316\tbest: 1689.1733316 (103)\ttotal: 1m 22s\tremaining: 1m 16s\n",
      "104:\tlearn: 1588.0428757\ttest: 1689.0359030\tbest: 1689.0359030 (104)\ttotal: 1m 23s\tremaining: 1m 15s\n",
      "105:\tlearn: 1587.1170636\ttest: 1688.8296876\tbest: 1688.8296876 (105)\ttotal: 1m 24s\tremaining: 1m 14s\n",
      "106:\tlearn: 1585.8810915\ttest: 1688.2774388\tbest: 1688.2774388 (106)\ttotal: 1m 25s\tremaining: 1m 14s\n",
      "107:\tlearn: 1584.8717498\ttest: 1688.0726957\tbest: 1688.0726957 (107)\ttotal: 1m 26s\tremaining: 1m 13s\n",
      "108:\tlearn: 1583.7327163\ttest: 1687.7248387\tbest: 1687.7248387 (108)\ttotal: 1m 26s\tremaining: 1m 12s\n",
      "109:\tlearn: 1583.2686267\ttest: 1687.7094887\tbest: 1687.7094887 (109)\ttotal: 1m 27s\tremaining: 1m 11s\n",
      "110:\tlearn: 1582.1611412\ttest: 1687.3454183\tbest: 1687.3454183 (110)\ttotal: 1m 28s\tremaining: 1m 10s\n",
      "111:\tlearn: 1581.3797809\ttest: 1687.2392711\tbest: 1687.2392711 (111)\ttotal: 1m 29s\tremaining: 1m 10s\n",
      "112:\tlearn: 1580.2578849\ttest: 1686.7668066\tbest: 1686.7668066 (112)\ttotal: 1m 30s\tremaining: 1m 9s\n",
      "113:\tlearn: 1577.5490329\ttest: 1685.8909076\tbest: 1685.8909076 (113)\ttotal: 1m 30s\tremaining: 1m 8s\n",
      "114:\tlearn: 1576.9188426\ttest: 1685.3731355\tbest: 1685.3731355 (114)\ttotal: 1m 31s\tremaining: 1m 7s\n",
      "115:\tlearn: 1575.8827532\ttest: 1685.4796539\tbest: 1685.3731355 (114)\ttotal: 1m 32s\tremaining: 1m 6s\n",
      "116:\tlearn: 1574.8790692\ttest: 1684.9918056\tbest: 1684.9918056 (116)\ttotal: 1m 33s\tremaining: 1m 6s\n",
      "117:\tlearn: 1573.0048174\ttest: 1684.4067778\tbest: 1684.4067778 (117)\ttotal: 1m 33s\tremaining: 1m 5s\n",
      "118:\tlearn: 1572.5200342\ttest: 1684.2393305\tbest: 1684.2393305 (118)\ttotal: 1m 34s\tremaining: 1m 4s\n",
      "119:\tlearn: 1571.9359330\ttest: 1683.8259256\tbest: 1683.8259256 (119)\ttotal: 1m 35s\tremaining: 1m 3s\n",
      "120:\tlearn: 1571.2417301\ttest: 1683.3582974\tbest: 1683.3582974 (120)\ttotal: 1m 36s\tremaining: 1m 2s\n",
      "121:\tlearn: 1568.6957490\ttest: 1681.5149076\tbest: 1681.5149076 (121)\ttotal: 1m 36s\tremaining: 1m 1s\n",
      "122:\tlearn: 1567.8129867\ttest: 1681.3163271\tbest: 1681.3163271 (122)\ttotal: 1m 37s\tremaining: 1m 1s\n",
      "123:\tlearn: 1567.4862577\ttest: 1681.2410049\tbest: 1681.2410049 (123)\ttotal: 1m 38s\tremaining: 1m\n",
      "124:\tlearn: 1566.8322564\ttest: 1680.7438701\tbest: 1680.7438701 (124)\ttotal: 1m 39s\tremaining: 59.5s\n",
      "125:\tlearn: 1565.1778447\ttest: 1680.3713420\tbest: 1680.3713420 (125)\ttotal: 1m 39s\tremaining: 58.7s\n",
      "126:\tlearn: 1564.4711380\ttest: 1680.2274839\tbest: 1680.2274839 (126)\ttotal: 1m 40s\tremaining: 57.9s\n",
      "127:\tlearn: 1562.7930547\ttest: 1679.1510208\tbest: 1679.1510208 (127)\ttotal: 1m 41s\tremaining: 57s\n",
      "128:\tlearn: 1561.6561689\ttest: 1678.8246586\tbest: 1678.8246586 (128)\ttotal: 1m 42s\tremaining: 56.2s\n",
      "129:\tlearn: 1559.8080622\ttest: 1678.0001012\tbest: 1678.0001012 (129)\ttotal: 1m 42s\tremaining: 55.4s\n",
      "130:\tlearn: 1559.0387282\ttest: 1677.4403153\tbest: 1677.4403153 (130)\ttotal: 1m 43s\tremaining: 54.6s\n",
      "131:\tlearn: 1558.1850943\ttest: 1676.9597611\tbest: 1676.9597611 (131)\ttotal: 1m 44s\tremaining: 53.9s\n",
      "132:\tlearn: 1557.2235138\ttest: 1676.5017494\tbest: 1676.5017494 (132)\ttotal: 1m 45s\tremaining: 53.1s\n",
      "133:\tlearn: 1555.7912713\ttest: 1676.4642361\tbest: 1676.4642361 (133)\ttotal: 1m 46s\tremaining: 52.3s\n",
      "134:\tlearn: 1554.8440875\ttest: 1676.1485665\tbest: 1676.1485665 (134)\ttotal: 1m 47s\tremaining: 51.6s\n",
      "135:\tlearn: 1553.9313463\ttest: 1676.1639314\tbest: 1676.1485665 (134)\ttotal: 1m 47s\tremaining: 50.8s\n",
      "136:\tlearn: 1552.6981643\ttest: 1675.8523949\tbest: 1675.8523949 (136)\ttotal: 1m 48s\tremaining: 50.1s\n",
      "137:\tlearn: 1551.3625539\ttest: 1675.3632173\tbest: 1675.3632173 (137)\ttotal: 1m 49s\tremaining: 49.3s\n",
      "138:\tlearn: 1550.6012944\ttest: 1675.1007202\tbest: 1675.1007202 (138)\ttotal: 1m 50s\tremaining: 48.5s\n",
      "139:\tlearn: 1549.9843769\ttest: 1674.8112279\tbest: 1674.8112279 (139)\ttotal: 1m 51s\tremaining: 47.7s\n",
      "140:\tlearn: 1548.6824136\ttest: 1674.4070060\tbest: 1674.4070060 (140)\ttotal: 1m 52s\tremaining: 46.9s\n",
      "141:\tlearn: 1547.8871939\ttest: 1674.1903980\tbest: 1674.1903980 (141)\ttotal: 1m 52s\tremaining: 46.1s\n",
      "142:\tlearn: 1546.8953747\ttest: 1673.6725320\tbest: 1673.6725320 (142)\ttotal: 1m 53s\tremaining: 45.3s\n",
      "143:\tlearn: 1545.9177712\ttest: 1673.4433516\tbest: 1673.4433516 (143)\ttotal: 1m 54s\tremaining: 44.6s\n",
      "144:\tlearn: 1545.4222731\ttest: 1673.6046029\tbest: 1673.4433516 (143)\ttotal: 1m 55s\tremaining: 43.8s\n",
      "145:\tlearn: 1545.0421615\ttest: 1673.8102270\tbest: 1673.4433516 (143)\ttotal: 1m 56s\tremaining: 43s\n",
      "146:\tlearn: 1544.5120375\ttest: 1673.7553802\tbest: 1673.4433516 (143)\ttotal: 1m 57s\tremaining: 42.3s\n",
      "147:\tlearn: 1544.0832902\ttest: 1673.6633763\tbest: 1673.4433516 (143)\ttotal: 1m 58s\tremaining: 41.5s\n",
      "148:\tlearn: 1544.0045668\ttest: 1673.6684935\tbest: 1673.4433516 (143)\ttotal: 1m 58s\tremaining: 40.7s\n",
      "149:\tlearn: 1542.8401987\ttest: 1673.3175899\tbest: 1673.3175899 (149)\ttotal: 1m 59s\tremaining: 40s\n",
      "150:\tlearn: 1541.7251712\ttest: 1672.9856932\tbest: 1672.9856932 (150)\ttotal: 2m\tremaining: 39.2s\n",
      "151:\tlearn: 1541.0701119\ttest: 1673.0164878\tbest: 1672.9856932 (150)\ttotal: 2m 1s\tremaining: 38.5s\n",
      "152:\tlearn: 1540.3068899\ttest: 1672.9527181\tbest: 1672.9527181 (152)\ttotal: 2m 2s\tremaining: 37.7s\n",
      "153:\tlearn: 1539.2487183\ttest: 1672.2933644\tbest: 1672.2933644 (153)\ttotal: 2m 3s\tremaining: 36.9s\n",
      "154:\tlearn: 1538.7297362\ttest: 1672.1366527\tbest: 1672.1366527 (154)\ttotal: 2m 4s\tremaining: 36.1s\n",
      "155:\tlearn: 1538.1880479\ttest: 1672.2908629\tbest: 1672.1366527 (154)\ttotal: 2m 5s\tremaining: 35.3s\n",
      "156:\tlearn: 1537.8483806\ttest: 1672.2320485\tbest: 1672.1366527 (154)\ttotal: 2m 6s\tremaining: 34.5s\n",
      "157:\tlearn: 1537.4843446\ttest: 1672.2148483\tbest: 1672.1366527 (154)\ttotal: 2m 6s\tremaining: 33.7s\n",
      "158:\tlearn: 1537.1000378\ttest: 1672.0191116\tbest: 1672.0191116 (158)\ttotal: 2m 7s\tremaining: 33s\n",
      "159:\tlearn: 1536.8304057\ttest: 1671.9915828\tbest: 1671.9915828 (159)\ttotal: 2m 8s\tremaining: 32.2s\n",
      "160:\tlearn: 1536.5551767\ttest: 1672.0021185\tbest: 1671.9915828 (159)\ttotal: 2m 9s\tremaining: 31.4s\n",
      "161:\tlearn: 1535.4607272\ttest: 1671.5192393\tbest: 1671.5192393 (161)\ttotal: 2m 10s\tremaining: 30.6s\n",
      "162:\tlearn: 1534.6570060\ttest: 1671.3643447\tbest: 1671.3643447 (162)\ttotal: 2m 11s\tremaining: 29.8s\n",
      "163:\tlearn: 1533.9001237\ttest: 1671.1642792\tbest: 1671.1642792 (163)\ttotal: 2m 12s\tremaining: 29s\n",
      "164:\tlearn: 1532.9850188\ttest: 1671.0254790\tbest: 1671.0254790 (164)\ttotal: 2m 12s\tremaining: 28.2s\n",
      "165:\tlearn: 1532.7564975\ttest: 1670.9974241\tbest: 1670.9974241 (165)\ttotal: 2m 13s\tremaining: 27.4s\n",
      "166:\tlearn: 1531.9404802\ttest: 1670.5851807\tbest: 1670.5851807 (166)\ttotal: 2m 14s\tremaining: 26.6s\n",
      "167:\tlearn: 1531.2200711\ttest: 1670.3849942\tbest: 1670.3849942 (167)\ttotal: 2m 15s\tremaining: 25.8s\n",
      "168:\tlearn: 1530.6219802\ttest: 1670.4109684\tbest: 1670.3849942 (167)\ttotal: 2m 16s\tremaining: 25s\n",
      "169:\tlearn: 1530.2129203\ttest: 1670.5662131\tbest: 1670.3849942 (167)\ttotal: 2m 17s\tremaining: 24.2s\n",
      "170:\tlearn: 1529.3273945\ttest: 1670.3273830\tbest: 1670.3273830 (170)\ttotal: 2m 18s\tremaining: 23.4s\n",
      "171:\tlearn: 1528.6209851\ttest: 1670.1528569\tbest: 1670.1528569 (171)\ttotal: 2m 18s\tremaining: 22.6s\n",
      "172:\tlearn: 1526.6133296\ttest: 1669.1630964\tbest: 1669.1630964 (172)\ttotal: 2m 19s\tremaining: 21.8s\n",
      "173:\tlearn: 1526.0478829\ttest: 1669.0952699\tbest: 1669.0952699 (173)\ttotal: 2m 20s\tremaining: 21s\n",
      "174:\tlearn: 1525.3874743\ttest: 1669.0106989\tbest: 1669.0106989 (174)\ttotal: 2m 21s\tremaining: 20.2s\n",
      "175:\tlearn: 1524.1189665\ttest: 1668.3632328\tbest: 1668.3632328 (175)\ttotal: 2m 22s\tremaining: 19.4s\n",
      "176:\tlearn: 1523.6178167\ttest: 1668.2651021\tbest: 1668.2651021 (176)\ttotal: 2m 23s\tremaining: 18.6s\n",
      "177:\tlearn: 1522.1699014\ttest: 1667.9756484\tbest: 1667.9756484 (177)\ttotal: 2m 23s\tremaining: 17.8s\n",
      "178:\tlearn: 1521.0207385\ttest: 1667.6108789\tbest: 1667.6108789 (178)\ttotal: 2m 24s\tremaining: 17s\n",
      "179:\tlearn: 1520.4896346\ttest: 1667.7952209\tbest: 1667.6108789 (178)\ttotal: 2m 25s\tremaining: 16.2s\n",
      "180:\tlearn: 1519.9006091\ttest: 1667.6530612\tbest: 1667.6108789 (178)\ttotal: 2m 26s\tremaining: 15.4s\n",
      "181:\tlearn: 1519.1284788\ttest: 1667.1468064\tbest: 1667.1468064 (181)\ttotal: 2m 27s\tremaining: 14.6s\n",
      "182:\tlearn: 1517.4925700\ttest: 1666.0548643\tbest: 1666.0548643 (182)\ttotal: 2m 27s\tremaining: 13.7s\n",
      "183:\tlearn: 1517.1863051\ttest: 1665.9088199\tbest: 1665.9088199 (183)\ttotal: 2m 28s\tremaining: 12.9s\n",
      "184:\tlearn: 1516.4217951\ttest: 1665.6220075\tbest: 1665.6220075 (184)\ttotal: 2m 29s\tremaining: 12.1s\n",
      "185:\tlearn: 1515.3611312\ttest: 1665.3583589\tbest: 1665.3583589 (185)\ttotal: 2m 30s\tremaining: 11.3s\n",
      "186:\tlearn: 1514.4469440\ttest: 1665.3380137\tbest: 1665.3380137 (186)\ttotal: 2m 31s\tremaining: 10.5s\n",
      "187:\tlearn: 1514.0975764\ttest: 1665.0838228\tbest: 1665.0838228 (187)\ttotal: 2m 32s\tremaining: 9.71s\n",
      "188:\tlearn: 1513.5122351\ttest: 1664.8435019\tbest: 1664.8435019 (188)\ttotal: 2m 33s\tremaining: 8.91s\n",
      "189:\tlearn: 1513.4165224\ttest: 1664.8730637\tbest: 1664.8435019 (188)\ttotal: 2m 33s\tremaining: 8.1s\n",
      "190:\tlearn: 1513.3138890\ttest: 1664.8816148\tbest: 1664.8435019 (188)\ttotal: 2m 34s\tremaining: 7.29s\n",
      "191:\tlearn: 1512.9050393\ttest: 1664.8374909\tbest: 1664.8374909 (191)\ttotal: 2m 35s\tremaining: 6.49s\n",
      "192:\tlearn: 1512.6763160\ttest: 1664.7965987\tbest: 1664.7965987 (192)\ttotal: 2m 36s\tremaining: 5.68s\n",
      "193:\tlearn: 1512.2019323\ttest: 1664.7356443\tbest: 1664.7356443 (193)\ttotal: 2m 37s\tremaining: 4.87s\n",
      "194:\tlearn: 1511.3438113\ttest: 1664.6359989\tbest: 1664.6359989 (194)\ttotal: 2m 38s\tremaining: 4.06s\n",
      "195:\tlearn: 1510.8959511\ttest: 1664.4643221\tbest: 1664.4643221 (195)\ttotal: 2m 39s\tremaining: 3.25s\n",
      "196:\tlearn: 1510.0492437\ttest: 1664.2511218\tbest: 1664.2511218 (196)\ttotal: 2m 39s\tremaining: 2.44s\n",
      "197:\tlearn: 1509.7189916\ttest: 1664.1563694\tbest: 1664.1563694 (197)\ttotal: 2m 40s\tremaining: 1.62s\n",
      "198:\tlearn: 1508.7028272\ttest: 1664.2948745\tbest: 1664.1563694 (197)\ttotal: 2m 41s\tremaining: 812ms\n",
      "199:\tlearn: 1507.8766783\ttest: 1664.3169269\tbest: 1664.1563694 (197)\ttotal: 2m 42s\tremaining: 0us\n",
      "\n",
      "bestTest = 1664.156369\n",
      "bestIteration = 197\n",
      "\n",
      "Shrink model to first 198 iterations.\n",
      "Model is fitted: True\n",
      "Model params:\n",
      "{'iterations': 200, 'learning_rate': 0.3, 'depth': 10, 'loss_function': 'RMSE', 'early_stopping_rounds': 20}\n",
      "CPU times: user 2min 27s, sys: 15.1 s, total: 2min 42s\n",
      "Wall time: 2min 44s\n"
     ]
    }
   ],
   "source": [
    "%%time\n",
    "model_CBR = CatBoostRegressor(\n",
    "    depth=10,\n",
    "    iterations=200,\n",
    "    learning_rate=0.3,\n",
    "    early_stopping_rounds=20\n",
    ")\n",
    "\n",
    "model_CBR.fit(\n",
    "    train_pool,\n",
    "    eval_set=validation_pool,\n",
    "    verbose=True\n",
    ")\n",
    "\n",
    "print('Model is fitted: {}'.format(model_CBR.is_fitted()))\n",
    "print('Model params:\\n{}'.format(model_CBR.get_params()))"
   ]
  },
  {
   "cell_type": "markdown",
   "metadata": {},
   "source": [
    "**RandomForest**"
   ]
  },
  {
   "cell_type": "code",
   "execution_count": 23,
   "metadata": {},
   "outputs": [],
   "source": [
    "df_ohe = pd.get_dummies(df_clear)"
   ]
  },
  {
   "cell_type": "code",
   "execution_count": 24,
   "metadata": {},
   "outputs": [],
   "source": [
    "trainX,testX,trainY,testY = train_test_split(df_ohe.drop(\"Price\",axis = 1),\n",
    "                                             df_ohe[\"Price\"],\n",
    "                                             train_size=0.8, random_state=30\n",
    "                                            )"
   ]
  },
  {
   "cell_type": "code",
   "execution_count": 41,
   "metadata": {},
   "outputs": [
    {
     "name": "stdout",
     "output_type": "stream",
     "text": [
      "CPU times: user 12min 15s, sys: 0 ns, total: 12min 15s\n",
      "Wall time: 12min 22s\n"
     ]
    },
    {
     "data": {
      "text/plain": [
       "RandomForestRegressor(bootstrap=True, criterion='mse', max_depth=None,\n",
       "                      max_features='auto', max_leaf_nodes=None,\n",
       "                      min_impurity_decrease=0.0, min_impurity_split=None,\n",
       "                      min_samples_leaf=1, min_samples_split=2,\n",
       "                      min_weight_fraction_leaf=0.0, n_estimators=200,\n",
       "                      n_jobs=None, oob_score=False, random_state=None,\n",
       "                      verbose=0, warm_start=False)"
      ]
     },
     "execution_count": 41,
     "metadata": {},
     "output_type": "execute_result"
    }
   ],
   "source": [
    "%%time\n",
    "RF = RandomForestRegressor(criterion = \"mse\", n_estimators = 200)\n",
    "RF.fit(trainX,trainY)"
   ]
  },
  {
   "cell_type": "markdown",
   "metadata": {},
   "source": [
    "**LightGBM**"
   ]
  },
  {
   "cell_type": "code",
   "execution_count": 45,
   "metadata": {
    "scrolled": true
   },
   "outputs": [
    {
     "name": "stdout",
     "output_type": "stream",
     "text": [
      "[10]\tvalid_0's rmse: 1984.29\tvalid_0's l2: 3.9374e+06\n",
      "[20]\tvalid_0's rmse: 1834.92\tvalid_0's l2: 3.36694e+06\n",
      "[30]\tvalid_0's rmse: 1785.85\tvalid_0's l2: 3.18928e+06\n",
      "[40]\tvalid_0's rmse: 1753.77\tvalid_0's l2: 3.0757e+06\n",
      "[50]\tvalid_0's rmse: 1732.44\tvalid_0's l2: 3.00136e+06\n",
      "[60]\tvalid_0's rmse: 1715.29\tvalid_0's l2: 2.94223e+06\n",
      "[70]\tvalid_0's rmse: 1702.67\tvalid_0's l2: 2.8991e+06\n",
      "[80]\tvalid_0's rmse: 1691.73\tvalid_0's l2: 2.86194e+06\n",
      "[90]\tvalid_0's rmse: 1682.29\tvalid_0's l2: 2.83009e+06\n",
      "[100]\tvalid_0's rmse: 1673.04\tvalid_0's l2: 2.79907e+06\n",
      "[110]\tvalid_0's rmse: 1665.48\tvalid_0's l2: 2.77383e+06\n",
      "[120]\tvalid_0's rmse: 1658.8\tvalid_0's l2: 2.75161e+06\n",
      "[130]\tvalid_0's rmse: 1653.08\tvalid_0's l2: 2.73269e+06\n",
      "[140]\tvalid_0's rmse: 1648.84\tvalid_0's l2: 2.71868e+06\n",
      "[150]\tvalid_0's rmse: 1644.06\tvalid_0's l2: 2.70292e+06\n",
      "[160]\tvalid_0's rmse: 1642.24\tvalid_0's l2: 2.69694e+06\n",
      "[170]\tvalid_0's rmse: 1638.34\tvalid_0's l2: 2.68415e+06\n",
      "[180]\tvalid_0's rmse: 1634.36\tvalid_0's l2: 2.67114e+06\n",
      "[190]\tvalid_0's rmse: 1632.51\tvalid_0's l2: 2.6651e+06\n",
      "[200]\tvalid_0's rmse: 1629.43\tvalid_0's l2: 2.65504e+06\n",
      "CPU times: user 10.9 s, sys: 104 ms, total: 11 s\n",
      "Wall time: 11.2 s\n"
     ]
    },
    {
     "data": {
      "text/plain": [
       "LGBMRegressor(boosting_type='gbdt', class_weight=None, colsample_bytree=1.0,\n",
       "              depth=10, importance_type='split', learning_rate=0.3,\n",
       "              max_depth=-1, min_child_samples=20, min_child_weight=0.001,\n",
       "              min_split_gain=0.0, n_estimators=200, n_jobs=-1, num_leaves=31,\n",
       "              objective=None, random_state=42, reg_alpha=0.0, reg_lambda=0.0,\n",
       "              silent=True, subsample=1.0, subsample_for_bin=200000,\n",
       "              subsample_freq=0)"
      ]
     },
     "execution_count": 45,
     "metadata": {},
     "output_type": "execute_result"
    }
   ],
   "source": [
    "%%time\n",
    "modelLight = LGBMRegressor(\n",
    "    depth = 10,\n",
    "    n_estimators = 200, \n",
    "    learning_rate = 0.3, \n",
    "    random_state = 42, \n",
    ")\n",
    "\n",
    "modelLight.fit(\n",
    "    trainX, trainY, \n",
    "    eval_set = (testX, testY), \n",
    "    eval_metric = 'RMSE', \n",
    "    verbose = 10\n",
    ")"
   ]
  },
  {
   "cell_type": "code",
   "execution_count": 34,
   "metadata": {},
   "outputs": [
    {
     "name": "stdout",
     "output_type": "stream",
     "text": [
      "CPU times: user 25.2 s, sys: 140 ms, total: 25.3 s\n",
      "Wall time: 25.7 s\n"
     ]
    },
    {
     "data": {
      "text/plain": [
       "1712.8663013170371"
      ]
     },
     "execution_count": 34,
     "metadata": {},
     "output_type": "execute_result"
    }
   ],
   "source": [
    "%%time\n",
    "\n",
    "for X in [X_train, X_validation]:\n",
    "    for cat in ['VehicleType', 'Gearbox', 'Model', 'FuelType', 'Brand', 'NotRepaired']:\n",
    "        X[cat] = X[cat].astype('category')\n",
    "    \n",
    "modelLight = LGBMRegressor(\n",
    "    depth = 5,\n",
    "    n_estimators = 50, \n",
    "    learning_rate = 0.3, \n",
    "    random_state = 42, \n",
    ")\n",
    "\n",
    "modelLight.fit(\n",
    "    X_train, y_train,\n",
    "    verbose = 10\n",
    ")\n",
    "\n",
    "mean_squared_error(y_validation, modelLight.predict(X_validation))**(.5)"
   ]
  },
  {
   "cell_type": "markdown",
   "metadata": {},
   "source": [
    "### Время предсказания разных моделей"
   ]
  },
  {
   "cell_type": "markdown",
   "metadata": {},
   "source": [
    "**CatBoost**"
   ]
  },
  {
   "cell_type": "code",
   "execution_count": 47,
   "metadata": {},
   "outputs": [
    {
     "name": "stdout",
     "output_type": "stream",
     "text": [
      "RMSE CatBoost:  1664.1563694240124\n",
      "CPU times: user 316 ms, sys: 0 ns, total: 316 ms\n",
      "Wall time: 279 ms\n"
     ]
    }
   ],
   "source": [
    "%%time \n",
    "cat_pred = model_CBR.predict(X_validation)\n",
    "print(\"RMSE CatBoost: \", mean_squared_error(y_validation, cat_pred)**(.5))"
   ]
  },
  {
   "cell_type": "markdown",
   "metadata": {},
   "source": [
    "**RandomForest**"
   ]
  },
  {
   "cell_type": "code",
   "execution_count": 48,
   "metadata": {},
   "outputs": [
    {
     "name": "stdout",
     "output_type": "stream",
     "text": [
      "RMSE RandomForest: 1639.096202494774\n",
      "CPU times: user 4.89 s, sys: 0 ns, total: 4.89 s\n",
      "Wall time: 5.09 s\n"
     ]
    }
   ],
   "source": [
    "%%time\n",
    "RF_pred = RF.predict(testX)\n",
    "print(\"RMSE RandomForest:\",mean_squared_error(testY, RF_pred)**(.5))"
   ]
  },
  {
   "cell_type": "markdown",
   "metadata": {},
   "source": [
    "**LightGBM**"
   ]
  },
  {
   "cell_type": "code",
   "execution_count": 45,
   "metadata": {},
   "outputs": [
    {
     "name": "stdout",
     "output_type": "stream",
     "text": [
      "RMSE RandomForest: 1646.3048187640022\n",
      "CPU times: user 675 ms, sys: 0 ns, total: 675 ms\n",
      "Wall time: 672 ms\n"
     ]
    }
   ],
   "source": [
    "%%time\n",
    "Light_pred = modelLight.predict(testX)\n",
    "print(\"RMSE RandomForest:\",mean_squared_error(testY, Light_pred)**(.5))"
   ]
  },
  {
   "cell_type": "markdown",
   "metadata": {},
   "source": [
    "## Анализ моделей"
   ]
  },
  {
   "cell_type": "markdown",
   "metadata": {},
   "source": [
    "Обучили 3 модели с одинаковыми гипепараметрами. Таким образом CatBoost и LightGBM оба показали очень неплохие результаты , где у каждой есть превохсодства над другой моделью. Обе показали вполне неплохие результыт RMSE. Однако показатели времени на обучение очень сильно отличаются в пользу LightGBM. RandomForest же обучался в разы медленей, но показатель RMSE тоже хороший\n",
    "\n",
    "Таким образом для данного проекта лучшей моделью будет являться LightGBM с глубиной в 10 , так как время на обучение намного мешь по сравнению с остальными, а показатель RMSE примерно на одном уровне с остальными"
   ]
  }
 ],
 "metadata": {
  "ExecuteTimeLog": [
   {
    "duration": 750,
    "start_time": "2021-10-08T19:08:35.500Z"
   },
   {
    "duration": 1557,
    "start_time": "2021-10-08T19:10:00.116Z"
   },
   {
    "duration": 30,
    "start_time": "2021-10-08T19:10:07.679Z"
   },
   {
    "duration": 161,
    "start_time": "2021-10-08T19:13:16.608Z"
   },
   {
    "duration": 760,
    "start_time": "2021-10-09T11:49:17.142Z"
   },
   {
    "duration": 1053,
    "start_time": "2021-10-09T11:49:17.905Z"
   },
   {
    "duration": 29,
    "start_time": "2021-10-09T11:49:18.961Z"
   },
   {
    "duration": 148,
    "start_time": "2021-10-09T11:54:18.788Z"
   },
   {
    "duration": 147,
    "start_time": "2021-10-09T12:02:43.934Z"
   },
   {
    "duration": 8014,
    "start_time": "2021-10-09T12:02:50.198Z"
   },
   {
    "duration": 151,
    "start_time": "2021-10-09T12:02:59.813Z"
   },
   {
    "duration": 3,
    "start_time": "2021-10-09T12:15:54.776Z"
   },
   {
    "duration": 1062,
    "start_time": "2021-10-09T12:15:55.950Z"
   },
   {
    "duration": 36,
    "start_time": "2021-10-09T12:50:13.533Z"
   },
   {
    "duration": 61,
    "start_time": "2021-10-09T12:50:32.986Z"
   },
   {
    "duration": 385,
    "start_time": "2021-10-09T12:57:40.109Z"
   },
   {
    "duration": 42,
    "start_time": "2021-10-09T12:57:46.563Z"
   },
   {
    "duration": 43,
    "start_time": "2021-10-09T12:58:21.219Z"
   },
   {
    "duration": 13,
    "start_time": "2021-10-09T12:58:43.099Z"
   },
   {
    "duration": 11,
    "start_time": "2021-10-09T12:59:02.385Z"
   },
   {
    "duration": 46,
    "start_time": "2021-10-09T12:59:20.036Z"
   },
   {
    "duration": 44,
    "start_time": "2021-10-09T12:59:57.956Z"
   },
   {
    "duration": 11,
    "start_time": "2021-10-09T13:00:14.796Z"
   },
   {
    "duration": 17,
    "start_time": "2021-10-09T13:00:47.083Z"
   },
   {
    "duration": 44,
    "start_time": "2021-10-09T13:01:23.756Z"
   },
   {
    "duration": 79,
    "start_time": "2021-10-09T13:01:56.500Z"
   },
   {
    "duration": 44,
    "start_time": "2021-10-09T13:02:21.261Z"
   },
   {
    "duration": 44,
    "start_time": "2021-10-09T13:15:53.712Z"
   },
   {
    "duration": 44,
    "start_time": "2021-10-09T13:15:55.831Z"
   },
   {
    "duration": 54,
    "start_time": "2021-10-09T13:17:42.133Z"
   },
   {
    "duration": 804,
    "start_time": "2021-10-09T13:23:25.677Z"
   },
   {
    "duration": 6735,
    "start_time": "2021-10-09T13:50:38.907Z"
   },
   {
    "duration": 6511,
    "start_time": "2021-10-09T13:51:13.527Z"
   },
   {
    "duration": 6471,
    "start_time": "2021-10-09T13:51:26.063Z"
   },
   {
    "duration": 2737,
    "start_time": "2021-10-09T13:55:30.055Z"
   },
   {
    "duration": 2891,
    "start_time": "2021-10-09T13:55:53.103Z"
   },
   {
    "duration": 105,
    "start_time": "2021-10-09T14:21:57.308Z"
   },
   {
    "duration": 219,
    "start_time": "2021-10-09T14:22:19.050Z"
   },
   {
    "duration": 2768,
    "start_time": "2021-10-09T14:25:31.739Z"
   },
   {
    "duration": 553,
    "start_time": "2021-10-09T14:28:07.453Z"
   },
   {
    "duration": 111,
    "start_time": "2021-10-09T14:29:13.451Z"
   },
   {
    "duration": 697,
    "start_time": "2021-10-09T14:31:21.218Z"
   },
   {
    "duration": 234,
    "start_time": "2021-10-09T14:32:32.801Z"
   },
   {
    "duration": 685,
    "start_time": "2021-10-09T14:36:35.150Z"
   },
   {
    "duration": 650,
    "start_time": "2021-10-09T14:36:41.596Z"
   },
   {
    "duration": 112,
    "start_time": "2021-10-09T14:56:06.209Z"
   },
   {
    "duration": 355,
    "start_time": "2021-10-09T14:56:16.237Z"
   },
   {
    "duration": 355,
    "start_time": "2021-10-09T14:58:27.285Z"
   },
   {
    "duration": 293,
    "start_time": "2021-10-09T14:58:48.910Z"
   },
   {
    "duration": 284,
    "start_time": "2021-10-09T15:08:11.615Z"
   },
   {
    "duration": 441,
    "start_time": "2021-10-09T15:09:15.906Z"
   },
   {
    "duration": 393,
    "start_time": "2021-10-09T15:09:29.126Z"
   },
   {
    "duration": 338,
    "start_time": "2021-10-09T15:09:35.615Z"
   },
   {
    "duration": 627,
    "start_time": "2021-10-09T15:09:55.635Z"
   },
   {
    "duration": 503,
    "start_time": "2021-10-09T15:13:03.128Z"
   },
   {
    "duration": 620,
    "start_time": "2021-10-09T15:13:13.977Z"
   },
   {
    "duration": 634,
    "start_time": "2021-10-09T15:15:28.016Z"
   },
   {
    "duration": 332,
    "start_time": "2021-10-09T15:29:46.398Z"
   },
   {
    "duration": 328,
    "start_time": "2021-10-09T15:31:52.095Z"
   },
   {
    "duration": 375,
    "start_time": "2021-10-09T15:32:06.914Z"
   },
   {
    "duration": 731,
    "start_time": "2021-10-09T15:33:15.234Z"
   },
   {
    "duration": 1496,
    "start_time": "2021-10-09T15:43:11.825Z"
   },
   {
    "duration": 1065,
    "start_time": "2021-10-09T15:43:13.323Z"
   },
   {
    "duration": 24,
    "start_time": "2021-10-09T15:43:14.391Z"
   },
   {
    "duration": 181,
    "start_time": "2021-10-09T15:43:14.418Z"
   },
   {
    "duration": 161,
    "start_time": "2021-10-09T15:43:14.602Z"
   },
   {
    "duration": 48,
    "start_time": "2021-10-09T15:43:14.765Z"
   },
   {
    "duration": 256,
    "start_time": "2021-10-09T15:43:14.816Z"
   },
   {
    "duration": 98,
    "start_time": "2021-10-09T15:43:15.076Z"
   },
   {
    "duration": 402,
    "start_time": "2021-10-09T15:43:15.176Z"
   },
   {
    "duration": 663,
    "start_time": "2021-10-09T15:43:15.581Z"
   },
   {
    "duration": 388,
    "start_time": "2021-10-09T15:43:16.247Z"
   },
   {
    "duration": 753,
    "start_time": "2021-10-09T15:43:16.637Z"
   },
   {
    "duration": 712,
    "start_time": "2021-10-09T15:52:18.297Z"
   },
   {
    "duration": 522,
    "start_time": "2021-10-09T15:53:17.018Z"
   },
   {
    "duration": 756,
    "start_time": "2021-10-09T15:53:39.618Z"
   },
   {
    "duration": 34,
    "start_time": "2021-10-09T15:55:46.665Z"
   },
   {
    "duration": 1467,
    "start_time": "2021-10-09T15:56:52.159Z"
   },
   {
    "duration": 1082,
    "start_time": "2021-10-09T15:56:53.629Z"
   },
   {
    "duration": 24,
    "start_time": "2021-10-09T15:56:54.714Z"
   },
   {
    "duration": 175,
    "start_time": "2021-10-09T15:56:54.741Z"
   },
   {
    "duration": 156,
    "start_time": "2021-10-09T15:56:54.919Z"
   },
   {
    "duration": 49,
    "start_time": "2021-10-09T15:56:55.077Z"
   },
   {
    "duration": 258,
    "start_time": "2021-10-09T15:56:55.128Z"
   },
   {
    "duration": 101,
    "start_time": "2021-10-09T15:56:55.390Z"
   },
   {
    "duration": 393,
    "start_time": "2021-10-09T15:56:55.494Z"
   },
   {
    "duration": 663,
    "start_time": "2021-10-09T15:56:55.889Z"
   },
   {
    "duration": 403,
    "start_time": "2021-10-09T15:56:56.558Z"
   },
   {
    "duration": 687,
    "start_time": "2021-10-09T15:56:56.963Z"
   },
   {
    "duration": 657,
    "start_time": "2021-10-09T15:56:57.653Z"
   },
   {
    "duration": 47,
    "start_time": "2021-10-09T15:56:58.312Z"
   },
   {
    "duration": 183,
    "start_time": "2021-10-09T16:07:21.208Z"
   },
   {
    "duration": 525,
    "start_time": "2021-10-09T17:37:42.724Z"
   },
   {
    "duration": 21,
    "start_time": "2021-10-09T17:38:02.993Z"
   },
   {
    "duration": 16,
    "start_time": "2021-10-09T17:38:22.939Z"
   },
   {
    "duration": 95,
    "start_time": "2021-10-09T17:38:55.497Z"
   },
   {
    "duration": 21,
    "start_time": "2021-10-09T17:39:05.025Z"
   },
   {
    "duration": 486,
    "start_time": "2021-10-09T17:50:12.883Z"
   },
   {
    "duration": 983,
    "start_time": "2021-10-09T17:52:44.762Z"
   },
   {
    "duration": 277,
    "start_time": "2021-10-11T10:33:47.073Z"
   },
   {
    "duration": 1233,
    "start_time": "2021-10-11T10:34:05.183Z"
   },
   {
    "duration": 808,
    "start_time": "2021-10-11T10:34:06.417Z"
   },
   {
    "duration": 19,
    "start_time": "2021-10-11T10:34:07.227Z"
   },
   {
    "duration": 130,
    "start_time": "2021-10-11T10:34:07.248Z"
   },
   {
    "duration": 120,
    "start_time": "2021-10-11T10:34:07.380Z"
   },
   {
    "duration": 33,
    "start_time": "2021-10-11T10:34:07.502Z"
   },
   {
    "duration": 167,
    "start_time": "2021-10-11T10:34:07.537Z"
   },
   {
    "duration": 79,
    "start_time": "2021-10-11T10:34:07.706Z"
   },
   {
    "duration": 250,
    "start_time": "2021-10-11T10:34:07.787Z"
   },
   {
    "duration": 416,
    "start_time": "2021-10-11T10:34:08.039Z"
   },
   {
    "duration": 248,
    "start_time": "2021-10-11T10:34:08.458Z"
   },
   {
    "duration": 397,
    "start_time": "2021-10-11T10:34:08.708Z"
   },
   {
    "duration": 466,
    "start_time": "2021-10-11T10:34:09.106Z"
   },
   {
    "duration": 22,
    "start_time": "2021-10-11T10:34:09.574Z"
   },
   {
    "duration": 49,
    "start_time": "2021-10-11T10:34:09.598Z"
   },
   {
    "duration": 179,
    "start_time": "2021-10-11T10:34:09.648Z"
   },
   {
    "duration": 28,
    "start_time": "2021-10-11T10:37:55.879Z"
   },
   {
    "duration": 76,
    "start_time": "2021-10-11T10:37:56.638Z"
   },
   {
    "duration": 2,
    "start_time": "2021-10-11T10:40:56.879Z"
   },
   {
    "duration": 848,
    "start_time": "2021-10-11T11:12:26.830Z"
   },
   {
    "duration": 2,
    "start_time": "2021-10-11T11:13:13.644Z"
   },
   {
    "duration": 3,
    "start_time": "2021-10-11T11:16:14.611Z"
   },
   {
    "duration": 3,
    "start_time": "2021-10-11T11:16:51.772Z"
   },
   {
    "duration": 78,
    "start_time": "2021-10-11T11:16:52.595Z"
   },
   {
    "duration": 4285,
    "start_time": "2021-10-11T11:17:13.308Z"
   },
   {
    "duration": 4087,
    "start_time": "2021-10-11T11:18:37.293Z"
   },
   {
    "duration": 3,
    "start_time": "2021-10-11T11:19:52.198Z"
   },
   {
    "duration": 2,
    "start_time": "2021-10-11T11:20:13.292Z"
   },
   {
    "duration": 3,
    "start_time": "2021-10-11T11:21:11.009Z"
   },
   {
    "duration": 75,
    "start_time": "2021-10-11T11:23:05.565Z"
   },
   {
    "duration": 3,
    "start_time": "2021-10-11T11:23:12.885Z"
   },
   {
    "duration": 233,
    "start_time": "2021-10-11T11:25:04.588Z"
   },
   {
    "duration": 3,
    "start_time": "2021-10-11T11:25:07.668Z"
   },
   {
    "duration": 3,
    "start_time": "2021-10-11T11:25:08.444Z"
   },
   {
    "duration": 3,
    "start_time": "2021-10-11T11:26:44.229Z"
   },
   {
    "duration": 2,
    "start_time": "2021-10-11T11:26:51.029Z"
   },
   {
    "duration": 1187,
    "start_time": "2021-10-11T11:26:59.816Z"
   },
   {
    "duration": 707,
    "start_time": "2021-10-11T11:27:01.004Z"
   },
   {
    "duration": 15,
    "start_time": "2021-10-11T11:27:01.713Z"
   },
   {
    "duration": 114,
    "start_time": "2021-10-11T11:27:01.730Z"
   },
   {
    "duration": 116,
    "start_time": "2021-10-11T11:27:01.846Z"
   },
   {
    "duration": 31,
    "start_time": "2021-10-11T11:27:01.963Z"
   },
   {
    "duration": 151,
    "start_time": "2021-10-11T11:27:01.995Z"
   },
   {
    "duration": 67,
    "start_time": "2021-10-11T11:27:02.150Z"
   },
   {
    "duration": 232,
    "start_time": "2021-10-11T11:27:02.219Z"
   },
   {
    "duration": 396,
    "start_time": "2021-10-11T11:27:02.453Z"
   },
   {
    "duration": 224,
    "start_time": "2021-10-11T11:27:02.850Z"
   },
   {
    "duration": 377,
    "start_time": "2021-10-11T11:27:03.075Z"
   },
   {
    "duration": 432,
    "start_time": "2021-10-11T11:27:03.454Z"
   },
   {
    "duration": 22,
    "start_time": "2021-10-11T11:27:03.887Z"
   },
   {
    "duration": 25,
    "start_time": "2021-10-11T11:27:03.910Z"
   },
   {
    "duration": 75,
    "start_time": "2021-10-11T11:27:03.937Z"
   },
   {
    "duration": 2,
    "start_time": "2021-10-11T11:27:04.014Z"
   },
   {
    "duration": 26,
    "start_time": "2021-10-11T11:27:04.018Z"
   },
   {
    "duration": 19,
    "start_time": "2021-10-11T11:27:04.046Z"
   },
   {
    "duration": 28,
    "start_time": "2021-10-11T11:27:04.067Z"
   },
   {
    "duration": 314,
    "start_time": "2021-10-11T11:28:52.723Z"
   },
   {
    "duration": 3,
    "start_time": "2021-10-11T11:31:20.546Z"
   },
   {
    "duration": 4,
    "start_time": "2021-10-11T11:31:21.465Z"
   },
   {
    "duration": 2,
    "start_time": "2021-10-11T11:31:22.035Z"
   },
   {
    "duration": 301,
    "start_time": "2021-10-11T11:32:05.379Z"
   },
   {
    "duration": 3,
    "start_time": "2021-10-11T11:34:02.634Z"
   },
   {
    "duration": 3,
    "start_time": "2021-10-11T11:34:03.106Z"
   },
   {
    "duration": 224,
    "start_time": "2021-10-11T11:34:03.587Z"
   },
   {
    "duration": 257,
    "start_time": "2021-10-11T11:34:07.227Z"
   },
   {
    "duration": 3,
    "start_time": "2021-10-11T11:35:03.851Z"
   },
   {
    "duration": 286,
    "start_time": "2021-10-11T11:35:06.122Z"
   },
   {
    "duration": 4,
    "start_time": "2021-10-11T11:39:43.845Z"
   },
   {
    "duration": 85,
    "start_time": "2021-10-11T11:40:03.653Z"
   },
   {
    "duration": 3,
    "start_time": "2021-10-11T11:41:03.577Z"
   },
   {
    "duration": 3,
    "start_time": "2021-10-11T11:41:06.746Z"
   },
   {
    "duration": 299,
    "start_time": "2021-10-11T11:41:09.858Z"
   },
   {
    "duration": 2,
    "start_time": "2021-10-11T11:42:07.322Z"
   },
   {
    "duration": 4,
    "start_time": "2021-10-11T11:42:08.254Z"
   },
   {
    "duration": 3,
    "start_time": "2021-10-11T11:42:35.967Z"
   },
   {
    "duration": 219,
    "start_time": "2021-10-11T11:42:45.816Z"
   },
   {
    "duration": 4286,
    "start_time": "2021-10-11T11:52:54.220Z"
   },
   {
    "duration": 4522,
    "start_time": "2021-10-11T11:53:23.014Z"
   },
   {
    "duration": 794,
    "start_time": "2021-10-11T12:02:59.541Z"
   },
   {
    "duration": 587,
    "start_time": "2021-10-11T12:04:36.516Z"
   },
   {
    "duration": 234,
    "start_time": "2021-10-11T12:05:35.295Z"
   },
   {
    "duration": 3881,
    "start_time": "2021-10-11T12:06:09.853Z"
   },
   {
    "duration": 4639,
    "start_time": "2021-10-11T12:06:27.862Z"
   },
   {
    "duration": 233,
    "start_time": "2021-10-11T13:09:31.372Z"
   },
   {
    "duration": 269,
    "start_time": "2021-10-11T13:11:52.867Z"
   },
   {
    "duration": 5801,
    "start_time": "2021-10-11T13:13:50.868Z"
   },
   {
    "duration": 1389,
    "start_time": "2021-10-11T13:16:03.824Z"
   },
   {
    "duration": 868,
    "start_time": "2021-10-11T13:16:05.215Z"
   },
   {
    "duration": 16,
    "start_time": "2021-10-11T13:16:06.085Z"
   },
   {
    "duration": 138,
    "start_time": "2021-10-11T13:16:06.103Z"
   },
   {
    "duration": 136,
    "start_time": "2021-10-11T13:16:06.244Z"
   },
   {
    "duration": 35,
    "start_time": "2021-10-11T13:16:06.382Z"
   },
   {
    "duration": 192,
    "start_time": "2021-10-11T13:16:06.419Z"
   },
   {
    "duration": 88,
    "start_time": "2021-10-11T13:16:06.614Z"
   },
   {
    "duration": 266,
    "start_time": "2021-10-11T13:16:06.704Z"
   },
   {
    "duration": 446,
    "start_time": "2021-10-11T13:16:06.972Z"
   },
   {
    "duration": 273,
    "start_time": "2021-10-11T13:16:07.420Z"
   },
   {
    "duration": 446,
    "start_time": "2021-10-11T13:16:07.695Z"
   },
   {
    "duration": 503,
    "start_time": "2021-10-11T13:16:08.142Z"
   },
   {
    "duration": 31,
    "start_time": "2021-10-11T13:16:08.648Z"
   },
   {
    "duration": 13,
    "start_time": "2021-10-11T13:16:08.681Z"
   },
   {
    "duration": 7072,
    "start_time": "2021-10-11T13:16:08.696Z"
   },
   {
    "duration": -48,
    "start_time": "2021-10-11T13:16:15.818Z"
   },
   {
    "duration": -56,
    "start_time": "2021-10-11T13:16:15.827Z"
   },
   {
    "duration": -58,
    "start_time": "2021-10-11T13:16:15.830Z"
   },
   {
    "duration": -60,
    "start_time": "2021-10-11T13:16:15.833Z"
   },
   {
    "duration": -67,
    "start_time": "2021-10-11T13:16:15.842Z"
   },
   {
    "duration": 38,
    "start_time": "2021-10-11T13:20:44.169Z"
   },
   {
    "duration": 6296,
    "start_time": "2021-10-11T13:23:45.531Z"
   },
   {
    "duration": -61,
    "start_time": "2021-10-11T13:23:51.890Z"
   },
   {
    "duration": 1243,
    "start_time": "2021-10-11T13:24:21.003Z"
   },
   {
    "duration": 875,
    "start_time": "2021-10-11T13:24:22.248Z"
   },
   {
    "duration": 19,
    "start_time": "2021-10-11T13:24:23.126Z"
   },
   {
    "duration": 141,
    "start_time": "2021-10-11T13:24:23.147Z"
   },
   {
    "duration": 128,
    "start_time": "2021-10-11T13:24:23.290Z"
   },
   {
    "duration": 47,
    "start_time": "2021-10-11T13:24:23.420Z"
   },
   {
    "duration": 171,
    "start_time": "2021-10-11T13:24:23.469Z"
   },
   {
    "duration": 76,
    "start_time": "2021-10-11T13:24:23.642Z"
   },
   {
    "duration": 252,
    "start_time": "2021-10-11T13:24:23.720Z"
   },
   {
    "duration": 434,
    "start_time": "2021-10-11T13:24:23.974Z"
   },
   {
    "duration": 271,
    "start_time": "2021-10-11T13:24:24.410Z"
   },
   {
    "duration": 435,
    "start_time": "2021-10-11T13:24:24.682Z"
   },
   {
    "duration": 529,
    "start_time": "2021-10-11T13:24:25.119Z"
   },
   {
    "duration": 28,
    "start_time": "2021-10-11T13:24:25.651Z"
   },
   {
    "duration": 6254,
    "start_time": "2021-10-11T13:24:25.681Z"
   },
   {
    "duration": -51,
    "start_time": "2021-10-11T13:24:31.988Z"
   },
   {
    "duration": -59,
    "start_time": "2021-10-11T13:24:31.997Z"
   },
   {
    "duration": -60,
    "start_time": "2021-10-11T13:24:32.000Z"
   },
   {
    "duration": -62,
    "start_time": "2021-10-11T13:24:32.003Z"
   },
   {
    "duration": -70,
    "start_time": "2021-10-11T13:24:32.012Z"
   },
   {
    "duration": -72,
    "start_time": "2021-10-11T13:24:32.015Z"
   },
   {
    "duration": 11,
    "start_time": "2021-10-11T13:25:39.522Z"
   },
   {
    "duration": 6437,
    "start_time": "2021-10-11T13:26:21.477Z"
   },
   {
    "duration": 431,
    "start_time": "2021-10-11T13:28:10.161Z"
   },
   {
    "duration": 26,
    "start_time": "2021-10-11T13:28:17.050Z"
   },
   {
    "duration": 12,
    "start_time": "2021-10-11T13:28:25.307Z"
   },
   {
    "duration": 6930,
    "start_time": "2021-10-11T13:29:01.658Z"
   },
   {
    "duration": 16,
    "start_time": "2021-10-11T13:29:39.563Z"
   },
   {
    "duration": 6611,
    "start_time": "2021-10-11T13:29:41.840Z"
   },
   {
    "duration": 7335,
    "start_time": "2021-10-11T13:30:36.809Z"
   },
   {
    "duration": 13,
    "start_time": "2021-10-11T13:33:29.410Z"
   },
   {
    "duration": 8082,
    "start_time": "2021-10-11T13:41:30.895Z"
   },
   {
    "duration": 1446,
    "start_time": "2021-10-11T13:46:49.615Z"
   },
   {
    "duration": 841,
    "start_time": "2021-10-11T13:46:51.063Z"
   },
   {
    "duration": 19,
    "start_time": "2021-10-11T13:46:51.906Z"
   },
   {
    "duration": 136,
    "start_time": "2021-10-11T13:46:51.927Z"
   },
   {
    "duration": 128,
    "start_time": "2021-10-11T13:46:52.065Z"
   },
   {
    "duration": 36,
    "start_time": "2021-10-11T13:46:52.194Z"
   },
   {
    "duration": 178,
    "start_time": "2021-10-11T13:46:52.232Z"
   },
   {
    "duration": 78,
    "start_time": "2021-10-11T13:46:52.412Z"
   },
   {
    "duration": 269,
    "start_time": "2021-10-11T13:46:52.492Z"
   },
   {
    "duration": 418,
    "start_time": "2021-10-11T13:46:52.762Z"
   },
   {
    "duration": 247,
    "start_time": "2021-10-11T13:46:53.182Z"
   },
   {
    "duration": 402,
    "start_time": "2021-10-11T13:46:53.431Z"
   },
   {
    "duration": 486,
    "start_time": "2021-10-11T13:46:53.836Z"
   },
   {
    "duration": 37,
    "start_time": "2021-10-11T13:46:54.325Z"
   },
   {
    "duration": 12,
    "start_time": "2021-10-11T13:46:54.364Z"
   },
   {
    "duration": 15,
    "start_time": "2021-10-11T13:46:54.378Z"
   },
   {
    "duration": 20,
    "start_time": "2021-10-11T13:46:54.395Z"
   },
   {
    "duration": 8544,
    "start_time": "2021-10-11T13:46:54.417Z"
   },
   {
    "duration": -47,
    "start_time": "2021-10-11T13:47:03.010Z"
   },
   {
    "duration": -50,
    "start_time": "2021-10-11T13:47:03.015Z"
   },
   {
    "duration": -57,
    "start_time": "2021-10-11T13:47:03.023Z"
   },
   {
    "duration": -57,
    "start_time": "2021-10-11T13:47:03.025Z"
   },
   {
    "duration": -58,
    "start_time": "2021-10-11T13:47:03.028Z"
   },
   {
    "duration": 518,
    "start_time": "2021-10-11T13:51:01.268Z"
   },
   {
    "duration": 3,
    "start_time": "2021-10-11T13:52:54.883Z"
   },
   {
    "duration": 584,
    "start_time": "2021-10-11T13:52:55.461Z"
   },
   {
    "duration": 240,
    "start_time": "2021-10-11T13:57:38.122Z"
   },
   {
    "duration": 2,
    "start_time": "2021-10-11T13:57:42.280Z"
   },
   {
    "duration": 4,
    "start_time": "2021-10-11T13:57:42.871Z"
   },
   {
    "duration": 308167,
    "start_time": "2021-10-11T13:57:43.641Z"
   },
   {
    "duration": 3,
    "start_time": "2021-10-11T14:04:21.122Z"
   },
   {
    "duration": 3,
    "start_time": "2021-10-11T14:04:21.705Z"
   },
   {
    "duration": 3146810,
    "start_time": "2021-10-11T14:04:22.474Z"
   },
   {
    "duration": 4,
    "start_time": "2021-10-11T14:57:06.800Z"
   },
   {
    "duration": 2352748,
    "start_time": "2021-10-11T14:57:08.255Z"
   },
   {
    "duration": 583,
    "start_time": "2021-10-11T15:49:11.310Z"
   },
   {
    "duration": 6,
    "start_time": "2021-10-11T15:52:12.546Z"
   },
   {
    "duration": 192,
    "start_time": "2021-10-11T16:16:49.512Z"
   },
   {
    "duration": 554,
    "start_time": "2021-10-11T16:17:53.497Z"
   },
   {
    "duration": 3,
    "start_time": "2021-10-11T16:19:16.207Z"
   },
   {
    "duration": 757,
    "start_time": "2021-10-11T16:19:19.468Z"
   },
   {
    "duration": 18,
    "start_time": "2021-10-11T16:19:20.227Z"
   },
   {
    "duration": 132,
    "start_time": "2021-10-11T16:19:21.301Z"
   },
   {
    "duration": 113,
    "start_time": "2021-10-11T16:19:24.219Z"
   },
   {
    "duration": 1254,
    "start_time": "2021-10-11T16:19:57.811Z"
   },
   {
    "duration": 822,
    "start_time": "2021-10-11T16:19:59.070Z"
   },
   {
    "duration": 15,
    "start_time": "2021-10-11T16:19:59.894Z"
   },
   {
    "duration": 138,
    "start_time": "2021-10-11T16:19:59.911Z"
   },
   {
    "duration": 125,
    "start_time": "2021-10-11T16:20:00.050Z"
   },
   {
    "duration": 38,
    "start_time": "2021-10-11T16:20:00.177Z"
   },
   {
    "duration": 177,
    "start_time": "2021-10-11T16:20:00.217Z"
   },
   {
    "duration": 79,
    "start_time": "2021-10-11T16:20:00.396Z"
   },
   {
    "duration": 247,
    "start_time": "2021-10-11T16:20:00.477Z"
   },
   {
    "duration": 421,
    "start_time": "2021-10-11T16:20:00.726Z"
   },
   {
    "duration": 256,
    "start_time": "2021-10-11T16:20:01.149Z"
   },
   {
    "duration": 415,
    "start_time": "2021-10-11T16:20:01.408Z"
   },
   {
    "duration": 561,
    "start_time": "2021-10-11T16:20:01.825Z"
   },
   {
    "duration": 26,
    "start_time": "2021-10-11T16:20:02.388Z"
   },
   {
    "duration": 12,
    "start_time": "2021-10-11T16:20:02.416Z"
   },
   {
    "duration": 12,
    "start_time": "2021-10-11T16:20:02.445Z"
   },
   {
    "duration": 22,
    "start_time": "2021-10-11T16:20:02.459Z"
   },
   {
    "duration": 3,
    "start_time": "2021-10-11T16:20:02.483Z"
   },
   {
    "duration": 573,
    "start_time": "2021-10-11T16:20:02.488Z"
   },
   {
    "duration": 4,
    "start_time": "2021-10-11T16:20:03.062Z"
   },
   {
    "duration": 7,
    "start_time": "2021-10-11T16:20:03.068Z"
   },
   {
    "duration": 126140,
    "start_time": "2021-10-11T16:20:03.076Z"
   },
   {
    "duration": -45,
    "start_time": "2021-10-11T16:22:09.263Z"
   },
   {
    "duration": -47,
    "start_time": "2021-10-11T16:22:09.266Z"
   },
   {
    "duration": 174602,
    "start_time": "2021-10-11T16:22:17.047Z"
   },
   {
    "duration": 173029,
    "start_time": "2021-10-11T16:25:39.872Z"
   },
   {
    "duration": 74,
    "start_time": "2021-10-11T16:35:54.551Z"
   },
   {
    "duration": 435,
    "start_time": "2021-10-11T16:36:45.096Z"
   },
   {
    "duration": 250,
    "start_time": "2021-10-11T16:37:39.952Z"
   },
   {
    "duration": 355,
    "start_time": "2021-10-11T16:37:53.423Z"
   },
   {
    "duration": 597,
    "start_time": "2021-10-11T16:38:01.648Z"
   },
   {
    "duration": 568,
    "start_time": "2021-10-11T16:39:39.960Z"
   },
   {
    "duration": 572,
    "start_time": "2021-10-11T16:39:51.192Z"
   },
   {
    "duration": 389603,
    "start_time": "2021-10-11T16:42:31.006Z"
   },
   {
    "duration": 4,
    "start_time": "2021-10-11T17:27:08.871Z"
   },
   {
    "duration": 491,
    "start_time": "2021-10-11T17:48:01.208Z"
   },
   {
    "duration": 4,
    "start_time": "2021-10-11T17:51:55.264Z"
   },
   {
    "duration": 3,
    "start_time": "2021-10-11T17:53:21.337Z"
   },
   {
    "duration": 5,
    "start_time": "2021-10-11T17:53:27.151Z"
   },
   {
    "duration": 168,
    "start_time": "2021-10-11T17:53:39.568Z"
   },
   {
    "duration": 3,
    "start_time": "2021-10-11T17:54:40.464Z"
   },
   {
    "duration": 2,
    "start_time": "2021-10-11T17:54:42.744Z"
   },
   {
    "duration": 208,
    "start_time": "2021-10-11T17:54:43.712Z"
   },
   {
    "duration": 7,
    "start_time": "2021-10-11T17:55:11.351Z"
   },
   {
    "duration": 176,
    "start_time": "2021-10-11T17:55:17.062Z"
   },
   {
    "duration": 2,
    "start_time": "2021-10-11T17:55:37.431Z"
   },
   {
    "duration": 201,
    "start_time": "2021-10-11T17:55:38.208Z"
   },
   {
    "duration": 2,
    "start_time": "2021-10-11T17:56:48.552Z"
   },
   {
    "duration": 3,
    "start_time": "2021-10-11T17:56:50.783Z"
   },
   {
    "duration": 196,
    "start_time": "2021-10-11T17:56:51.912Z"
   },
   {
    "duration": 1111,
    "start_time": "2021-10-11T17:59:53.785Z"
   },
   {
    "duration": 4,
    "start_time": "2021-10-11T18:01:57.579Z"
   },
   {
    "duration": 299,
    "start_time": "2021-10-11T18:02:28.689Z"
   },
   {
    "duration": 3,
    "start_time": "2021-10-11T18:04:23.161Z"
   },
   {
    "duration": 4,
    "start_time": "2021-10-11T18:04:23.777Z"
   },
   {
    "duration": 3,
    "start_time": "2021-10-11T18:04:26.075Z"
   },
   {
    "duration": 263,
    "start_time": "2021-10-11T18:04:27.786Z"
   },
   {
    "duration": 248,
    "start_time": "2021-10-11T18:05:23.595Z"
   },
   {
    "duration": 230,
    "start_time": "2021-10-11T18:17:32.368Z"
   },
   {
    "duration": 231,
    "start_time": "2021-10-11T18:17:42.956Z"
   },
   {
    "duration": 4,
    "start_time": "2021-10-11T18:21:02.620Z"
   },
   {
    "duration": 246,
    "start_time": "2021-10-11T18:21:16.283Z"
   },
   {
    "duration": 4,
    "start_time": "2021-10-11T18:21:38.250Z"
   },
   {
    "duration": 3,
    "start_time": "2021-10-11T18:26:36.236Z"
   },
   {
    "duration": 4,
    "start_time": "2021-10-11T18:26:37.250Z"
   },
   {
    "duration": 268,
    "start_time": "2021-10-11T18:26:38.475Z"
   },
   {
    "duration": 288,
    "start_time": "2021-10-11T18:32:39.265Z"
   },
   {
    "duration": 214,
    "start_time": "2021-10-11T18:33:10.814Z"
   },
   {
    "duration": 4,
    "start_time": "2021-10-11T18:33:17.389Z"
   },
   {
    "duration": 5,
    "start_time": "2021-10-11T18:33:25.547Z"
   },
   {
    "duration": 145,
    "start_time": "2021-10-11T18:36:02.894Z"
   },
   {
    "duration": 264,
    "start_time": "2021-10-11T18:36:15.565Z"
   },
   {
    "duration": 3,
    "start_time": "2021-10-11T18:38:01.918Z"
   },
   {
    "duration": 4,
    "start_time": "2021-10-11T18:38:10.156Z"
   },
   {
    "duration": 270,
    "start_time": "2021-10-11T18:38:16.805Z"
   },
   {
    "duration": 4,
    "start_time": "2021-10-11T18:38:37.106Z"
   },
   {
    "duration": 3,
    "start_time": "2021-10-11T18:38:40.523Z"
   },
   {
    "duration": 2,
    "start_time": "2021-10-11T18:38:43.952Z"
   },
   {
    "duration": 3,
    "start_time": "2021-10-11T18:38:44.413Z"
   },
   {
    "duration": 3,
    "start_time": "2021-10-11T18:39:02.244Z"
   },
   {
    "duration": 4,
    "start_time": "2021-10-11T18:39:09.836Z"
   },
   {
    "duration": 4,
    "start_time": "2021-10-11T18:39:19.978Z"
   },
   {
    "duration": 4,
    "start_time": "2021-10-11T18:39:24.906Z"
   },
   {
    "duration": 458,
    "start_time": "2021-10-11T18:39:26.974Z"
   },
   {
    "duration": 68,
    "start_time": "2021-10-11T18:43:15.189Z"
   },
   {
    "duration": 68,
    "start_time": "2021-10-11T18:47:57.126Z"
   },
   {
    "duration": 63,
    "start_time": "2021-10-11T18:47:57.598Z"
   },
   {
    "duration": 3,
    "start_time": "2021-10-11T18:47:58.501Z"
   },
   {
    "duration": 4,
    "start_time": "2021-10-11T18:47:59.766Z"
   },
   {
    "duration": 4,
    "start_time": "2021-10-11T18:48:02.799Z"
   },
   {
    "duration": 441,
    "start_time": "2021-10-11T18:48:10.559Z"
   },
   {
    "duration": 86,
    "start_time": "2021-10-11T18:49:39.316Z"
   },
   {
    "duration": 61,
    "start_time": "2021-10-11T18:49:40.093Z"
   },
   {
    "duration": 3,
    "start_time": "2021-10-11T18:49:40.693Z"
   },
   {
    "duration": 3,
    "start_time": "2021-10-11T18:49:41.366Z"
   },
   {
    "duration": 4,
    "start_time": "2021-10-11T18:49:42.165Z"
   },
   {
    "duration": 260,
    "start_time": "2021-10-11T18:49:43.631Z"
   },
   {
    "duration": 3,
    "start_time": "2021-10-11T18:52:47.904Z"
   },
   {
    "duration": 8,
    "start_time": "2021-10-11T18:52:48.902Z"
   },
   {
    "duration": 4,
    "start_time": "2021-10-11T18:52:50.180Z"
   },
   {
    "duration": 218,
    "start_time": "2021-10-11T18:53:22.746Z"
   },
   {
    "duration": 230,
    "start_time": "2021-10-11T18:53:37.438Z"
   },
   {
    "duration": 227,
    "start_time": "2021-10-11T18:55:39.448Z"
   },
   {
    "duration": 226,
    "start_time": "2021-10-11T18:58:36.847Z"
   },
   {
    "duration": 270,
    "start_time": "2021-10-11T19:11:59.400Z"
   },
   {
    "duration": 333,
    "start_time": "2021-10-11T19:12:23.377Z"
   },
   {
    "duration": 504,
    "start_time": "2021-10-11T19:14:42.874Z"
   },
   {
    "duration": 213,
    "start_time": "2021-10-11T19:15:17.857Z"
   },
   {
    "duration": 219,
    "start_time": "2021-10-11T19:15:40.665Z"
   },
   {
    "duration": 408,
    "start_time": "2021-10-11T19:15:57.243Z"
   },
   {
    "duration": 216,
    "start_time": "2021-10-11T19:16:13.537Z"
   },
   {
    "duration": 265,
    "start_time": "2021-10-11T19:16:47.809Z"
   },
   {
    "duration": 7,
    "start_time": "2021-10-11T19:21:47.375Z"
   },
   {
    "duration": 236,
    "start_time": "2021-10-11T19:21:48.857Z"
   },
   {
    "duration": 4,
    "start_time": "2021-10-11T19:25:11.657Z"
   },
   {
    "duration": 273,
    "start_time": "2021-10-11T19:25:12.634Z"
   },
   {
    "duration": 527,
    "start_time": "2021-10-11T19:27:07.619Z"
   },
   {
    "duration": 2227,
    "start_time": "2021-10-11T19:27:21.439Z"
   },
   {
    "duration": 10925,
    "start_time": "2021-10-11T19:27:55.126Z"
   },
   {
    "duration": 10372,
    "start_time": "2021-10-11T19:30:26.081Z"
   },
   {
    "duration": 306,
    "start_time": "2021-10-11T19:42:38.157Z"
   },
   {
    "duration": 228,
    "start_time": "2021-10-11T19:54:06.536Z"
   },
   {
    "duration": 502,
    "start_time": "2021-10-11T19:54:59.182Z"
   },
   {
    "duration": 556,
    "start_time": "2021-10-11T19:55:19.126Z"
   },
   {
    "duration": 608,
    "start_time": "2021-10-11T19:56:18.894Z"
   },
   {
    "duration": 338,
    "start_time": "2021-10-11T20:02:07.918Z"
   },
   {
    "duration": 4,
    "start_time": "2021-10-11T20:03:53.377Z"
   },
   {
    "duration": 306,
    "start_time": "2021-10-11T20:04:08.154Z"
   },
   {
    "duration": 370,
    "start_time": "2021-10-11T20:07:27.389Z"
   },
   {
    "duration": 70,
    "start_time": "2021-10-11T20:08:12.648Z"
   },
   {
    "duration": 70,
    "start_time": "2021-10-11T20:09:55.552Z"
   },
   {
    "duration": 72,
    "start_time": "2021-10-11T20:11:14.161Z"
   },
   {
    "duration": 2635,
    "start_time": "2021-10-11T20:13:10.504Z"
   },
   {
    "duration": 158,
    "start_time": "2021-10-11T20:17:25.732Z"
   },
   {
    "duration": 2467,
    "start_time": "2021-10-11T20:18:04.277Z"
   },
   {
    "duration": 632,
    "start_time": "2021-10-11T20:19:58.217Z"
   },
   {
    "duration": 197,
    "start_time": "2021-10-11T20:30:15.468Z"
   },
   {
    "duration": 331,
    "start_time": "2021-10-11T20:30:37.329Z"
   },
   {
    "duration": 186,
    "start_time": "2021-10-11T20:30:42.170Z"
   },
   {
    "duration": 540,
    "start_time": "2021-10-11T20:35:32.290Z"
   },
   {
    "duration": 761445,
    "start_time": "2021-10-11T20:35:58.907Z"
   },
   {
    "duration": 4758,
    "start_time": "2021-10-11T20:55:08.016Z"
   },
   {
    "duration": 144,
    "start_time": "2021-10-11T21:08:03.782Z"
   },
   {
    "duration": 169246,
    "start_time": "2021-10-11T21:09:20.046Z"
   },
   {
    "duration": 337,
    "start_time": "2021-10-11T21:25:29.923Z"
   },
   {
    "duration": 4894,
    "start_time": "2021-10-11T21:30:23.025Z"
   },
   {
    "duration": 1139,
    "start_time": "2021-10-11T21:59:42.192Z"
   },
   {
    "duration": 748,
    "start_time": "2021-10-11T21:59:43.333Z"
   },
   {
    "duration": 17,
    "start_time": "2021-10-11T21:59:44.083Z"
   },
   {
    "duration": 128,
    "start_time": "2021-10-11T21:59:44.102Z"
   },
   {
    "duration": 124,
    "start_time": "2021-10-11T21:59:44.232Z"
   },
   {
    "duration": 36,
    "start_time": "2021-10-11T21:59:44.358Z"
   },
   {
    "duration": 156,
    "start_time": "2021-10-11T21:59:44.395Z"
   },
   {
    "duration": 65,
    "start_time": "2021-10-11T21:59:44.553Z"
   },
   {
    "duration": 237,
    "start_time": "2021-10-11T21:59:44.620Z"
   },
   {
    "duration": 390,
    "start_time": "2021-10-11T21:59:44.859Z"
   },
   {
    "duration": 231,
    "start_time": "2021-10-11T21:59:45.250Z"
   },
   {
    "duration": 394,
    "start_time": "2021-10-11T21:59:45.483Z"
   },
   {
    "duration": 457,
    "start_time": "2021-10-11T21:59:45.879Z"
   },
   {
    "duration": 30,
    "start_time": "2021-10-11T21:59:46.337Z"
   },
   {
    "duration": 10,
    "start_time": "2021-10-11T21:59:46.368Z"
   },
   {
    "duration": 14,
    "start_time": "2021-10-11T21:59:46.379Z"
   },
   {
    "duration": 19,
    "start_time": "2021-10-11T21:59:46.394Z"
   },
   {
    "duration": 4,
    "start_time": "2021-10-11T21:59:46.415Z"
   },
   {
    "duration": 554,
    "start_time": "2021-10-11T21:59:46.445Z"
   },
   {
    "duration": 2,
    "start_time": "2021-10-11T21:59:47.001Z"
   },
   {
    "duration": 26,
    "start_time": "2021-10-11T21:59:47.005Z"
   },
   {
    "duration": 2213457,
    "start_time": "2021-10-11T21:59:47.034Z"
   },
   {
    "duration": 170915,
    "start_time": "2021-10-11T22:36:40.499Z"
   },
   {
    "duration": 442,
    "start_time": "2021-10-11T22:39:31.416Z"
   },
   {
    "duration": 608,
    "start_time": "2021-10-11T22:39:31.860Z"
   },
   {
    "duration": 160592,
    "start_time": "2021-10-11T22:39:32.470Z"
   },
   {
    "duration": 2,
    "start_time": "2021-10-11T22:42:13.064Z"
   },
   {
    "duration": 10277,
    "start_time": "2021-10-11T22:42:13.068Z"
   },
   {
    "duration": 404,
    "start_time": "2021-10-11T22:42:23.347Z"
   },
   {
    "duration": 1223,
    "start_time": "2021-10-11T22:42:23.753Z"
   },
   {
    "duration": 667,
    "start_time": "2021-10-11T22:42:24.978Z"
   },
   {
    "duration": 7,
    "start_time": "2021-10-11T22:42:25.653Z"
   },
   {
    "duration": 44311,
    "start_time": "2021-10-11T22:45:14.499Z"
   },
   {
    "duration": 164540,
    "start_time": "2021-10-11T22:46:30.757Z"
   },
   {
    "duration": 303,
    "start_time": "2021-10-11T22:50:35.452Z"
   },
   {
    "duration": 383,
    "start_time": "2021-10-11T22:51:24.906Z"
   },
   {
    "duration": 780,
    "start_time": "2021-10-11T22:51:28.036Z"
   },
   {
    "duration": 742531,
    "start_time": "2021-10-11T22:51:55.470Z"
   },
   {
    "duration": 11115,
    "start_time": "2021-10-11T23:05:18.738Z"
   },
   {
    "duration": 264,
    "start_time": "2021-10-11T23:05:57.193Z"
   },
   {
    "duration": 4962,
    "start_time": "2021-10-11T23:05:58.814Z"
   },
   {
    "duration": 676,
    "start_time": "2021-10-11T23:06:03.778Z"
   },
   {
    "duration": 10770,
    "start_time": "2021-10-11T23:08:08.681Z"
   },
   {
    "duration": 283,
    "start_time": "2021-10-11T23:09:34.869Z"
   },
   {
    "duration": 5096,
    "start_time": "2021-10-11T23:09:41.998Z"
   },
   {
    "duration": 1283,
    "start_time": "2021-10-12T16:07:24.051Z"
   },
   {
    "duration": 779,
    "start_time": "2021-10-12T16:07:26.944Z"
   },
   {
    "duration": 17,
    "start_time": "2021-10-12T16:07:28.676Z"
   },
   {
    "duration": 118,
    "start_time": "2021-10-12T16:07:31.458Z"
   },
   {
    "duration": 115,
    "start_time": "2021-10-12T16:07:33.289Z"
   },
   {
    "duration": 34,
    "start_time": "2021-10-12T16:07:37.424Z"
   },
   {
    "duration": 190,
    "start_time": "2021-10-12T16:07:43.983Z"
   },
   {
    "duration": 63,
    "start_time": "2021-10-12T16:07:47.337Z"
   },
   {
    "duration": 240,
    "start_time": "2021-10-12T16:07:55.874Z"
   },
   {
    "duration": 392,
    "start_time": "2021-10-12T16:07:56.688Z"
   },
   {
    "duration": 245,
    "start_time": "2021-10-12T16:08:04.480Z"
   },
   {
    "duration": 386,
    "start_time": "2021-10-12T16:08:05.656Z"
   },
   {
    "duration": 465,
    "start_time": "2021-10-12T16:08:08.653Z"
   },
   {
    "duration": 21,
    "start_time": "2021-10-12T16:08:13.152Z"
   },
   {
    "duration": 10,
    "start_time": "2021-10-12T16:08:16.489Z"
   },
   {
    "duration": 13,
    "start_time": "2021-10-12T16:08:18.592Z"
   },
   {
    "duration": 19,
    "start_time": "2021-10-12T16:08:19.048Z"
   },
   {
    "duration": 4,
    "start_time": "2021-10-12T16:08:19.521Z"
   },
   {
    "duration": 531,
    "start_time": "2021-10-12T16:08:23.384Z"
   },
   {
    "duration": 5,
    "start_time": "2021-10-12T16:08:36.432Z"
   },
   {
    "duration": 3,
    "start_time": "2021-10-12T16:08:42.792Z"
   },
   {
    "duration": 389,
    "start_time": "2021-10-12T16:08:46.249Z"
   },
   {
    "duration": 143,
    "start_time": "2021-10-12T16:29:54.508Z"
   },
   {
    "duration": 289,
    "start_time": "2021-10-12T16:29:55.524Z"
   },
   {
    "duration": 131,
    "start_time": "2021-10-12T16:30:20.756Z"
   },
   {
    "duration": 288,
    "start_time": "2021-10-12T16:30:36.341Z"
   },
   {
    "duration": 232,
    "start_time": "2021-10-12T16:43:39.295Z"
   },
   {
    "duration": 17,
    "start_time": "2021-10-12T16:48:33.412Z"
   },
   {
    "duration": 7810,
    "start_time": "2021-10-12T16:48:43.964Z"
   },
   {
    "duration": 18,
    "start_time": "2021-10-12T16:48:57.933Z"
   },
   {
    "duration": 19,
    "start_time": "2021-10-12T16:49:14.044Z"
   },
   {
    "duration": 22,
    "start_time": "2021-10-12T16:49:34.782Z"
   },
   {
    "duration": 29,
    "start_time": "2021-10-12T16:50:36.590Z"
   },
   {
    "duration": 381,
    "start_time": "2021-10-12T16:58:30.312Z"
   },
   {
    "duration": 4,
    "start_time": "2021-10-12T16:59:09.357Z"
   },
   {
    "duration": 321,
    "start_time": "2021-10-12T16:59:24.343Z"
   },
   {
    "duration": 687,
    "start_time": "2021-10-12T17:00:34.311Z"
   },
   {
    "duration": 205,
    "start_time": "2021-10-12T17:00:39.645Z"
   },
   {
    "duration": 236,
    "start_time": "2021-10-12T17:01:31.485Z"
   },
   {
    "duration": 244,
    "start_time": "2021-10-12T17:03:10.166Z"
   },
   {
    "duration": 287,
    "start_time": "2021-10-12T17:04:21.613Z"
   },
   {
    "duration": 301,
    "start_time": "2021-10-12T17:04:30.984Z"
   },
   {
    "duration": 28,
    "start_time": "2021-10-12T17:04:40.183Z"
   },
   {
    "duration": 53,
    "start_time": "2021-10-12T17:04:45.406Z"
   },
   {
    "duration": 11191,
    "start_time": "2021-10-12T17:04:58.394Z"
   },
   {
    "duration": 114,
    "start_time": "2021-10-12T17:07:21.384Z"
   },
   {
    "duration": 1584,
    "start_time": "2021-10-12T18:52:38.228Z"
   },
   {
    "duration": 1202,
    "start_time": "2021-10-12T18:52:40.633Z"
   },
   {
    "duration": 25,
    "start_time": "2021-10-12T18:52:41.838Z"
   },
   {
    "duration": 162,
    "start_time": "2021-10-12T18:52:42.099Z"
   },
   {
    "duration": 152,
    "start_time": "2021-10-12T18:52:42.643Z"
   },
   {
    "duration": 49,
    "start_time": "2021-10-12T18:52:43.840Z"
   },
   {
    "duration": 229,
    "start_time": "2021-10-12T18:52:44.777Z"
   },
   {
    "duration": 76,
    "start_time": "2021-10-12T18:52:45.654Z"
   },
   {
    "duration": 423,
    "start_time": "2021-10-12T18:52:46.627Z"
   },
   {
    "duration": 692,
    "start_time": "2021-10-12T18:52:47.053Z"
   },
   {
    "duration": 394,
    "start_time": "2021-10-12T18:52:48.153Z"
   },
   {
    "duration": 665,
    "start_time": "2021-10-12T18:52:48.560Z"
   },
   {
    "duration": 753,
    "start_time": "2021-10-12T18:52:49.487Z"
   },
   {
    "duration": 26,
    "start_time": "2021-10-12T18:52:50.242Z"
   },
   {
    "duration": 21,
    "start_time": "2021-10-12T18:52:52.207Z"
   },
   {
    "duration": 18,
    "start_time": "2021-10-12T18:52:52.656Z"
   },
   {
    "duration": 28,
    "start_time": "2021-10-12T18:52:53.152Z"
   },
   {
    "duration": 5,
    "start_time": "2021-10-12T18:52:53.692Z"
   },
   {
    "duration": 826,
    "start_time": "2021-10-12T18:52:54.165Z"
   },
   {
    "duration": 4,
    "start_time": "2021-10-12T18:52:56.199Z"
   },
   {
    "duration": 5,
    "start_time": "2021-10-12T18:52:56.522Z"
   },
   {
    "duration": 13341,
    "start_time": "2021-10-12T18:52:57.197Z"
   },
   {
    "duration": 618,
    "start_time": "2021-10-12T18:53:20.181Z"
   },
   {
    "duration": 935,
    "start_time": "2021-10-12T18:53:20.802Z"
   },
   {
    "duration": 74,
    "start_time": "2021-10-12T18:53:56.754Z"
   },
   {
    "duration": 142,
    "start_time": "2021-10-12T18:56:41.072Z"
   },
   {
    "duration": 18,
    "start_time": "2021-10-12T18:56:47.508Z"
   },
   {
    "duration": 60639,
    "start_time": "2021-10-12T18:57:24.873Z"
   },
   {
    "duration": 19406,
    "start_time": "2021-10-12T18:58:27.035Z"
   },
   {
    "duration": 898,
    "start_time": "2021-10-12T18:58:52.652Z"
   },
   {
    "duration": 52,
    "start_time": "2021-10-12T18:59:33.646Z"
   },
   {
    "duration": 16,
    "start_time": "2021-10-12T18:59:39.698Z"
   },
   {
    "duration": 24927,
    "start_time": "2021-10-12T19:00:05.704Z"
   },
   {
    "duration": 25692,
    "start_time": "2021-10-12T19:00:56.940Z"
   }
  ],
  "kernelspec": {
   "display_name": "Python 3 (ipykernel)",
   "language": "python",
   "name": "python3"
  },
  "language_info": {
   "codemirror_mode": {
    "name": "ipython",
    "version": 3
   },
   "file_extension": ".py",
   "mimetype": "text/x-python",
   "name": "python",
   "nbconvert_exporter": "python",
   "pygments_lexer": "ipython3",
   "version": "3.9.6"
  },
  "toc": {
   "base_numbering": 1,
   "nav_menu": {},
   "number_sections": true,
   "sideBar": true,
   "skip_h1_title": true,
   "title_cell": "Table of Contents",
   "title_sidebar": "Contents",
   "toc_cell": false,
   "toc_position": {
    "height": "calc(100% - 180px)",
    "left": "10px",
    "top": "150px",
    "width": "366.4px"
   },
   "toc_section_display": true,
   "toc_window_display": true
  }
 },
 "nbformat": 4,
 "nbformat_minor": 2
}
