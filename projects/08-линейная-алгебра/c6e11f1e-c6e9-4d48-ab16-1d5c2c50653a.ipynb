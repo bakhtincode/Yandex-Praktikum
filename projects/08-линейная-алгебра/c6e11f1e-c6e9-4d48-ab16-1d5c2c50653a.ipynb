{
 "cells": [
  {
   "cell_type": "markdown",
   "metadata": {
    "toc": true
   },
   "source": [
    "<h1>Содержание<span class=\"tocSkip\"></span></h1>\n",
    "<div class=\"toc\"><ul class=\"toc-item\"><li><span><a href=\"#Загрузка-данных\" data-toc-modified-id=\"Загрузка-данных-1\"><span class=\"toc-item-num\">1&nbsp;&nbsp;</span>Загрузка данных</a></span></li><li><span><a href=\"#Умножение-матриц\" data-toc-modified-id=\"Умножение-матриц-2\"><span class=\"toc-item-num\">2&nbsp;&nbsp;</span>Умножение матриц</a></span></li><li><span><a href=\"#Алгоритм-преобразования\" data-toc-modified-id=\"Алгоритм-преобразования-3\"><span class=\"toc-item-num\">3&nbsp;&nbsp;</span>Алгоритм преобразования</a></span></li><li><span><a href=\"#Проверка-алгоритма\" data-toc-modified-id=\"Проверка-алгоритма-4\"><span class=\"toc-item-num\">4&nbsp;&nbsp;</span>Проверка алгоритма</a></span></li><li><span><a href=\"#Чек-лист-проверки\" data-toc-modified-id=\"Чек-лист-проверки-5\"><span class=\"toc-item-num\">5&nbsp;&nbsp;</span>Чек-лист проверки</a></span></li></ul></div>"
   ]
  },
  {
   "cell_type": "markdown",
   "metadata": {},
   "source": [
    "# Защита персональных данных клиентов"
   ]
  },
  {
   "cell_type": "markdown",
   "metadata": {},
   "source": [
    "Вам нужно защитить данные клиентов страховой компании «Хоть потоп». Разработайте такой метод преобразования данных, чтобы по ним было сложно восстановить персональную информацию. Обоснуйте корректность его работы.\n",
    "\n",
    "Нужно защитить данные, чтобы при преобразовании качество моделей машинного обучения не ухудшилось. Подбирать наилучшую модель не требуется."
   ]
  },
  {
   "cell_type": "markdown",
   "metadata": {},
   "source": [
    "## Загрузка данных"
   ]
  },
  {
   "cell_type": "code",
   "execution_count": 1,
   "metadata": {},
   "outputs": [],
   "source": [
    "import pandas as pd\n",
    "import numpy as np\n",
    "from sklearn.linear_model import LinearRegression\n",
    "\n",
    "import warnings\n",
    "warnings.filterwarnings('ignore')"
   ]
  },
  {
   "cell_type": "code",
   "execution_count": 2,
   "metadata": {},
   "outputs": [
    {
     "name": "stdout",
     "output_type": "stream",
     "text": [
      "<class 'pandas.core.frame.DataFrame'>\n",
      "RangeIndex: 5000 entries, 0 to 4999\n",
      "Data columns (total 5 columns):\n",
      "Пол                  5000 non-null int64\n",
      "Возраст              5000 non-null float64\n",
      "Зарплата             5000 non-null float64\n",
      "Члены семьи          5000 non-null int64\n",
      "Страховые выплаты    5000 non-null int64\n",
      "dtypes: float64(2), int64(3)\n",
      "memory usage: 195.4 KB\n"
     ]
    }
   ],
   "source": [
    "df_insurance = pd.read_csv('/datasets/insurance.csv')\n",
    "df_insurance.info()"
   ]
  },
  {
   "cell_type": "code",
   "execution_count": 3,
   "metadata": {},
   "outputs": [
    {
     "data": {
      "text/html": [
       "<div>\n",
       "<style scoped>\n",
       "    .dataframe tbody tr th:only-of-type {\n",
       "        vertical-align: middle;\n",
       "    }\n",
       "\n",
       "    .dataframe tbody tr th {\n",
       "        vertical-align: top;\n",
       "    }\n",
       "\n",
       "    .dataframe thead th {\n",
       "        text-align: right;\n",
       "    }\n",
       "</style>\n",
       "<table border=\"1\" class=\"dataframe\">\n",
       "  <thead>\n",
       "    <tr style=\"text-align: right;\">\n",
       "      <th></th>\n",
       "      <th>Пол</th>\n",
       "      <th>Возраст</th>\n",
       "      <th>Зарплата</th>\n",
       "      <th>Члены семьи</th>\n",
       "      <th>Страховые выплаты</th>\n",
       "    </tr>\n",
       "  </thead>\n",
       "  <tbody>\n",
       "    <tr>\n",
       "      <td>0</td>\n",
       "      <td>1</td>\n",
       "      <td>41.0</td>\n",
       "      <td>49600.0</td>\n",
       "      <td>1</td>\n",
       "      <td>0</td>\n",
       "    </tr>\n",
       "    <tr>\n",
       "      <td>1</td>\n",
       "      <td>0</td>\n",
       "      <td>46.0</td>\n",
       "      <td>38000.0</td>\n",
       "      <td>1</td>\n",
       "      <td>1</td>\n",
       "    </tr>\n",
       "    <tr>\n",
       "      <td>2</td>\n",
       "      <td>0</td>\n",
       "      <td>29.0</td>\n",
       "      <td>21000.0</td>\n",
       "      <td>0</td>\n",
       "      <td>0</td>\n",
       "    </tr>\n",
       "    <tr>\n",
       "      <td>3</td>\n",
       "      <td>0</td>\n",
       "      <td>21.0</td>\n",
       "      <td>41700.0</td>\n",
       "      <td>2</td>\n",
       "      <td>0</td>\n",
       "    </tr>\n",
       "    <tr>\n",
       "      <td>4</td>\n",
       "      <td>1</td>\n",
       "      <td>28.0</td>\n",
       "      <td>26100.0</td>\n",
       "      <td>0</td>\n",
       "      <td>0</td>\n",
       "    </tr>\n",
       "  </tbody>\n",
       "</table>\n",
       "</div>"
      ],
      "text/plain": [
       "   Пол  Возраст  Зарплата  Члены семьи  Страховые выплаты\n",
       "0    1     41.0   49600.0            1                  0\n",
       "1    0     46.0   38000.0            1                  1\n",
       "2    0     29.0   21000.0            0                  0\n",
       "3    0     21.0   41700.0            2                  0\n",
       "4    1     28.0   26100.0            0                  0"
      ]
     },
     "execution_count": 3,
     "metadata": {},
     "output_type": "execute_result"
    }
   ],
   "source": [
    "df_insurance.head()"
   ]
  },
  {
   "cell_type": "code",
   "execution_count": 4,
   "metadata": {},
   "outputs": [
    {
     "data": {
      "text/plain": [
       "((5000, 4), (5000,))"
      ]
     },
     "execution_count": 4,
     "metadata": {},
     "output_type": "execute_result"
    }
   ],
   "source": [
    "X = df_insurance.drop(\"Страховые выплаты\", axis=1)\n",
    "y = df_insurance[\"Страховые выплаты\"]\n",
    "\n",
    "X.shape, y.shape"
   ]
  },
  {
   "cell_type": "code",
   "execution_count": 5,
   "metadata": {},
   "outputs": [
    {
     "data": {
      "text/plain": [
       "array([[-0.20222004,  1.49939626, -0.39792496, -0.44967674],\n",
       "       [-4.10882628, -0.16913741,  0.19003704,  3.18735886],\n",
       "       [ 3.13098381, -0.39626886, -0.02779655, -1.12125569],\n",
       "       [ 1.48717466, -0.52993717,  1.1561362 , -1.39238051]])"
      ]
     },
     "execution_count": 5,
     "metadata": {},
     "output_type": "execute_result"
    }
   ],
   "source": [
    "INV = np.random.rand(4,4)\n",
    "\n",
    "# Проверим, обратима ли матрица\n",
    "np.linalg.inv(INV)"
   ]
  },
  {
   "cell_type": "code",
   "execution_count": 6,
   "metadata": {},
   "outputs": [],
   "source": [
    "def predict_and_r2_score(x, y):\n",
    "    lr = LinearRegression()\n",
    "    lr.fit(x, y)\n",
    "    r2 = lr.score(x, y)\n",
    "    return r2"
   ]
  },
  {
   "cell_type": "code",
   "execution_count": 7,
   "metadata": {},
   "outputs": [
    {
     "data": {
      "text/plain": [
       "0.42494550286668"
      ]
     },
     "execution_count": 7,
     "metadata": {},
     "output_type": "execute_result"
    }
   ],
   "source": [
    "# r2 для обычной матрицы признаков\n",
    "predict_and_r2_score(X, y)"
   ]
  },
  {
   "cell_type": "code",
   "execution_count": 8,
   "metadata": {
    "scrolled": true
   },
   "outputs": [
    {
     "data": {
      "text/plain": [
       "0.42494550286666755"
      ]
     },
     "execution_count": 8,
     "metadata": {},
     "output_type": "execute_result"
    }
   ],
   "source": [
    "# r2 для X * Inv\n",
    "X_inv = X @ INV\n",
    "predict_and_r2_score(X_inv, y)"
   ]
  },
  {
   "cell_type": "markdown",
   "metadata": {},
   "source": [
    "**Вывод:** качество линейной регрессии никак не меняется."
   ]
  },
  {
   "cell_type": "markdown",
   "metadata": {},
   "source": [
    "## Умножение матриц"
   ]
  },
  {
   "cell_type": "markdown",
   "metadata": {},
   "source": [
    "В этом задании вы можете записывать формулы в *Jupyter Notebook.*\n",
    "\n",
    "Чтобы записать формулу внутри текста, окружите её символами доллара \\\\$; если снаружи —  двойными символами \\\\$\\\\$. Эти формулы записываются на языке вёрстки *LaTeX.* \n",
    "\n",
    "Для примера мы записали формулы линейной регрессии. Можете их скопировать и отредактировать, чтобы решить задачу.\n",
    "\n",
    "Работать в *LaTeX* необязательно."
   ]
  },
  {
   "cell_type": "markdown",
   "metadata": {},
   "source": [
    "Обозначения:\n",
    "\n",
    "- $X$ — матрица признаков (нулевой столбец состоит из единиц)\n",
    "\n",
    "- $y$ — вектор целевого признака\n",
    "\n",
    "- $P$ — матрица, на которую умножаются признаки\n",
    "\n",
    "- $w$ — вектор весов линейной регрессии (нулевой элемент равен сдвигу)"
   ]
  },
  {
   "cell_type": "markdown",
   "metadata": {},
   "source": [
    "Предсказания:\n",
    "\n",
    "$$\n",
    "a = Xw\n",
    "$$\n",
    "\n",
    "Задача обучения:\n",
    "\n",
    "$$\n",
    "w = \\arg\\min_w MSE(Xw, y)\n",
    "$$\n",
    "\n",
    "Формула обучения:\n",
    "\n",
    "$$\n",
    "w = (X^T X)^{-1} X^T y\n",
    "$$"
   ]
  },
  {
   "cell_type": "markdown",
   "metadata": {},
   "source": [
    "**Ответ:** $R^2$ не изменяется\n",
    "\n",
    "**Обоснование:** \\\n",
    "Если любую матрицу A умножить на единичную (или наоборот), получится эта же матрица A: **AE = EA = A**\\\n",
    "Обратная для квадратной матрицы A (англ. inverse matrix) — матрица A с верхним индексом -1, произведение которой на А равно единичной матрице. Умножение может быть в любом порядке: **$AA^{-1} = A^{-1}A = E$**\n",
    "Так же нам пригодятся следующие свойства матриц:$ (AB)^T=B^TA^T $, $ (AB)^{-1}=B^{-1}A^{-1} $\n",
    "\n",
    "Предположим что a = a', где a' - это предсказание, в которое мы передали матрицу признаков X, умноженную на матрицу \n",
    "$$\n",
    "a = Xw\n",
    "$$\n",
    "$$\n",
    "a' = X'w'\n",
    "$$\n",
    "$$\n",
    "X' = XP\n",
    "$$\n",
    "\n",
    "Составим уравнение для предсказания a' для матрицы ХР\n",
    "$$\n",
    "a' = (XP)((XP)^T XP)^{-1} (XP)^T y)\n",
    "$$\n",
    "\n",
    "Преобразуем уравнение с помощью свойства $ (AB)^T=B^TA^T $\n",
    "$$\n",
    "a' = (XP)(P^TX^T XP)^{-1} (P^TX^T y)\n",
    "$$\n",
    "\n",
    "Преобразуем уравнение с помощью свойства $ (AB)^{-1}=B^{-1}A^{-1} $\n",
    "$$\n",
    "a' = XP(X^T XP)^{-1}(P^T)^{-1} (P^TX^T y) = XPP^{-1}(X^T X)^{-1}(P^T)^{-1}P^TX^T y\n",
    "$$\n",
    "\n",
    "Преобразуем уравнение с помощью свойства $AA^{-1} = A^{-1}A = E$ и сократим его\n",
    "$$\n",
    "a' = XE(X^T X)^{-1}EX^Ty = X(X^T X)^{-1}X^Ty\n",
    "$$"
   ]
  },
  {
   "cell_type": "markdown",
   "metadata": {},
   "source": [
    "Т.к. $a = X(X^T X)^{-1}X^Ty$, можно утверждать что $a' = a, w' = w$"
   ]
  },
  {
   "cell_type": "markdown",
   "metadata": {},
   "source": [
    "## Алгоритм преобразования"
   ]
  },
  {
   "cell_type": "markdown",
   "metadata": {},
   "source": [
    "**Обоснование**\n",
    "\n",
    "\n",
    "    Умножим матрицу признаков на 55555\n",
    "    вычтем из матрицы 777\n",
    "    Умножим на 3\n",
    "    Умножим на случайную обратимую матрицу A\n"
   ]
  },
  {
   "cell_type": "markdown",
   "metadata": {},
   "source": [
    "## Проверка алгоритма"
   ]
  },
  {
   "cell_type": "code",
   "execution_count": 9,
   "metadata": {},
   "outputs": [
    {
     "data": {
      "text/html": [
       "<div>\n",
       "<style scoped>\n",
       "    .dataframe tbody tr th:only-of-type {\n",
       "        vertical-align: middle;\n",
       "    }\n",
       "\n",
       "    .dataframe tbody tr th {\n",
       "        vertical-align: top;\n",
       "    }\n",
       "\n",
       "    .dataframe thead th {\n",
       "        text-align: right;\n",
       "    }\n",
       "</style>\n",
       "<table border=\"1\" class=\"dataframe\">\n",
       "  <thead>\n",
       "    <tr style=\"text-align: right;\">\n",
       "      <th></th>\n",
       "      <th>0</th>\n",
       "      <th>1</th>\n",
       "      <th>2</th>\n",
       "      <th>3</th>\n",
       "    </tr>\n",
       "  </thead>\n",
       "  <tbody>\n",
       "    <tr>\n",
       "      <td>0</td>\n",
       "      <td>4.267375e+09</td>\n",
       "      <td>5.227776e+09</td>\n",
       "      <td>3.411456e+09</td>\n",
       "      <td>7.841665e+09</td>\n",
       "    </tr>\n",
       "    <tr>\n",
       "      <td>1</td>\n",
       "      <td>3.271615e+09</td>\n",
       "      <td>4.006152e+09</td>\n",
       "      <td>2.614731e+09</td>\n",
       "      <td>6.008365e+09</td>\n",
       "    </tr>\n",
       "    <tr>\n",
       "      <td>2</td>\n",
       "      <td>1.808523e+09</td>\n",
       "      <td>2.214109e+09</td>\n",
       "      <td>1.445183e+09</td>\n",
       "      <td>3.320567e+09</td>\n",
       "    </tr>\n",
       "    <tr>\n",
       "      <td>3</td>\n",
       "      <td>3.585623e+09</td>\n",
       "      <td>4.394280e+09</td>\n",
       "      <td>2.867094e+09</td>\n",
       "      <td>6.592092e+09</td>\n",
       "    </tr>\n",
       "    <tr>\n",
       "      <td>4</td>\n",
       "      <td>2.246523e+09</td>\n",
       "      <td>2.751314e+09</td>\n",
       "      <td>1.795630e+09</td>\n",
       "      <td>4.126644e+09</td>\n",
       "    </tr>\n",
       "  </tbody>\n",
       "</table>\n",
       "</div>"
      ],
      "text/plain": [
       "              0             1             2             3\n",
       "0  4.267375e+09  5.227776e+09  3.411456e+09  7.841665e+09\n",
       "1  3.271615e+09  4.006152e+09  2.614731e+09  6.008365e+09\n",
       "2  1.808523e+09  2.214109e+09  1.445183e+09  3.320567e+09\n",
       "3  3.585623e+09  4.394280e+09  2.867094e+09  6.592092e+09\n",
       "4  2.246523e+09  2.751314e+09  1.795630e+09  4.126644e+09"
      ]
     },
     "execution_count": 9,
     "metadata": {},
     "output_type": "execute_result"
    }
   ],
   "source": [
    "X_new = ((X*55555 - 777) * 3) @ INV\n",
    "\n",
    "X_new.head()"
   ]
  },
  {
   "cell_type": "code",
   "execution_count": 10,
   "metadata": {},
   "outputs": [
    {
     "data": {
      "text/plain": [
       "0.4249455028666741"
      ]
     },
     "execution_count": 10,
     "metadata": {},
     "output_type": "execute_result"
    }
   ],
   "source": [
    "predict_and_r2_score(X_new, y)"
   ]
  },
  {
   "cell_type": "markdown",
   "metadata": {},
   "source": [
    "**Вывод:** качество линейной регрессии никак не меняется."
   ]
  }
 ],
 "metadata": {
  "ExecuteTimeLog": [
   {
    "duration": 1306,
    "start_time": "2021-08-31T15:20:16.074Z"
   },
   {
    "duration": 25,
    "start_time": "2021-08-31T15:21:23.155Z"
   },
   {
    "duration": 20,
    "start_time": "2021-08-31T15:21:49.701Z"
   },
   {
    "duration": 319,
    "start_time": "2021-09-27T12:25:02.724Z"
   },
   {
    "duration": 288,
    "start_time": "2021-09-27T12:25:25.934Z"
   },
   {
    "duration": 1319,
    "start_time": "2021-09-27T12:25:38.576Z"
   },
   {
    "duration": 27,
    "start_time": "2021-09-27T12:25:39.898Z"
   },
   {
    "duration": 22,
    "start_time": "2021-09-27T12:25:39.930Z"
   },
   {
    "duration": 29,
    "start_time": "2021-09-27T12:25:39.954Z"
   },
   {
    "duration": 4,
    "start_time": "2021-09-27T12:28:02.941Z"
   },
   {
    "duration": 24,
    "start_time": "2021-09-27T12:28:06.621Z"
   },
   {
    "duration": 12,
    "start_time": "2021-09-27T12:28:07.414Z"
   },
   {
    "duration": 7,
    "start_time": "2021-09-27T12:28:08.165Z"
   },
   {
    "duration": 7,
    "start_time": "2021-09-27T12:28:08.757Z"
   },
   {
    "duration": 4,
    "start_time": "2021-09-27T12:29:01.549Z"
   },
   {
    "duration": 77,
    "start_time": "2021-09-27T12:29:34.910Z"
   },
   {
    "duration": 14,
    "start_time": "2021-09-27T12:29:45.603Z"
   },
   {
    "duration": 26,
    "start_time": "2021-09-27T12:43:42.543Z"
   },
   {
    "duration": 14,
    "start_time": "2021-09-27T12:43:57.518Z"
   },
   {
    "duration": 88,
    "start_time": "2021-09-27T12:44:21.015Z"
   },
   {
    "duration": 23,
    "start_time": "2021-09-27T12:45:46.122Z"
   },
   {
    "duration": 19,
    "start_time": "2021-09-27T12:45:47.425Z"
   },
   {
    "duration": 30,
    "start_time": "2021-09-27T12:45:53.026Z"
   },
   {
    "duration": 14,
    "start_time": "2021-09-27T12:45:53.848Z"
   },
   {
    "duration": 21,
    "start_time": "2021-09-27T12:46:17.105Z"
   },
   {
    "duration": 26,
    "start_time": "2021-09-27T12:46:17.857Z"
   },
   {
    "duration": 1231,
    "start_time": "2021-09-27T21:13:57.539Z"
   },
   {
    "duration": 40,
    "start_time": "2021-09-27T21:13:58.771Z"
   },
   {
    "duration": 14,
    "start_time": "2021-09-27T21:13:58.932Z"
   },
   {
    "duration": 6,
    "start_time": "2021-09-27T21:13:59.120Z"
   },
   {
    "duration": 7,
    "start_time": "2021-09-27T21:13:59.301Z"
   },
   {
    "duration": 3,
    "start_time": "2021-09-27T21:13:59.493Z"
   },
   {
    "duration": 10,
    "start_time": "2021-09-27T21:13:59.867Z"
   },
   {
    "duration": 10,
    "start_time": "2021-09-27T21:14:00.853Z"
   },
   {
    "duration": 18,
    "start_time": "2021-09-27T21:24:00.554Z"
   },
   {
    "duration": 17,
    "start_time": "2021-09-27T21:24:00.752Z"
   }
  ],
  "kernelspec": {
   "display_name": "Python 3 (ipykernel)",
   "language": "python",
   "name": "python3"
  },
  "language_info": {
   "codemirror_mode": {
    "name": "ipython",
    "version": 3
   },
   "file_extension": ".py",
   "mimetype": "text/x-python",
   "name": "python",
   "nbconvert_exporter": "python",
   "pygments_lexer": "ipython3",
   "version": "3.9.6"
  },
  "toc": {
   "base_numbering": 1,
   "nav_menu": {},
   "number_sections": true,
   "sideBar": true,
   "skip_h1_title": true,
   "title_cell": "Содержание",
   "title_sidebar": "Contents",
   "toc_cell": true,
   "toc_position": {},
   "toc_section_display": true,
   "toc_window_display": true
  }
 },
 "nbformat": 4,
 "nbformat_minor": 2
}
